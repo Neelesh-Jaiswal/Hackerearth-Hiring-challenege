{
 "cells": [
  {
   "cell_type": "code",
   "execution_count": 1,
   "metadata": {},
   "outputs": [],
   "source": [
    "import pandas as pd\n",
    "\n",
    "pd.options.display.max_rows = None #to display all rows of a dataframe in the jupyter notebook\n",
    "pd.options.display.max_columns = None #to display all columns of a dataframe in the jupyter notebook\n",
    "pd.set_option('display.max_colwidth',None) #to display all the content of a cell of a dataframe in the jupyter notebook\n",
    "\n",
    "from IPython.core.interactiveshell import InteractiveShell\n",
    "InteractiveShell.ast_node_interactivity = \"all\" # to display multiple output in a single cell\n",
    "\n",
    "import numpy as np\n",
    "from sklearn.model_selection import train_test_split\n",
    "\n",
    "from lightgbm import LGBMRegressor as lgb\n",
    "from scipy.stats import randint as sp_randint\n",
    "from scipy.stats import uniform as sp_uniform\n",
    "from sklearn.model_selection import KFold\n",
    "from sklearn.model_selection import RandomizedSearchCV, GridSearchCV\n",
    "from sklearn.metrics import r2_score\n",
    "\n",
    "import matplotlib.pyplot as plt\n",
    "%matplotlib inline\n",
    "\n",
    "import seaborn as sns\n",
    "import itertools\n",
    "from scipy.stats import kurtosis, skew, norm\n",
    "\n",
    "import warnings\n",
    "warnings.filterwarnings('ignore')"
   ]
  },
  {
   "cell_type": "markdown",
   "metadata": {},
   "source": [
    "##### Lets check the train data.\n",
    "##### 'Customer ID' and 'Name' has high cardinality hence we will drop these columns\n",
    "##### In oder to differentiate the Train and Test data, we will add a new column 'Status' with two values 'Train' and 'Test'"
   ]
  },
  {
   "cell_type": "code",
   "execution_count": 2,
   "metadata": {},
   "outputs": [
    {
     "data": {
      "text/html": [
       "<div>\n",
       "<style scoped>\n",
       "    .dataframe tbody tr th:only-of-type {\n",
       "        vertical-align: middle;\n",
       "    }\n",
       "\n",
       "    .dataframe tbody tr th {\n",
       "        vertical-align: top;\n",
       "    }\n",
       "\n",
       "    .dataframe thead th {\n",
       "        text-align: right;\n",
       "    }\n",
       "</style>\n",
       "<table border=\"1\" class=\"dataframe\">\n",
       "  <thead>\n",
       "    <tr style=\"text-align: right;\">\n",
       "      <th></th>\n",
       "      <th>Gender</th>\n",
       "      <th>Age</th>\n",
       "      <th>Income (USD)</th>\n",
       "      <th>Income Stability</th>\n",
       "      <th>Profession</th>\n",
       "      <th>Type of Employment</th>\n",
       "      <th>Location</th>\n",
       "      <th>Loan Amount Request (USD)</th>\n",
       "      <th>Current Loan Expenses (USD)</th>\n",
       "      <th>Expense Type 1</th>\n",
       "      <th>Expense Type 2</th>\n",
       "      <th>Dependents</th>\n",
       "      <th>Credit Score</th>\n",
       "      <th>No. of Defaults</th>\n",
       "      <th>Has Active Credit Card</th>\n",
       "      <th>Property ID</th>\n",
       "      <th>Property Age</th>\n",
       "      <th>Property Type</th>\n",
       "      <th>Property Location</th>\n",
       "      <th>Co-Applicant</th>\n",
       "      <th>Property Price</th>\n",
       "      <th>Loan Sanction Amount (USD)</th>\n",
       "      <th>Status</th>\n",
       "    </tr>\n",
       "  </thead>\n",
       "  <tbody>\n",
       "    <tr>\n",
       "      <th>0</th>\n",
       "      <td>F</td>\n",
       "      <td>56</td>\n",
       "      <td>1933.05</td>\n",
       "      <td>Low</td>\n",
       "      <td>Working</td>\n",
       "      <td>Sales staff</td>\n",
       "      <td>Semi-Urban</td>\n",
       "      <td>72809.58</td>\n",
       "      <td>241.08</td>\n",
       "      <td>N</td>\n",
       "      <td>N</td>\n",
       "      <td>3.0</td>\n",
       "      <td>809.44</td>\n",
       "      <td>0</td>\n",
       "      <td>NaN</td>\n",
       "      <td>746</td>\n",
       "      <td>1933.05</td>\n",
       "      <td>4</td>\n",
       "      <td>Rural</td>\n",
       "      <td>1</td>\n",
       "      <td>119933.46</td>\n",
       "      <td>54607.18</td>\n",
       "      <td>Train</td>\n",
       "    </tr>\n",
       "    <tr>\n",
       "      <th>1</th>\n",
       "      <td>M</td>\n",
       "      <td>32</td>\n",
       "      <td>4952.91</td>\n",
       "      <td>Low</td>\n",
       "      <td>Working</td>\n",
       "      <td>NaN</td>\n",
       "      <td>Semi-Urban</td>\n",
       "      <td>46837.47</td>\n",
       "      <td>495.81</td>\n",
       "      <td>N</td>\n",
       "      <td>Y</td>\n",
       "      <td>1.0</td>\n",
       "      <td>780.40</td>\n",
       "      <td>0</td>\n",
       "      <td>Unpossessed</td>\n",
       "      <td>608</td>\n",
       "      <td>4952.91</td>\n",
       "      <td>2</td>\n",
       "      <td>Rural</td>\n",
       "      <td>1</td>\n",
       "      <td>54791.00</td>\n",
       "      <td>37469.98</td>\n",
       "      <td>Train</td>\n",
       "    </tr>\n",
       "    <tr>\n",
       "      <th>2</th>\n",
       "      <td>F</td>\n",
       "      <td>65</td>\n",
       "      <td>988.19</td>\n",
       "      <td>High</td>\n",
       "      <td>Pensioner</td>\n",
       "      <td>NaN</td>\n",
       "      <td>Semi-Urban</td>\n",
       "      <td>45593.04</td>\n",
       "      <td>171.95</td>\n",
       "      <td>N</td>\n",
       "      <td>Y</td>\n",
       "      <td>1.0</td>\n",
       "      <td>833.15</td>\n",
       "      <td>0</td>\n",
       "      <td>Unpossessed</td>\n",
       "      <td>546</td>\n",
       "      <td>988.19</td>\n",
       "      <td>2</td>\n",
       "      <td>Urban</td>\n",
       "      <td>0</td>\n",
       "      <td>72440.58</td>\n",
       "      <td>36474.43</td>\n",
       "      <td>Train</td>\n",
       "    </tr>\n",
       "    <tr>\n",
       "      <th>3</th>\n",
       "      <td>F</td>\n",
       "      <td>65</td>\n",
       "      <td>NaN</td>\n",
       "      <td>High</td>\n",
       "      <td>Pensioner</td>\n",
       "      <td>NaN</td>\n",
       "      <td>Rural</td>\n",
       "      <td>80057.92</td>\n",
       "      <td>298.54</td>\n",
       "      <td>N</td>\n",
       "      <td>Y</td>\n",
       "      <td>2.0</td>\n",
       "      <td>832.70</td>\n",
       "      <td>1</td>\n",
       "      <td>Unpossessed</td>\n",
       "      <td>890</td>\n",
       "      <td>NaN</td>\n",
       "      <td>2</td>\n",
       "      <td>Semi-Urban</td>\n",
       "      <td>1</td>\n",
       "      <td>121441.51</td>\n",
       "      <td>56040.54</td>\n",
       "      <td>Train</td>\n",
       "    </tr>\n",
       "    <tr>\n",
       "      <th>4</th>\n",
       "      <td>F</td>\n",
       "      <td>31</td>\n",
       "      <td>2614.77</td>\n",
       "      <td>Low</td>\n",
       "      <td>Working</td>\n",
       "      <td>High skill tech staff</td>\n",
       "      <td>Semi-Urban</td>\n",
       "      <td>113858.89</td>\n",
       "      <td>491.41</td>\n",
       "      <td>N</td>\n",
       "      <td>Y</td>\n",
       "      <td>NaN</td>\n",
       "      <td>745.55</td>\n",
       "      <td>1</td>\n",
       "      <td>Active</td>\n",
       "      <td>715</td>\n",
       "      <td>2614.77</td>\n",
       "      <td>4</td>\n",
       "      <td>Semi-Urban</td>\n",
       "      <td>1</td>\n",
       "      <td>208567.91</td>\n",
       "      <td>74008.28</td>\n",
       "      <td>Train</td>\n",
       "    </tr>\n",
       "  </tbody>\n",
       "</table>\n",
       "</div>"
      ],
      "text/plain": [
       "  Gender  Age  Income (USD) Income Stability Profession  \\\n",
       "0      F   56       1933.05              Low    Working   \n",
       "1      M   32       4952.91              Low    Working   \n",
       "2      F   65        988.19             High  Pensioner   \n",
       "3      F   65           NaN             High  Pensioner   \n",
       "4      F   31       2614.77              Low    Working   \n",
       "\n",
       "      Type of Employment    Location  Loan Amount Request (USD)  \\\n",
       "0            Sales staff  Semi-Urban                   72809.58   \n",
       "1                    NaN  Semi-Urban                   46837.47   \n",
       "2                    NaN  Semi-Urban                   45593.04   \n",
       "3                    NaN       Rural                   80057.92   \n",
       "4  High skill tech staff  Semi-Urban                  113858.89   \n",
       "\n",
       "   Current Loan Expenses (USD) Expense Type 1 Expense Type 2  Dependents  \\\n",
       "0                       241.08              N              N         3.0   \n",
       "1                       495.81              N              Y         1.0   \n",
       "2                       171.95              N              Y         1.0   \n",
       "3                       298.54              N              Y         2.0   \n",
       "4                       491.41              N              Y         NaN   \n",
       "\n",
       "   Credit Score  No. of Defaults Has Active Credit Card  Property ID  \\\n",
       "0        809.44                0                    NaN          746   \n",
       "1        780.40                0            Unpossessed          608   \n",
       "2        833.15                0            Unpossessed          546   \n",
       "3        832.70                1            Unpossessed          890   \n",
       "4        745.55                1                 Active          715   \n",
       "\n",
       "   Property Age  Property Type Property Location  Co-Applicant  \\\n",
       "0       1933.05              4             Rural             1   \n",
       "1       4952.91              2             Rural             1   \n",
       "2        988.19              2             Urban             0   \n",
       "3           NaN              2        Semi-Urban             1   \n",
       "4       2614.77              4        Semi-Urban             1   \n",
       "\n",
       "   Property Price  Loan Sanction Amount (USD) Status  \n",
       "0       119933.46                    54607.18  Train  \n",
       "1        54791.00                    37469.98  Train  \n",
       "2        72440.58                    36474.43  Train  \n",
       "3       121441.51                    56040.54  Train  \n",
       "4       208567.91                    74008.28  Train  "
      ]
     },
     "execution_count": 2,
     "metadata": {},
     "output_type": "execute_result"
    }
   ],
   "source": [
    "df_train = pd.read_csv('train.csv')\n",
    "df_train['Status'] = 'Train'\n",
    "df_train.drop(columns = ['Customer ID', 'Name'], axis = 1, inplace = True)\n",
    "df_train.head()"
   ]
  },
  {
   "cell_type": "code",
   "execution_count": 4,
   "metadata": {},
   "outputs": [
    {
     "data": {
      "text/html": [
       "<div>\n",
       "<style scoped>\n",
       "    .dataframe tbody tr th:only-of-type {\n",
       "        vertical-align: middle;\n",
       "    }\n",
       "\n",
       "    .dataframe tbody tr th {\n",
       "        vertical-align: top;\n",
       "    }\n",
       "\n",
       "    .dataframe thead th {\n",
       "        text-align: right;\n",
       "    }\n",
       "</style>\n",
       "<table border=\"1\" class=\"dataframe\">\n",
       "  <thead>\n",
       "    <tr style=\"text-align: right;\">\n",
       "      <th></th>\n",
       "      <th>Gender</th>\n",
       "      <th>Age</th>\n",
       "      <th>Income (USD)</th>\n",
       "      <th>Income Stability</th>\n",
       "      <th>Profession</th>\n",
       "      <th>Type of Employment</th>\n",
       "      <th>Location</th>\n",
       "      <th>Loan Amount Request (USD)</th>\n",
       "      <th>Current Loan Expenses (USD)</th>\n",
       "      <th>Expense Type 1</th>\n",
       "      <th>Expense Type 2</th>\n",
       "      <th>Dependents</th>\n",
       "      <th>Credit Score</th>\n",
       "      <th>No. of Defaults</th>\n",
       "      <th>Has Active Credit Card</th>\n",
       "      <th>Property ID</th>\n",
       "      <th>Property Age</th>\n",
       "      <th>Property Type</th>\n",
       "      <th>Property Location</th>\n",
       "      <th>Co-Applicant</th>\n",
       "      <th>Property Price</th>\n",
       "      <th>Loan Sanction Amount (USD)</th>\n",
       "      <th>Status</th>\n",
       "    </tr>\n",
       "  </thead>\n",
       "  <tbody>\n",
       "    <tr>\n",
       "      <th>29995</th>\n",
       "      <td>M</td>\n",
       "      <td>38</td>\n",
       "      <td>4969.41</td>\n",
       "      <td>Low</td>\n",
       "      <td>Commercial associate</td>\n",
       "      <td>Managers</td>\n",
       "      <td>Urban</td>\n",
       "      <td>76657.90</td>\n",
       "      <td>722.34</td>\n",
       "      <td>Y</td>\n",
       "      <td>Y</td>\n",
       "      <td>2.0</td>\n",
       "      <td>869.61</td>\n",
       "      <td>0</td>\n",
       "      <td>Unpossessed</td>\n",
       "      <td>566</td>\n",
       "      <td>4969.41</td>\n",
       "      <td>4</td>\n",
       "      <td>Urban</td>\n",
       "      <td>1</td>\n",
       "      <td>111096.56</td>\n",
       "      <td>68992.11</td>\n",
       "      <td>Train</td>\n",
       "    </tr>\n",
       "    <tr>\n",
       "      <th>29996</th>\n",
       "      <td>M</td>\n",
       "      <td>20</td>\n",
       "      <td>1606.88</td>\n",
       "      <td>Low</td>\n",
       "      <td>Working</td>\n",
       "      <td>Laborers</td>\n",
       "      <td>Semi-Urban</td>\n",
       "      <td>66595.14</td>\n",
       "      <td>253.04</td>\n",
       "      <td>N</td>\n",
       "      <td>N</td>\n",
       "      <td>3.0</td>\n",
       "      <td>729.41</td>\n",
       "      <td>0</td>\n",
       "      <td>Inactive</td>\n",
       "      <td>175</td>\n",
       "      <td>1606.88</td>\n",
       "      <td>3</td>\n",
       "      <td>Urban</td>\n",
       "      <td>1</td>\n",
       "      <td>73453.94</td>\n",
       "      <td>46616.60</td>\n",
       "      <td>Train</td>\n",
       "    </tr>\n",
       "    <tr>\n",
       "      <th>29997</th>\n",
       "      <td>F</td>\n",
       "      <td>49</td>\n",
       "      <td>NaN</td>\n",
       "      <td>Low</td>\n",
       "      <td>Working</td>\n",
       "      <td>Sales staff</td>\n",
       "      <td>Urban</td>\n",
       "      <td>81410.08</td>\n",
       "      <td>583.11</td>\n",
       "      <td>N</td>\n",
       "      <td>Y</td>\n",
       "      <td>NaN</td>\n",
       "      <td>NaN</td>\n",
       "      <td>0</td>\n",
       "      <td>Active</td>\n",
       "      <td>959</td>\n",
       "      <td>NaN</td>\n",
       "      <td>1</td>\n",
       "      <td>Rural</td>\n",
       "      <td>1</td>\n",
       "      <td>102108.02</td>\n",
       "      <td>61057.56</td>\n",
       "      <td>Train</td>\n",
       "    </tr>\n",
       "    <tr>\n",
       "      <th>29998</th>\n",
       "      <td>M</td>\n",
       "      <td>38</td>\n",
       "      <td>2417.71</td>\n",
       "      <td>Low</td>\n",
       "      <td>Working</td>\n",
       "      <td>Security staff</td>\n",
       "      <td>Semi-Urban</td>\n",
       "      <td>142524.10</td>\n",
       "      <td>378.29</td>\n",
       "      <td>N</td>\n",
       "      <td>Y</td>\n",
       "      <td>3.0</td>\n",
       "      <td>677.27</td>\n",
       "      <td>1</td>\n",
       "      <td>Unpossessed</td>\n",
       "      <td>375</td>\n",
       "      <td>2417.71</td>\n",
       "      <td>4</td>\n",
       "      <td>Urban</td>\n",
       "      <td>1</td>\n",
       "      <td>168194.47</td>\n",
       "      <td>99766.87</td>\n",
       "      <td>Train</td>\n",
       "    </tr>\n",
       "    <tr>\n",
       "      <th>29999</th>\n",
       "      <td>F</td>\n",
       "      <td>63</td>\n",
       "      <td>3068.24</td>\n",
       "      <td>High</td>\n",
       "      <td>Pensioner</td>\n",
       "      <td>NaN</td>\n",
       "      <td>Rural</td>\n",
       "      <td>156290.54</td>\n",
       "      <td>693.94</td>\n",
       "      <td>N</td>\n",
       "      <td>Y</td>\n",
       "      <td>1.0</td>\n",
       "      <td>815.44</td>\n",
       "      <td>0</td>\n",
       "      <td>Active</td>\n",
       "      <td>344</td>\n",
       "      <td>3068.24</td>\n",
       "      <td>3</td>\n",
       "      <td>Rural</td>\n",
       "      <td>1</td>\n",
       "      <td>194512.60</td>\n",
       "      <td>117217.90</td>\n",
       "      <td>Train</td>\n",
       "    </tr>\n",
       "  </tbody>\n",
       "</table>\n",
       "</div>"
      ],
      "text/plain": [
       "      Gender  Age  Income (USD) Income Stability            Profession  \\\n",
       "29995      M   38       4969.41              Low  Commercial associate   \n",
       "29996      M   20       1606.88              Low               Working   \n",
       "29997      F   49           NaN              Low               Working   \n",
       "29998      M   38       2417.71              Low               Working   \n",
       "29999      F   63       3068.24             High             Pensioner   \n",
       "\n",
       "      Type of Employment    Location  Loan Amount Request (USD)  \\\n",
       "29995           Managers       Urban                   76657.90   \n",
       "29996           Laborers  Semi-Urban                   66595.14   \n",
       "29997        Sales staff       Urban                   81410.08   \n",
       "29998     Security staff  Semi-Urban                  142524.10   \n",
       "29999                NaN       Rural                  156290.54   \n",
       "\n",
       "       Current Loan Expenses (USD) Expense Type 1 Expense Type 2  Dependents  \\\n",
       "29995                       722.34              Y              Y         2.0   \n",
       "29996                       253.04              N              N         3.0   \n",
       "29997                       583.11              N              Y         NaN   \n",
       "29998                       378.29              N              Y         3.0   \n",
       "29999                       693.94              N              Y         1.0   \n",
       "\n",
       "       Credit Score  No. of Defaults Has Active Credit Card  Property ID  \\\n",
       "29995        869.61                0            Unpossessed          566   \n",
       "29996        729.41                0               Inactive          175   \n",
       "29997           NaN                0                 Active          959   \n",
       "29998        677.27                1            Unpossessed          375   \n",
       "29999        815.44                0                 Active          344   \n",
       "\n",
       "       Property Age  Property Type Property Location  Co-Applicant  \\\n",
       "29995       4969.41              4             Urban             1   \n",
       "29996       1606.88              3             Urban             1   \n",
       "29997           NaN              1             Rural             1   \n",
       "29998       2417.71              4             Urban             1   \n",
       "29999       3068.24              3             Rural             1   \n",
       "\n",
       "       Property Price  Loan Sanction Amount (USD) Status  \n",
       "29995       111096.56                    68992.11  Train  \n",
       "29996        73453.94                    46616.60  Train  \n",
       "29997       102108.02                    61057.56  Train  \n",
       "29998       168194.47                    99766.87  Train  \n",
       "29999       194512.60                   117217.90  Train  "
      ]
     },
     "execution_count": 4,
     "metadata": {},
     "output_type": "execute_result"
    }
   ],
   "source": [
    "df_train.tail()"
   ]
  },
  {
   "cell_type": "markdown",
   "metadata": {},
   "source": [
    "##### Lets check the test data\n",
    "##### Here also dropping the same columns"
   ]
  },
  {
   "cell_type": "code",
   "execution_count": 3,
   "metadata": {},
   "outputs": [
    {
     "data": {
      "text/html": [
       "<div>\n",
       "<style scoped>\n",
       "    .dataframe tbody tr th:only-of-type {\n",
       "        vertical-align: middle;\n",
       "    }\n",
       "\n",
       "    .dataframe tbody tr th {\n",
       "        vertical-align: top;\n",
       "    }\n",
       "\n",
       "    .dataframe thead th {\n",
       "        text-align: right;\n",
       "    }\n",
       "</style>\n",
       "<table border=\"1\" class=\"dataframe\">\n",
       "  <thead>\n",
       "    <tr style=\"text-align: right;\">\n",
       "      <th></th>\n",
       "      <th>Gender</th>\n",
       "      <th>Age</th>\n",
       "      <th>Income (USD)</th>\n",
       "      <th>Income Stability</th>\n",
       "      <th>Profession</th>\n",
       "      <th>Type of Employment</th>\n",
       "      <th>Location</th>\n",
       "      <th>Loan Amount Request (USD)</th>\n",
       "      <th>Current Loan Expenses (USD)</th>\n",
       "      <th>Expense Type 1</th>\n",
       "      <th>Expense Type 2</th>\n",
       "      <th>Dependents</th>\n",
       "      <th>Credit Score</th>\n",
       "      <th>No. of Defaults</th>\n",
       "      <th>Has Active Credit Card</th>\n",
       "      <th>Property ID</th>\n",
       "      <th>Property Age</th>\n",
       "      <th>Property Type</th>\n",
       "      <th>Property Location</th>\n",
       "      <th>Co-Applicant</th>\n",
       "      <th>Property Price</th>\n",
       "      <th>Status</th>\n",
       "    </tr>\n",
       "  </thead>\n",
       "  <tbody>\n",
       "    <tr>\n",
       "      <th>0</th>\n",
       "      <td>F</td>\n",
       "      <td>47</td>\n",
       "      <td>3472.69</td>\n",
       "      <td>Low</td>\n",
       "      <td>Commercial associate</td>\n",
       "      <td>Managers</td>\n",
       "      <td>Semi-Urban</td>\n",
       "      <td>137088.98</td>\n",
       "      <td>396.72</td>\n",
       "      <td>N</td>\n",
       "      <td>N</td>\n",
       "      <td>2.0</td>\n",
       "      <td>799.14</td>\n",
       "      <td>0</td>\n",
       "      <td>Unpossessed</td>\n",
       "      <td>843</td>\n",
       "      <td>3472.69</td>\n",
       "      <td>2</td>\n",
       "      <td>Urban</td>\n",
       "      <td>1</td>\n",
       "      <td>236644.5</td>\n",
       "      <td>Test</td>\n",
       "    </tr>\n",
       "    <tr>\n",
       "      <th>1</th>\n",
       "      <td>F</td>\n",
       "      <td>57</td>\n",
       "      <td>1184.84</td>\n",
       "      <td>Low</td>\n",
       "      <td>Working</td>\n",
       "      <td>Sales staff</td>\n",
       "      <td>Rural</td>\n",
       "      <td>104771.59</td>\n",
       "      <td>463.76</td>\n",
       "      <td>Y</td>\n",
       "      <td>Y</td>\n",
       "      <td>2.0</td>\n",
       "      <td>833.31</td>\n",
       "      <td>0</td>\n",
       "      <td>Unpossessed</td>\n",
       "      <td>22</td>\n",
       "      <td>1184.84</td>\n",
       "      <td>1</td>\n",
       "      <td>Rural</td>\n",
       "      <td>1</td>\n",
       "      <td>142357.3</td>\n",
       "      <td>Test</td>\n",
       "    </tr>\n",
       "    <tr>\n",
       "      <th>2</th>\n",
       "      <td>F</td>\n",
       "      <td>52</td>\n",
       "      <td>1266.27</td>\n",
       "      <td>Low</td>\n",
       "      <td>Working</td>\n",
       "      <td>NaN</td>\n",
       "      <td>Semi-Urban</td>\n",
       "      <td>176684.91</td>\n",
       "      <td>493.15</td>\n",
       "      <td>N</td>\n",
       "      <td>Y</td>\n",
       "      <td>3.0</td>\n",
       "      <td>627.44</td>\n",
       "      <td>0</td>\n",
       "      <td>Unpossessed</td>\n",
       "      <td>1</td>\n",
       "      <td>1266.27</td>\n",
       "      <td>1</td>\n",
       "      <td>Urban</td>\n",
       "      <td>1</td>\n",
       "      <td>300991.24</td>\n",
       "      <td>Test</td>\n",
       "    </tr>\n",
       "    <tr>\n",
       "      <th>3</th>\n",
       "      <td>M</td>\n",
       "      <td>65</td>\n",
       "      <td>1369.72</td>\n",
       "      <td>High</td>\n",
       "      <td>Pensioner</td>\n",
       "      <td>NaN</td>\n",
       "      <td>Rural</td>\n",
       "      <td>97009.18</td>\n",
       "      <td>446.15</td>\n",
       "      <td>N</td>\n",
       "      <td>Y</td>\n",
       "      <td>2.0</td>\n",
       "      <td>833.20</td>\n",
       "      <td>0</td>\n",
       "      <td>Inactive</td>\n",
       "      <td>730</td>\n",
       "      <td>1369.72</td>\n",
       "      <td>1</td>\n",
       "      <td>Semi-Urban</td>\n",
       "      <td>0</td>\n",
       "      <td>125612.1</td>\n",
       "      <td>Test</td>\n",
       "    </tr>\n",
       "    <tr>\n",
       "      <th>4</th>\n",
       "      <td>F</td>\n",
       "      <td>60</td>\n",
       "      <td>1939.23</td>\n",
       "      <td>High</td>\n",
       "      <td>Pensioner</td>\n",
       "      <td>NaN</td>\n",
       "      <td>Urban</td>\n",
       "      <td>109980.00</td>\n",
       "      <td>370.10</td>\n",
       "      <td>N</td>\n",
       "      <td>N</td>\n",
       "      <td>NaN</td>\n",
       "      <td>NaN</td>\n",
       "      <td>0</td>\n",
       "      <td>NaN</td>\n",
       "      <td>356</td>\n",
       "      <td>1939.23</td>\n",
       "      <td>4</td>\n",
       "      <td>Semi-Urban</td>\n",
       "      <td>1</td>\n",
       "      <td>180908.0</td>\n",
       "      <td>Test</td>\n",
       "    </tr>\n",
       "  </tbody>\n",
       "</table>\n",
       "</div>"
      ],
      "text/plain": [
       "  Gender  Age  Income (USD) Income Stability            Profession  \\\n",
       "0      F   47       3472.69              Low  Commercial associate   \n",
       "1      F   57       1184.84              Low               Working   \n",
       "2      F   52       1266.27              Low               Working   \n",
       "3      M   65       1369.72             High             Pensioner   \n",
       "4      F   60       1939.23             High             Pensioner   \n",
       "\n",
       "  Type of Employment    Location  Loan Amount Request (USD)  \\\n",
       "0           Managers  Semi-Urban                  137088.98   \n",
       "1        Sales staff       Rural                  104771.59   \n",
       "2                NaN  Semi-Urban                  176684.91   \n",
       "3                NaN       Rural                   97009.18   \n",
       "4                NaN       Urban                  109980.00   \n",
       "\n",
       "   Current Loan Expenses (USD) Expense Type 1 Expense Type 2  Dependents  \\\n",
       "0                       396.72              N              N         2.0   \n",
       "1                       463.76              Y              Y         2.0   \n",
       "2                       493.15              N              Y         3.0   \n",
       "3                       446.15              N              Y         2.0   \n",
       "4                       370.10              N              N         NaN   \n",
       "\n",
       "   Credit Score  No. of Defaults Has Active Credit Card  Property ID  \\\n",
       "0        799.14                0            Unpossessed          843   \n",
       "1        833.31                0            Unpossessed           22   \n",
       "2        627.44                0            Unpossessed            1   \n",
       "3        833.20                0               Inactive          730   \n",
       "4           NaN                0                    NaN          356   \n",
       "\n",
       "   Property Age  Property Type Property Location Co-Applicant Property Price  \\\n",
       "0       3472.69              2             Urban            1       236644.5   \n",
       "1       1184.84              1             Rural            1       142357.3   \n",
       "2       1266.27              1             Urban            1      300991.24   \n",
       "3       1369.72              1        Semi-Urban            0       125612.1   \n",
       "4       1939.23              4        Semi-Urban            1       180908.0   \n",
       "\n",
       "  Status  \n",
       "0   Test  \n",
       "1   Test  \n",
       "2   Test  \n",
       "3   Test  \n",
       "4   Test  "
      ]
     },
     "execution_count": 3,
     "metadata": {},
     "output_type": "execute_result"
    }
   ],
   "source": [
    "df_test = pd.read_csv('test.csv')\n",
    "df_test['Status'] = 'Test'\n",
    "\n",
    "CustomerId = df_test['Customer ID']\n",
    "df_test.drop(columns = ['Customer ID', 'Name'], axis = 1, inplace = True)\n",
    "df_test.head()"
   ]
  },
  {
   "cell_type": "markdown",
   "metadata": {},
   "source": [
    "##### There are 22 independent features and 1 independent: 'Loan Sanction Amount (USD)'.\n",
    "##### We have dataset of 30000 records"
   ]
  },
  {
   "cell_type": "code",
   "execution_count": 5,
   "metadata": {},
   "outputs": [
    {
     "name": "stdout",
     "output_type": "stream",
     "text": [
      "(30000, 23)\n"
     ]
    }
   ],
   "source": [
    "print(df_train.shape)"
   ]
  },
  {
   "cell_type": "markdown",
   "metadata": {},
   "source": [
    "##### Merging the two dataframes"
   ]
  },
  {
   "cell_type": "code",
   "execution_count": 6,
   "metadata": {},
   "outputs": [
    {
     "data": {
      "text/plain": [
       "(50000, 23)"
      ]
     },
     "execution_count": 6,
     "metadata": {},
     "output_type": "execute_result"
    }
   ],
   "source": [
    "df_total= pd.concat([df_train,df_test],ignore_index = True)\n",
    "df_total.shape"
   ]
  },
  {
   "cell_type": "markdown",
   "metadata": {},
   "source": [
    "##### There are  some special character like '?' in test dataset. Most of these values are contained in column: ' Co-Applicant' & 'Property Price'"
   ]
  },
  {
   "cell_type": "code",
   "execution_count": 10,
   "metadata": {
    "scrolled": true
   },
   "outputs": [
    {
     "data": {
      "text/plain": [
       "(242, 23)"
      ]
     },
     "execution_count": 10,
     "metadata": {},
     "output_type": "execute_result"
    },
    {
     "data": {
      "text/html": [
       "<div>\n",
       "<style scoped>\n",
       "    .dataframe tbody tr th:only-of-type {\n",
       "        vertical-align: middle;\n",
       "    }\n",
       "\n",
       "    .dataframe tbody tr th {\n",
       "        vertical-align: top;\n",
       "    }\n",
       "\n",
       "    .dataframe thead th {\n",
       "        text-align: right;\n",
       "    }\n",
       "</style>\n",
       "<table border=\"1\" class=\"dataframe\">\n",
       "  <thead>\n",
       "    <tr style=\"text-align: right;\">\n",
       "      <th></th>\n",
       "      <th>Co-Applicant</th>\n",
       "      <th>Property Price</th>\n",
       "    </tr>\n",
       "  </thead>\n",
       "  <tbody>\n",
       "    <tr>\n",
       "      <th>30022</th>\n",
       "      <td>1</td>\n",
       "      <td>?</td>\n",
       "    </tr>\n",
       "    <tr>\n",
       "      <th>30038</th>\n",
       "      <td>?</td>\n",
       "      <td>61214.55</td>\n",
       "    </tr>\n",
       "    <tr>\n",
       "      <th>30149</th>\n",
       "      <td>1</td>\n",
       "      <td>?</td>\n",
       "    </tr>\n",
       "    <tr>\n",
       "      <th>30304</th>\n",
       "      <td>?</td>\n",
       "      <td>47109.87</td>\n",
       "    </tr>\n",
       "    <tr>\n",
       "      <th>30318</th>\n",
       "      <td>?</td>\n",
       "      <td>244774.9</td>\n",
       "    </tr>\n",
       "  </tbody>\n",
       "</table>\n",
       "</div>"
      ],
      "text/plain": [
       "      Co-Applicant Property Price\n",
       "30022            1              ?\n",
       "30038            ?       61214.55\n",
       "30149            1              ?\n",
       "30304            ?       47109.87\n",
       "30318            ?       244774.9"
      ]
     },
     "execution_count": 10,
     "metadata": {},
     "output_type": "execute_result"
    }
   ],
   "source": [
    "df_total[(df_total.values.ravel() == '?').reshape(df_total.shape).any(1)].shape\n",
    "df_total[(df_total.values.ravel() == '?').reshape(df_total.shape).any(1)][['Co-Applicant','Property Price']].head()"
   ]
  },
  {
   "cell_type": "markdown",
   "metadata": {},
   "source": [
    "##### Replacing the '?' with NaN "
   ]
  },
  {
   "cell_type": "code",
   "execution_count": 11,
   "metadata": {},
   "outputs": [],
   "source": [
    "df_total.replace(to_replace ='?',value =np.nan,inplace = True)"
   ]
  },
  {
   "cell_type": "markdown",
   "metadata": {},
   "source": [
    "##### Checking the data summary\n",
    "#####  We have 11 categorical columns and 10 numerical columns and 1 target column"
   ]
  },
  {
   "cell_type": "code",
   "execution_count": 8,
   "metadata": {
    "scrolled": true
   },
   "outputs": [
    {
     "name": "stdout",
     "output_type": "stream",
     "text": [
      "<class 'pandas.core.frame.DataFrame'>\n",
      "RangeIndex: 50000 entries, 0 to 49999\n",
      "Data columns (total 23 columns):\n",
      " #   Column                       Non-Null Count  Dtype  \n",
      "---  ------                       --------------  -----  \n",
      " 0   Gender                       49916 non-null  object \n",
      " 1   Age                          50000 non-null  int64  \n",
      " 2   Income (USD)                 44674 non-null  float64\n",
      " 3   Income Stability             47504 non-null  object \n",
      " 4   Profession                   50000 non-null  object \n",
      " 5   Type of Employment           38041 non-null  object \n",
      " 6   Location                     50000 non-null  object \n",
      " 7   Loan Amount Request (USD)    50000 non-null  float64\n",
      " 8   Current Loan Expenses (USD)  49745 non-null  float64\n",
      " 9   Expense Type 1               50000 non-null  object \n",
      " 10  Expense Type 2               50000 non-null  object \n",
      " 11  Dependents                   46365 non-null  float64\n",
      " 12  Credit Score                 47554 non-null  float64\n",
      " 13  No. of Defaults              50000 non-null  int64  \n",
      " 14  Has Active Credit Card       47358 non-null  object \n",
      " 15  Property ID                  50000 non-null  int64  \n",
      " 16  Property Age                 44258 non-null  float64\n",
      " 17  Property Type                50000 non-null  int64  \n",
      " 18  Property Location            49484 non-null  object \n",
      " 19  Co-Applicant                 49923 non-null  object \n",
      " 20  Property Price               49832 non-null  object \n",
      " 21  Loan Sanction Amount (USD)   29660 non-null  float64\n",
      " 22  Status                       50000 non-null  object \n",
      "dtypes: float64(7), int64(4), object(12)\n",
      "memory usage: 8.8+ MB\n"
     ]
    }
   ],
   "source": [
    "df_total.info()"
   ]
  },
  {
   "cell_type": "markdown",
   "metadata": {},
   "source": [
    "##### univariate analysis"
   ]
  },
  {
   "cell_type": "code",
   "execution_count": 12,
   "metadata": {
    "scrolled": true
   },
   "outputs": [
    {
     "data": {
      "text/plain": [
       "<Figure size 720x1080 with 0 Axes>"
      ]
     },
     "execution_count": 12,
     "metadata": {},
     "output_type": "execute_result"
    },
    {
     "data": {
      "text/plain": [
       "<Figure size 720x1080 with 0 Axes>"
      ]
     },
     "execution_count": 12,
     "metadata": {},
     "output_type": "execute_result"
    },
    {
     "data": {
      "text/plain": [
       "<AxesSubplot:>"
      ]
     },
     "execution_count": 12,
     "metadata": {},
     "output_type": "execute_result"
    },
    {
     "data": {
      "text/plain": [
       "<AxesSubplot:title={'center':'Type of Employment'}>"
      ]
     },
     "execution_count": 12,
     "metadata": {},
     "output_type": "execute_result"
    },
    {
     "data": {
      "text/plain": [
       "<Figure size 720x1080 with 0 Axes>"
      ]
     },
     "execution_count": 12,
     "metadata": {},
     "output_type": "execute_result"
    },
    {
     "data": {
      "text/plain": [
       "<AxesSubplot:>"
      ]
     },
     "execution_count": 12,
     "metadata": {},
     "output_type": "execute_result"
    },
    {
     "data": {
      "text/plain": [
       "<AxesSubplot:title={'center':'Dependents'}>"
      ]
     },
     "execution_count": 12,
     "metadata": {},
     "output_type": "execute_result"
    },
    {
     "data": {
      "text/plain": [
       "<Figure size 720x1080 with 0 Axes>"
      ]
     },
     "execution_count": 12,
     "metadata": {},
     "output_type": "execute_result"
    },
    {
     "data": {
      "text/plain": [
       "<AxesSubplot:>"
      ]
     },
     "execution_count": 12,
     "metadata": {},
     "output_type": "execute_result"
    },
    {
     "data": {
      "text/plain": [
       "<AxesSubplot:title={'center':'Has Active Credit Card'}>"
      ]
     },
     "execution_count": 12,
     "metadata": {},
     "output_type": "execute_result"
    },
    {
     "data": {
      "text/plain": [
       "<Figure size 720x1080 with 0 Axes>"
      ]
     },
     "execution_count": 12,
     "metadata": {},
     "output_type": "execute_result"
    },
    {
     "data": {
      "text/plain": [
       "<AxesSubplot:>"
      ]
     },
     "execution_count": 12,
     "metadata": {},
     "output_type": "execute_result"
    },
    {
     "data": {
      "text/plain": [
       "<AxesSubplot:title={'center':'Income Stability'}>"
      ]
     },
     "execution_count": 12,
     "metadata": {},
     "output_type": "execute_result"
    },
    {
     "data": {
      "text/plain": [
       "<Figure size 720x1080 with 0 Axes>"
      ]
     },
     "execution_count": 12,
     "metadata": {},
     "output_type": "execute_result"
    },
    {
     "data": {
      "text/plain": [
       "<AxesSubplot:>"
      ]
     },
     "execution_count": 12,
     "metadata": {},
     "output_type": "execute_result"
    },
    {
     "data": {
      "text/plain": [
       "<AxesSubplot:title={'center':'Property Location'}>"
      ]
     },
     "execution_count": 12,
     "metadata": {},
     "output_type": "execute_result"
    },
    {
     "data": {
      "text/plain": [
       "<Figure size 720x1080 with 0 Axes>"
      ]
     },
     "execution_count": 12,
     "metadata": {},
     "output_type": "execute_result"
    },
    {
     "data": {
      "text/plain": [
       "<AxesSubplot:>"
      ]
     },
     "execution_count": 12,
     "metadata": {},
     "output_type": "execute_result"
    },
    {
     "data": {
      "text/plain": [
       "<AxesSubplot:title={'center':'Gender'}>"
      ]
     },
     "execution_count": 12,
     "metadata": {},
     "output_type": "execute_result"
    },
    {
     "data": {
      "text/plain": [
       "<Figure size 720x1080 with 0 Axes>"
      ]
     },
     "execution_count": 12,
     "metadata": {},
     "output_type": "execute_result"
    },
    {
     "data": {
      "text/plain": [
       "<AxesSubplot:>"
      ]
     },
     "execution_count": 12,
     "metadata": {},
     "output_type": "execute_result"
    },
    {
     "data": {
      "text/plain": [
       "<AxesSubplot:title={'center':'No. of Defaults'}>"
      ]
     },
     "execution_count": 12,
     "metadata": {},
     "output_type": "execute_result"
    },
    {
     "data": {
      "text/plain": [
       "<Figure size 720x1080 with 0 Axes>"
      ]
     },
     "execution_count": 12,
     "metadata": {},
     "output_type": "execute_result"
    },
    {
     "data": {
      "text/plain": [
       "<AxesSubplot:>"
      ]
     },
     "execution_count": 12,
     "metadata": {},
     "output_type": "execute_result"
    },
    {
     "data": {
      "text/plain": [
       "<AxesSubplot:title={'center':'Expense Type 2'}>"
      ]
     },
     "execution_count": 12,
     "metadata": {},
     "output_type": "execute_result"
    },
    {
     "data": {
      "text/plain": [
       "<Figure size 720x1080 with 0 Axes>"
      ]
     },
     "execution_count": 12,
     "metadata": {},
     "output_type": "execute_result"
    },
    {
     "data": {
      "text/plain": [
       "<AxesSubplot:>"
      ]
     },
     "execution_count": 12,
     "metadata": {},
     "output_type": "execute_result"
    },
    {
     "data": {
      "text/plain": [
       "<AxesSubplot:title={'center':'Location'}>"
      ]
     },
     "execution_count": 12,
     "metadata": {},
     "output_type": "execute_result"
    },
    {
     "data": {
      "text/plain": [
       "<Figure size 720x1080 with 0 Axes>"
      ]
     },
     "execution_count": 12,
     "metadata": {},
     "output_type": "execute_result"
    },
    {
     "data": {
      "text/plain": [
       "<AxesSubplot:>"
      ]
     },
     "execution_count": 12,
     "metadata": {},
     "output_type": "execute_result"
    },
    {
     "data": {
      "text/plain": [
       "<AxesSubplot:title={'center':'Property Type'}>"
      ]
     },
     "execution_count": 12,
     "metadata": {},
     "output_type": "execute_result"
    },
    {
     "data": {
      "text/plain": [
       "<Figure size 720x1080 with 0 Axes>"
      ]
     },
     "execution_count": 12,
     "metadata": {},
     "output_type": "execute_result"
    },
    {
     "data": {
      "text/plain": [
       "<AxesSubplot:>"
      ]
     },
     "execution_count": 12,
     "metadata": {},
     "output_type": "execute_result"
    },
    {
     "data": {
      "text/plain": [
       "<AxesSubplot:title={'center':'Profession'}>"
      ]
     },
     "execution_count": 12,
     "metadata": {},
     "output_type": "execute_result"
    },
    {
     "data": {
      "text/plain": [
       "<Figure size 720x1080 with 0 Axes>"
      ]
     },
     "execution_count": 12,
     "metadata": {},
     "output_type": "execute_result"
    },
    {
     "data": {
      "text/plain": [
       "<AxesSubplot:>"
      ]
     },
     "execution_count": 12,
     "metadata": {},
     "output_type": "execute_result"
    },
    {
     "data": {
      "text/plain": [
       "<AxesSubplot:title={'center':'Co-Applicant'}>"
      ]
     },
     "execution_count": 12,
     "metadata": {},
     "output_type": "execute_result"
    },
    {
     "data": {
      "text/plain": [
       "<Figure size 720x1080 with 0 Axes>"
      ]
     },
     "metadata": {},
     "output_type": "display_data"
    },
    {
     "data": {
      "image/png": "[encoded data removed]",
      "text/plain": [
       "<Figure size 720x1080 with 1 Axes>"
      ]
     },
     "metadata": {
      "needs_background": "light"
     },
     "output_type": "display_data"
    },
    {
     "data": {
      "image/png": "[encoded data removed]",
      "text/plain": [
       "<Figure size 720x1080 with 1 Axes>"
      ]
     },
     "metadata": {
      "needs_background": "light"
     },
     "output_type": "display_data"
    },
    {
     "data": {
      "image/png": "[encoded data removed]",
      "text/plain": [
       "<Figure size 720x1080 with 1 Axes>"
      ]
     },
     "metadata": {
      "needs_background": "light"
     },
     "output_type": "display_data"
    },
    {
     "data": {
      "image/png": "[encoded data removed]",
      "text/plain": [
       "<Figure size 720x1080 with 1 Axes>"
      ]
     },
     "metadata": {
      "needs_background": "light"
     },
     "output_type": "display_data"
    },
    {
     "data": {
      "image/png": "[encoded data removed]",
      "text/plain": [
       "<Figure size 720x1080 with 1 Axes>"
      ]
     },
     "metadata": {
      "needs_background": "light"
     },
     "output_type": "display_data"
    },
    {
     "data": {
      "image/png": "[encoded data removed]",
      "text/plain": [
       "<Figure size 720x1080 with 1 Axes>"
      ]
     },
     "metadata": {
      "needs_background": "light"
     },
     "output_type": "display_data"
    },
    {
     "data": {
      "image/png": "[encoded data removed]",
      "text/plain": [
       "<Figure size 720x1080 with 1 Axes>"
      ]
     },
     "metadata": {
      "needs_background": "light"
     },
     "output_type": "display_data"
    },
    {
     "data": {
      "image/png": "[encoded data removed]",
      "text/plain": [
       "<Figure size 720x1080 with 1 Axes>"
      ]
     },
     "metadata": {
      "needs_background": "light"
     },
     "output_type": "display_data"
    },
    {
     "data": {
      "image/png": "[encoded data removed]",
      "text/plain": [
       "<Figure size 720x1080 with 1 Axes>"
      ]
     },
     "metadata": {
      "needs_background": "light"
     },
     "output_type": "display_data"
    },
    {
     "data": {
      "image/png": "[encoded data removed]",
      "text/plain": [
       "<Figure size 720x1080 with 1 Axes>"
      ]
     },
     "metadata": {
      "needs_background": "light"
     },
     "output_type": "display_data"
    },
    {
     "data": {
      "image/png": "[encoded data removed]",
      "text/plain": [
       "<Figure size 720x1080 with 1 Axes>"
      ]
     },
     "metadata": {
      "needs_background": "light"
     },
     "output_type": "display_data"
    },
    {
     "data": {
      "image/png": "[encoded data removed]",
      "text/plain": [
       "<Figure size 720x1080 with 1 Axes>"
      ]
     },
     "metadata": {
      "needs_background": "light"
     },
     "output_type": "display_data"
    }
   ],
   "source": [
    "cols = ['Type of Employment', 'Dependents', 'Has Active Credit Card','Income Stability','Property Location','Gender'\n",
    "       ,'No. of Defaults','Expense Type 2','Location','Property Type' ,'Profession','Co-Applicant' ]\n",
    "\n",
    "row = 12\n",
    "col = 1\n",
    "\n",
    "plt.figure(figsize = (10,15))\n",
    "\n",
    "for i,j in enumerate(cols,start =1):\n",
    "    plt.figure(figsize = (10,15))\n",
    "    plt.subplot(row,col,i)\n",
    "    df_total[j].value_counts(normalize=True).plot(kind = 'bar', title = j)\n",
    "    plt.subplots_adjust(top=0.85)\n",
    "    plt.tight_layout(pad=2)\n",
    "plt.show()"
   ]
  },
  {
   "cell_type": "markdown",
   "metadata": {},
   "source": [
    "##### mutlivariate analysis"
   ]
  },
  {
   "cell_type": "code",
   "execution_count": 13,
   "metadata": {
    "scrolled": true
   },
   "outputs": [
    {
     "data": {
      "text/plain": [
       "<seaborn.axisgrid.FacetGrid at 0x17feb873a88>"
      ]
     },
     "execution_count": 13,
     "metadata": {},
     "output_type": "execute_result"
    },
    {
     "data": {
      "text/plain": [
       "<seaborn.axisgrid.FacetGrid at 0x17feb873a88>"
      ]
     },
     "execution_count": 13,
     "metadata": {},
     "output_type": "execute_result"
    },
    {
     "data": {
      "image/png": "[encoded data removed]",
      "text/plain": [
       "<Figure size 648x864 with 12 Axes>"
      ]
     },
     "metadata": {
      "needs_background": "light"
     },
     "output_type": "display_data"
    }
   ],
   "source": [
    "# We can see that Property type:2 is in demand more in Rural areas whose lonas are getting sanctioned easily\n",
    "\n",
    "graph = sns.FacetGrid(df_total, row ='Property Type', col ='Property Location')\n",
    "\n",
    "graph.map(plt.hist, 'Loan Sanction Amount (USD)', bins = 15, color ='orange')\n",
    "\n",
    "graph.set_titles(row_template = 'Property Type{row_name}\\n', col_template = 'Property Location:{col_name}')\n",
    "\n",
    "plt.show()"
   ]
  },
  {
   "cell_type": "code",
   "execution_count": 14,
   "metadata": {
    "scrolled": true
   },
   "outputs": [
    {
     "data": {
      "text/plain": [
       "<seaborn.axisgrid.FacetGrid at 0x17fe796dfc8>"
      ]
     },
     "execution_count": 14,
     "metadata": {},
     "output_type": "execute_result"
    },
    {
     "data": {
      "text/plain": [
       "<seaborn.axisgrid.FacetGrid at 0x17fe796dfc8>"
      ]
     },
     "execution_count": 14,
     "metadata": {},
     "output_type": "execute_result"
    },
    {
     "data": {
      "image/png": "[encoded data removed]",
      "text/plain": [
       "<Figure size 432x1728 with 16 Axes>"
      ]
     },
     "metadata": {
      "needs_background": "light"
     },
     "output_type": "display_data"
    }
   ],
   "source": [
    "# 1. From this graph we see that only one profession: Pensioner has a High Income Stability which is justified as they\n",
    "#    will get their monthyl pensions on time\n",
    "# 2. Also we see that majority of the people with LOW income stability have profession: Working, Commercial associate.\n",
    "# 3. Also we see that no loan is sanctioned to people who are students , unemployed which is justified cause \n",
    "#    they dont have any assest.\n",
    "\n",
    "bins = np.linspace(df_total['Loan Sanction Amount (USD)'].min(), df_total['Loan Sanction Amount (USD)'].max(),15)\n",
    "\n",
    "graph = sns.FacetGrid(df_total, row ='Profession', col ='Income Stability')\n",
    "\n",
    "graph.map(plt.hist, 'Loan Sanction Amount (USD)', bins = bins, color ='orange')\n",
    "\n",
    "graph.set_titles(row_template = 'Profession:{row_name}\\n', col_template = 'Income Stability:{col_name}')\n",
    "\n",
    "plt.show()"
   ]
  },
  {
   "cell_type": "markdown",
   "metadata": {},
   "source": [
    "#### Lets plot the boxplot to check for outliers\n",
    "##### But we are not going to remove any data"
   ]
  },
  {
   "cell_type": "code",
   "execution_count": 59,
   "metadata": {
    "scrolled": true
   },
   "outputs": [
    {
     "data": {
      "text/plain": [
       "<Figure size 576x576 with 0 Axes>"
      ]
     },
     "execution_count": 59,
     "metadata": {},
     "output_type": "execute_result"
    },
    {
     "data": {
      "text/plain": [
       "<AxesSubplot:>"
      ]
     },
     "execution_count": 59,
     "metadata": {},
     "output_type": "execute_result"
    },
    {
     "data": {
      "text/plain": [
       "{'whiskers': [<matplotlib.lines.Line2D at 0x17fe8a58048>,\n",
       "  <matplotlib.lines.Line2D at 0x17fec12cdc8>],\n",
       " 'caps': [<matplotlib.lines.Line2D at 0x17fec12cd48>,\n",
       "  <matplotlib.lines.Line2D at 0x17fec12cf08>],\n",
       " 'boxes': [<matplotlib.lines.Line2D at 0x17fec12c588>],\n",
       " 'medians': [<matplotlib.lines.Line2D at 0x17fec128bc8>],\n",
       " 'fliers': [<matplotlib.lines.Line2D at 0x17fec128fc8>],\n",
       " 'means': []}"
      ]
     },
     "execution_count": 59,
     "metadata": {},
     "output_type": "execute_result"
    },
    {
     "data": {
      "text/plain": [
       "Text(0.5, 0, 'Age')"
      ]
     },
     "execution_count": 59,
     "metadata": {},
     "output_type": "execute_result"
    },
    {
     "data": {
      "text/plain": [
       "<AxesSubplot:>"
      ]
     },
     "execution_count": 59,
     "metadata": {},
     "output_type": "execute_result"
    },
    {
     "data": {
      "text/plain": [
       "{'whiskers': [<matplotlib.lines.Line2D at 0x17fe7b5e588>,\n",
       "  <matplotlib.lines.Line2D at 0x17fe7b41d48>],\n",
       " 'caps': [<matplotlib.lines.Line2D at 0x17fe7b41dc8>,\n",
       "  <matplotlib.lines.Line2D at 0x17fe7b3ba48>],\n",
       " 'boxes': [<matplotlib.lines.Line2D at 0x17fe7b41848>],\n",
       " 'medians': [<matplotlib.lines.Line2D at 0x17fe7b3bf08>],\n",
       " 'fliers': [<matplotlib.lines.Line2D at 0x17fe7b3bec8>],\n",
       " 'means': []}"
      ]
     },
     "execution_count": 59,
     "metadata": {},
     "output_type": "execute_result"
    },
    {
     "data": {
      "text/plain": [
       "Text(0.5, 0, 'Income (USD)')"
      ]
     },
     "execution_count": 59,
     "metadata": {},
     "output_type": "execute_result"
    },
    {
     "data": {
      "text/plain": [
       "<AxesSubplot:>"
      ]
     },
     "execution_count": 59,
     "metadata": {},
     "output_type": "execute_result"
    },
    {
     "data": {
      "text/plain": [
       "{'whiskers': [<matplotlib.lines.Line2D at 0x17fe8a23e08>,\n",
       "  <matplotlib.lines.Line2D at 0x17fe7b81f88>],\n",
       " 'caps': [<matplotlib.lines.Line2D at 0x17fe7b81f08>,\n",
       "  <matplotlib.lines.Line2D at 0x17fe7b6dc48>],\n",
       " 'boxes': [<matplotlib.lines.Line2D at 0x17fe7b81ac8>],\n",
       " 'medians': [<matplotlib.lines.Line2D at 0x17fe7b6dbc8>],\n",
       " 'fliers': [<matplotlib.lines.Line2D at 0x17fe7b6dd88>],\n",
       " 'means': []}"
      ]
     },
     "execution_count": 59,
     "metadata": {},
     "output_type": "execute_result"
    },
    {
     "data": {
      "text/plain": [
       "Text(0.5, 0, 'Loan Amount Request (USD)')"
      ]
     },
     "execution_count": 59,
     "metadata": {},
     "output_type": "execute_result"
    },
    {
     "data": {
      "text/plain": [
       "<AxesSubplot:>"
      ]
     },
     "execution_count": 59,
     "metadata": {},
     "output_type": "execute_result"
    },
    {
     "data": {
      "text/plain": [
       "{'whiskers': [<matplotlib.lines.Line2D at 0x17fe7f6bb88>,\n",
       "  <matplotlib.lines.Line2D at 0x17fe7f6b7c8>],\n",
       " 'caps': [<matplotlib.lines.Line2D at 0x17fec118f08>,\n",
       "  <matplotlib.lines.Line2D at 0x17fec53dc48>],\n",
       " 'boxes': [<matplotlib.lines.Line2D at 0x17fe738f388>],\n",
       " 'medians': [<matplotlib.lines.Line2D at 0x17fe7382488>],\n",
       " 'fliers': [<matplotlib.lines.Line2D at 0x17fec115a88>],\n",
       " 'means': []}"
      ]
     },
     "execution_count": 59,
     "metadata": {},
     "output_type": "execute_result"
    },
    {
     "data": {
      "text/plain": [
       "Text(0.5, 0, 'Current Loan Expenses (USD)')"
      ]
     },
     "execution_count": 59,
     "metadata": {},
     "output_type": "execute_result"
    },
    {
     "data": {
      "text/plain": [
       "<AxesSubplot:>"
      ]
     },
     "execution_count": 59,
     "metadata": {},
     "output_type": "execute_result"
    },
    {
     "data": {
      "text/plain": [
       "{'whiskers': [<matplotlib.lines.Line2D at 0x17fe7b415c8>,\n",
       "  <matplotlib.lines.Line2D at 0x17fe7650e08>],\n",
       " 'caps': [<matplotlib.lines.Line2D at 0x17fe76508c8>,\n",
       "  <matplotlib.lines.Line2D at 0x17fe7651188>],\n",
       " 'boxes': [<matplotlib.lines.Line2D at 0x17fe7650b48>],\n",
       " 'medians': [<matplotlib.lines.Line2D at 0x17fe72c81c8>],\n",
       " 'fliers': [<matplotlib.lines.Line2D at 0x17fe63bc548>],\n",
       " 'means': []}"
      ]
     },
     "execution_count": 59,
     "metadata": {},
     "output_type": "execute_result"
    },
    {
     "data": {
      "text/plain": [
       "Text(0.5, 0, 'Credit Score')"
      ]
     },
     "execution_count": 59,
     "metadata": {},
     "output_type": "execute_result"
    },
    {
     "data": {
      "text/plain": [
       "<AxesSubplot:>"
      ]
     },
     "execution_count": 59,
     "metadata": {},
     "output_type": "execute_result"
    },
    {
     "data": {
      "text/plain": [
       "{'whiskers': [<matplotlib.lines.Line2D at 0x17fe7233d48>,\n",
       "  <matplotlib.lines.Line2D at 0x17fe751fd08>],\n",
       " 'caps': [<matplotlib.lines.Line2D at 0x17fe751f8c8>,\n",
       "  <matplotlib.lines.Line2D at 0x17fe751f688>],\n",
       " 'boxes': [<matplotlib.lines.Line2D at 0x17fe74e3208>],\n",
       " 'medians': [<matplotlib.lines.Line2D at 0x17feae9ad48>],\n",
       " 'fliers': [<matplotlib.lines.Line2D at 0x17fe7b2f688>],\n",
       " 'means': []}"
      ]
     },
     "execution_count": 59,
     "metadata": {},
     "output_type": "execute_result"
    },
    {
     "data": {
      "text/plain": [
       "Text(0.5, 0, 'Property Price')"
      ]
     },
     "execution_count": 59,
     "metadata": {},
     "output_type": "execute_result"
    },
    {
     "data": {
      "image/png": "[encoded data removed]",
      "text/plain": [
       "<Figure size 576x576 with 6 Axes>"
      ]
     },
     "metadata": {
      "needs_background": "light"
     },
     "output_type": "display_data"
    }
   ],
   "source": [
    "row = 2\n",
    "col = 3\n",
    "columns = ['Age','Income (USD)','Loan Amount Request (USD)','Current Loan Expenses (USD)','Credit Score','Property Price']\n",
    "plt.figure(figsize = (8,8))\n",
    "for i,j in enumerate(columns,start =1):\n",
    "    plt.subplot(row,col,i); plt.boxplot([df_total[j]])\n",
    "    plt.xlabel(j)"
   ]
  },
  {
   "cell_type": "markdown",
   "metadata": {},
   "source": [
    "##### Let compare the distribution plot of numerical features with normal distribution\n",
    "##### The black line is the normal distribution curve\n",
    "##### The blue line the is actual distribution curve"
   ]
  },
  {
   "cell_type": "code",
   "execution_count": 17,
   "metadata": {
    "scrolled": true
   },
   "outputs": [
    {
     "data": {
      "text/plain": [
       "<Figure size 576x720 with 0 Axes>"
      ]
     },
     "execution_count": 17,
     "metadata": {},
     "output_type": "execute_result"
    },
    {
     "data": {
      "text/plain": [
       "<AxesSubplot:>"
      ]
     },
     "execution_count": 17,
     "metadata": {},
     "output_type": "execute_result"
    },
    {
     "data": {
      "text/plain": [
       "<AxesSubplot:xlabel='Age'>"
      ]
     },
     "execution_count": 17,
     "metadata": {},
     "output_type": "execute_result"
    },
    {
     "data": {
      "text/plain": [
       "Text(0.5, 0, 'Age')"
      ]
     },
     "execution_count": 17,
     "metadata": {},
     "output_type": "execute_result"
    },
    {
     "data": {
      "text/plain": [
       "<AxesSubplot:>"
      ]
     },
     "execution_count": 17,
     "metadata": {},
     "output_type": "execute_result"
    },
    {
     "data": {
      "text/plain": [
       "<AxesSubplot:xlabel='Income (USD)'>"
      ]
     },
     "execution_count": 17,
     "metadata": {},
     "output_type": "execute_result"
    },
    {
     "data": {
      "text/plain": [
       "Text(0.5, 0, 'Income (USD)')"
      ]
     },
     "execution_count": 17,
     "metadata": {},
     "output_type": "execute_result"
    },
    {
     "data": {
      "text/plain": [
       "<AxesSubplot:>"
      ]
     },
     "execution_count": 17,
     "metadata": {},
     "output_type": "execute_result"
    },
    {
     "data": {
      "text/plain": [
       "<AxesSubplot:xlabel='Loan Amount Request (USD)'>"
      ]
     },
     "execution_count": 17,
     "metadata": {},
     "output_type": "execute_result"
    },
    {
     "data": {
      "text/plain": [
       "Text(0.5, 0, 'Loan Amount Request (USD)')"
      ]
     },
     "execution_count": 17,
     "metadata": {},
     "output_type": "execute_result"
    },
    {
     "data": {
      "text/plain": [
       "<AxesSubplot:>"
      ]
     },
     "execution_count": 17,
     "metadata": {},
     "output_type": "execute_result"
    },
    {
     "data": {
      "text/plain": [
       "<AxesSubplot:xlabel='Current Loan Expenses (USD)'>"
      ]
     },
     "execution_count": 17,
     "metadata": {},
     "output_type": "execute_result"
    },
    {
     "data": {
      "text/plain": [
       "Text(0.5, 0, 'Current Loan Expenses (USD)')"
      ]
     },
     "execution_count": 17,
     "metadata": {},
     "output_type": "execute_result"
    },
    {
     "data": {
      "text/plain": [
       "<AxesSubplot:>"
      ]
     },
     "execution_count": 17,
     "metadata": {},
     "output_type": "execute_result"
    },
    {
     "data": {
      "text/plain": [
       "<AxesSubplot:xlabel='Credit Score'>"
      ]
     },
     "execution_count": 17,
     "metadata": {},
     "output_type": "execute_result"
    },
    {
     "data": {
      "text/plain": [
       "Text(0.5, 0, 'Credit Score')"
      ]
     },
     "execution_count": 17,
     "metadata": {},
     "output_type": "execute_result"
    },
    {
     "data": {
      "text/plain": [
       "<AxesSubplot:>"
      ]
     },
     "execution_count": 17,
     "metadata": {},
     "output_type": "execute_result"
    },
    {
     "data": {
      "text/plain": [
       "<AxesSubplot:xlabel='Property Price'>"
      ]
     },
     "execution_count": 17,
     "metadata": {},
     "output_type": "execute_result"
    },
    {
     "data": {
      "text/plain": [
       "Text(0.5, 0, 'Property Price')"
      ]
     },
     "execution_count": 17,
     "metadata": {},
     "output_type": "execute_result"
    },
    {
     "data": {
      "image/png": "[encoded data removed]",
      "text/plain": [
       "<Figure size 576x720 with 6 Axes>"
      ]
     },
     "metadata": {
      "needs_background": "light"
     },
     "output_type": "display_data"
    }
   ],
   "source": [
    "plt.figure(figsize = (8,10))\n",
    "for i,j in enumerate(columns,start =1):\n",
    "    plt.subplot(row,col,i); sns.distplot(df_total[j],fit = norm, kde = True, label = j)\n",
    "    plt.xlabel(j)"
   ]
  },
  {
   "cell_type": "markdown",
   "metadata": {},
   "source": [
    "##### Checking the missing values in every column.\n",
    "##### We have most number of missing data in column: 'Type of Employment'"
   ]
  },
  {
   "cell_type": "code",
   "execution_count": 18,
   "metadata": {
    "scrolled": true
   },
   "outputs": [
    {
     "data": {
      "text/html": [
       "<div>\n",
       "<style scoped>\n",
       "    .dataframe tbody tr th:only-of-type {\n",
       "        vertical-align: middle;\n",
       "    }\n",
       "\n",
       "    .dataframe tbody tr th {\n",
       "        vertical-align: top;\n",
       "    }\n",
       "\n",
       "    .dataframe thead th {\n",
       "        text-align: right;\n",
       "    }\n",
       "</style>\n",
       "<table border=\"1\" class=\"dataframe\">\n",
       "  <thead>\n",
       "    <tr style=\"text-align: right;\">\n",
       "      <th></th>\n",
       "      <th>index</th>\n",
       "      <th>missing_value</th>\n",
       "    </tr>\n",
       "  </thead>\n",
       "  <tbody>\n",
       "    <tr>\n",
       "      <th>0</th>\n",
       "      <td>Loan Sanction Amount (USD)</td>\n",
       "      <td>20340</td>\n",
       "    </tr>\n",
       "    <tr>\n",
       "      <th>1</th>\n",
       "      <td>Type of Employment</td>\n",
       "      <td>11959</td>\n",
       "    </tr>\n",
       "    <tr>\n",
       "      <th>2</th>\n",
       "      <td>Property Age</td>\n",
       "      <td>5742</td>\n",
       "    </tr>\n",
       "    <tr>\n",
       "      <th>3</th>\n",
       "      <td>Income (USD)</td>\n",
       "      <td>5326</td>\n",
       "    </tr>\n",
       "    <tr>\n",
       "      <th>4</th>\n",
       "      <td>Dependents</td>\n",
       "      <td>3635</td>\n",
       "    </tr>\n",
       "    <tr>\n",
       "      <th>5</th>\n",
       "      <td>Has Active Credit Card</td>\n",
       "      <td>2642</td>\n",
       "    </tr>\n",
       "    <tr>\n",
       "      <th>6</th>\n",
       "      <td>Income Stability</td>\n",
       "      <td>2496</td>\n",
       "    </tr>\n",
       "    <tr>\n",
       "      <th>7</th>\n",
       "      <td>Credit Score</td>\n",
       "      <td>2446</td>\n",
       "    </tr>\n",
       "    <tr>\n",
       "      <th>8</th>\n",
       "      <td>Property Location</td>\n",
       "      <td>516</td>\n",
       "    </tr>\n",
       "    <tr>\n",
       "      <th>9</th>\n",
       "      <td>Current Loan Expenses (USD)</td>\n",
       "      <td>255</td>\n",
       "    </tr>\n",
       "    <tr>\n",
       "      <th>10</th>\n",
       "      <td>Property Price</td>\n",
       "      <td>168</td>\n",
       "    </tr>\n",
       "    <tr>\n",
       "      <th>11</th>\n",
       "      <td>Gender</td>\n",
       "      <td>84</td>\n",
       "    </tr>\n",
       "    <tr>\n",
       "      <th>12</th>\n",
       "      <td>Co-Applicant</td>\n",
       "      <td>77</td>\n",
       "    </tr>\n",
       "    <tr>\n",
       "      <th>13</th>\n",
       "      <td>Expense Type 2</td>\n",
       "      <td>0</td>\n",
       "    </tr>\n",
       "    <tr>\n",
       "      <th>14</th>\n",
       "      <td>Expense Type 1</td>\n",
       "      <td>0</td>\n",
       "    </tr>\n",
       "    <tr>\n",
       "      <th>15</th>\n",
       "      <td>No. of Defaults</td>\n",
       "      <td>0</td>\n",
       "    </tr>\n",
       "    <tr>\n",
       "      <th>16</th>\n",
       "      <td>Loan Amount Request (USD)</td>\n",
       "      <td>0</td>\n",
       "    </tr>\n",
       "    <tr>\n",
       "      <th>17</th>\n",
       "      <td>Location</td>\n",
       "      <td>0</td>\n",
       "    </tr>\n",
       "    <tr>\n",
       "      <th>18</th>\n",
       "      <td>Property ID</td>\n",
       "      <td>0</td>\n",
       "    </tr>\n",
       "    <tr>\n",
       "      <th>19</th>\n",
       "      <td>Profession</td>\n",
       "      <td>0</td>\n",
       "    </tr>\n",
       "    <tr>\n",
       "      <th>20</th>\n",
       "      <td>Property Type</td>\n",
       "      <td>0</td>\n",
       "    </tr>\n",
       "    <tr>\n",
       "      <th>21</th>\n",
       "      <td>Age</td>\n",
       "      <td>0</td>\n",
       "    </tr>\n",
       "    <tr>\n",
       "      <th>22</th>\n",
       "      <td>Status</td>\n",
       "      <td>0</td>\n",
       "    </tr>\n",
       "  </tbody>\n",
       "</table>\n",
       "</div>"
      ],
      "text/plain": [
       "                          index  missing_value\n",
       "0    Loan Sanction Amount (USD)          20340\n",
       "1            Type of Employment          11959\n",
       "2                  Property Age           5742\n",
       "3                  Income (USD)           5326\n",
       "4                    Dependents           3635\n",
       "5        Has Active Credit Card           2642\n",
       "6              Income Stability           2496\n",
       "7                  Credit Score           2446\n",
       "8             Property Location            516\n",
       "9   Current Loan Expenses (USD)            255\n",
       "10               Property Price            168\n",
       "11                       Gender             84\n",
       "12                 Co-Applicant             77\n",
       "13               Expense Type 2              0\n",
       "14               Expense Type 1              0\n",
       "15              No. of Defaults              0\n",
       "16    Loan Amount Request (USD)              0\n",
       "17                     Location              0\n",
       "18                  Property ID              0\n",
       "19                   Profession              0\n",
       "20                Property Type              0\n",
       "21                          Age              0\n",
       "22                       Status              0"
      ]
     },
     "execution_count": 18,
     "metadata": {},
     "output_type": "execute_result"
    }
   ],
   "source": [
    "df_total.isnull().sum(axis = 0).sort_values(ascending = False).to_frame('missing_value').reset_index()"
   ]
  },
  {
   "cell_type": "code",
   "execution_count": 19,
   "metadata": {},
   "outputs": [
    {
     "data": {
      "text/plain": [
       "F    0.501563\n",
       "M    0.498437\n",
       "Name: Gender, dtype: float64"
      ]
     },
     "execution_count": 19,
     "metadata": {},
     "output_type": "execute_result"
    }
   ],
   "source": [
    "# We have balanced Gender\n",
    "\n",
    "df_total['Gender'].value_counts(normalize=True)"
   ]
  },
  {
   "cell_type": "code",
   "execution_count": 20,
   "metadata": {
    "scrolled": true
   },
   "outputs": [
    {
     "data": {
      "text/plain": [
       "F    0.50152\n",
       "M    0.49848\n",
       "Name: Gender, dtype: float64"
      ]
     },
     "execution_count": 20,
     "metadata": {},
     "output_type": "execute_result"
    }
   ],
   "source": [
    "# imputing the missing values using forward fill. and also maintaining the ration of the two classes\n",
    "\n",
    "df_total['Gender'] = df_total['Gender'].fillna(method='ffill')\n",
    "df_total['Gender'].value_counts(normalize=True)"
   ]
  },
  {
   "cell_type": "markdown",
   "metadata": {},
   "source": [
    "##### The target is more correlated to 'Loan Amount Requested (USD)', 'Current Loan Expenses (USD)', 'Credit Score'\n",
    "##### 'Loan Amount Requested (USD)' is strongly correlated to 'Current Loan Expenses (USD)'"
   ]
  },
  {
   "cell_type": "code",
   "execution_count": 21,
   "metadata": {
    "scrolled": true
   },
   "outputs": [
    {
     "data": {
      "text/plain": [
       "<AxesSubplot:>"
      ]
     },
     "execution_count": 21,
     "metadata": {},
     "output_type": "execute_result"
    },
    {
     "data": {
      "image/png": "[encoded data removed]",
      "text/plain": [
       "<Figure size 1440x1080 with 2 Axes>"
      ]
     },
     "metadata": {
      "needs_background": "light"
     },
     "output_type": "display_data"
    }
   ],
   "source": [
    "fig, ax = plt.subplots(figsize=(20, 15))\n",
    "sns.heatmap(data=df_total.corr().round(2), annot=True, linewidths=0.7, cmap='YlGnBu')\n",
    "plt.show()"
   ]
  },
  {
   "cell_type": "markdown",
   "metadata": {},
   "source": [
    "##### median income of every profession"
   ]
  },
  {
   "cell_type": "code",
   "execution_count": 22,
   "metadata": {},
   "outputs": [
    {
     "data": {
      "text/html": [
       "<div>\n",
       "<style scoped>\n",
       "    .dataframe tbody tr th:only-of-type {\n",
       "        vertical-align: middle;\n",
       "    }\n",
       "\n",
       "    .dataframe tbody tr th {\n",
       "        vertical-align: top;\n",
       "    }\n",
       "\n",
       "    .dataframe thead th {\n",
       "        text-align: right;\n",
       "    }\n",
       "</style>\n",
       "<table border=\"1\" class=\"dataframe\">\n",
       "  <thead>\n",
       "    <tr style=\"text-align: right;\">\n",
       "      <th></th>\n",
       "      <th>Profession</th>\n",
       "      <th>Income (USD)</th>\n",
       "    </tr>\n",
       "  </thead>\n",
       "  <tbody>\n",
       "    <tr>\n",
       "      <th>0</th>\n",
       "      <td>Businessman</td>\n",
       "      <td>6425.990</td>\n",
       "    </tr>\n",
       "    <tr>\n",
       "      <th>1</th>\n",
       "      <td>Commercial associate</td>\n",
       "      <td>2569.610</td>\n",
       "    </tr>\n",
       "    <tr>\n",
       "      <th>2</th>\n",
       "      <td>Maternity leave</td>\n",
       "      <td>734.490</td>\n",
       "    </tr>\n",
       "    <tr>\n",
       "      <th>3</th>\n",
       "      <td>Pensioner</td>\n",
       "      <td>1909.665</td>\n",
       "    </tr>\n",
       "    <tr>\n",
       "      <th>4</th>\n",
       "      <td>State servant</td>\n",
       "      <td>2308.285</td>\n",
       "    </tr>\n",
       "    <tr>\n",
       "      <th>5</th>\n",
       "      <td>Student</td>\n",
       "      <td>2446.100</td>\n",
       "    </tr>\n",
       "    <tr>\n",
       "      <th>6</th>\n",
       "      <td>Unemployed</td>\n",
       "      <td>805.370</td>\n",
       "    </tr>\n",
       "    <tr>\n",
       "      <th>7</th>\n",
       "      <td>Working</td>\n",
       "      <td>2115.410</td>\n",
       "    </tr>\n",
       "  </tbody>\n",
       "</table>\n",
       "</div>"
      ],
      "text/plain": [
       "             Profession  Income (USD)\n",
       "0           Businessman      6425.990\n",
       "1  Commercial associate      2569.610\n",
       "2       Maternity leave       734.490\n",
       "3             Pensioner      1909.665\n",
       "4         State servant      2308.285\n",
       "5               Student      2446.100\n",
       "6            Unemployed       805.370\n",
       "7               Working      2115.410"
      ]
     },
     "execution_count": 22,
     "metadata": {},
     "output_type": "execute_result"
    }
   ],
   "source": [
    "pivot_table = df_total.pivot_table(\n",
    "    index=['Profession'],\n",
    "    values=['Income (USD)'],\n",
    "    aggfunc={'Income (USD)': 'median'}\n",
    ")\n",
    "\n",
    "df2 = pivot_table.rename_axis(None, axis=1).reset_index()\n",
    "df2"
   ]
  },
  {
   "cell_type": "code",
   "execution_count": 23,
   "metadata": {},
   "outputs": [],
   "source": [
    "# Imputing misssing values in the column: 'Income (USD)' with the median income of evry profession\n",
    "\n",
    "df_total['Income (USD)'] = df_total['Income (USD)'].fillna(df_total.groupby('Profession')['Income (USD)'].transform('median'))"
   ]
  },
  {
   "cell_type": "code",
   "execution_count": 24,
   "metadata": {},
   "outputs": [
    {
     "data": {
      "text/plain": [
       "Low     0.910492\n",
       "High    0.089508\n",
       "Name: Income Stability, dtype: float64"
      ]
     },
     "execution_count": 24,
     "metadata": {},
     "output_type": "execute_result"
    }
   ],
   "source": [
    "# We have almost 90% of customer who have LOW income stability\n",
    "\n",
    "df_total['Income Stability'].value_counts(normalize=True)"
   ]
  },
  {
   "cell_type": "code",
   "execution_count": 25,
   "metadata": {},
   "outputs": [
    {
     "data": {
      "text/plain": [
       "(4252, 3)"
      ]
     },
     "execution_count": 25,
     "metadata": {},
     "output_type": "execute_result"
    },
    {
     "data": {
      "text/html": [
       "<div>\n",
       "<style scoped>\n",
       "    .dataframe tbody tr th:only-of-type {\n",
       "        vertical-align: middle;\n",
       "    }\n",
       "\n",
       "    .dataframe tbody tr th {\n",
       "        vertical-align: top;\n",
       "    }\n",
       "\n",
       "    .dataframe thead th {\n",
       "        text-align: right;\n",
       "    }\n",
       "</style>\n",
       "<table border=\"1\" class=\"dataframe\">\n",
       "  <thead>\n",
       "    <tr style=\"text-align: right;\">\n",
       "      <th></th>\n",
       "      <th>Income Stability</th>\n",
       "      <th>Profession</th>\n",
       "      <th>Type of Employment</th>\n",
       "    </tr>\n",
       "  </thead>\n",
       "  <tbody>\n",
       "    <tr>\n",
       "      <th>2</th>\n",
       "      <td>High</td>\n",
       "      <td>Pensioner</td>\n",
       "      <td>NaN</td>\n",
       "    </tr>\n",
       "    <tr>\n",
       "      <th>3</th>\n",
       "      <td>High</td>\n",
       "      <td>Pensioner</td>\n",
       "      <td>NaN</td>\n",
       "    </tr>\n",
       "    <tr>\n",
       "      <th>18</th>\n",
       "      <td>High</td>\n",
       "      <td>Pensioner</td>\n",
       "      <td>NaN</td>\n",
       "    </tr>\n",
       "    <tr>\n",
       "      <th>25</th>\n",
       "      <td>High</td>\n",
       "      <td>Pensioner</td>\n",
       "      <td>NaN</td>\n",
       "    </tr>\n",
       "    <tr>\n",
       "      <th>64</th>\n",
       "      <td>High</td>\n",
       "      <td>Pensioner</td>\n",
       "      <td>NaN</td>\n",
       "    </tr>\n",
       "  </tbody>\n",
       "</table>\n",
       "</div>"
      ],
      "text/plain": [
       "   Income Stability Profession Type of Employment\n",
       "2              High  Pensioner                NaN\n",
       "3              High  Pensioner                NaN\n",
       "18             High  Pensioner                NaN\n",
       "25             High  Pensioner                NaN\n",
       "64             High  Pensioner                NaN"
      ]
     },
     "execution_count": 25,
     "metadata": {},
     "output_type": "execute_result"
    },
    {
     "data": {
      "text/html": [
       "<div>\n",
       "<style scoped>\n",
       "    .dataframe tbody tr th:only-of-type {\n",
       "        vertical-align: middle;\n",
       "    }\n",
       "\n",
       "    .dataframe tbody tr th {\n",
       "        vertical-align: top;\n",
       "    }\n",
       "\n",
       "    .dataframe thead th {\n",
       "        text-align: right;\n",
       "    }\n",
       "</style>\n",
       "<table border=\"1\" class=\"dataframe\">\n",
       "  <thead>\n",
       "    <tr style=\"text-align: right;\">\n",
       "      <th></th>\n",
       "      <th>Income Stability</th>\n",
       "      <th>Profession</th>\n",
       "      <th>Type of Employment</th>\n",
       "    </tr>\n",
       "  </thead>\n",
       "  <tbody>\n",
       "    <tr>\n",
       "      <th>49913</th>\n",
       "      <td>High</td>\n",
       "      <td>Pensioner</td>\n",
       "      <td>NaN</td>\n",
       "    </tr>\n",
       "    <tr>\n",
       "      <th>49967</th>\n",
       "      <td>High</td>\n",
       "      <td>Pensioner</td>\n",
       "      <td>NaN</td>\n",
       "    </tr>\n",
       "    <tr>\n",
       "      <th>49974</th>\n",
       "      <td>High</td>\n",
       "      <td>Pensioner</td>\n",
       "      <td>NaN</td>\n",
       "    </tr>\n",
       "    <tr>\n",
       "      <th>49977</th>\n",
       "      <td>High</td>\n",
       "      <td>Pensioner</td>\n",
       "      <td>NaN</td>\n",
       "    </tr>\n",
       "    <tr>\n",
       "      <th>49990</th>\n",
       "      <td>High</td>\n",
       "      <td>Pensioner</td>\n",
       "      <td>NaN</td>\n",
       "    </tr>\n",
       "  </tbody>\n",
       "</table>\n",
       "</div>"
      ],
      "text/plain": [
       "      Income Stability Profession Type of Employment\n",
       "49913             High  Pensioner                NaN\n",
       "49967             High  Pensioner                NaN\n",
       "49974             High  Pensioner                NaN\n",
       "49977             High  Pensioner                NaN\n",
       "49990             High  Pensioner                NaN"
      ]
     },
     "execution_count": 25,
     "metadata": {},
     "output_type": "execute_result"
    }
   ],
   "source": [
    "# All the people whose income stabilty is High  are Pensioners since they get there pensions timely hence income is stable\n",
    "# and hence they dont have any Type of employement as they are retired\n",
    "\n",
    "df_total[df_total['Income Stability'] == 'High'][['Income Stability','Profession','Type of Employment']].shape\n",
    "df_total[df_total['Income Stability'] == 'High'][['Income Stability','Profession','Type of Employment']].head()\n",
    "df_total[df_total['Income Stability'] == 'High'][['Income Stability','Profession','Type of Employment']].tail()"
   ]
  },
  {
   "cell_type": "code",
   "execution_count": 26,
   "metadata": {},
   "outputs": [
    {
     "data": {
      "text/plain": [
       "Semi-Urban    36026\n",
       "Rural          8774\n",
       "Urban          5200\n",
       "Name: Location, dtype: int64"
      ]
     },
     "execution_count": 26,
     "metadata": {},
     "output_type": "execute_result"
    }
   ],
   "source": [
    "# we have 3 unique locaitons out of which most people live in Semi Urban areas\n",
    "df_total['Location'].value_counts()"
   ]
  },
  {
   "cell_type": "code",
   "execution_count": 27,
   "metadata": {},
   "outputs": [
    {
     "data": {
      "text/html": [
       "<div>\n",
       "<style scoped>\n",
       "    .dataframe tbody tr th:only-of-type {\n",
       "        vertical-align: middle;\n",
       "    }\n",
       "\n",
       "    .dataframe tbody tr th {\n",
       "        vertical-align: top;\n",
       "    }\n",
       "\n",
       "    .dataframe thead th {\n",
       "        text-align: right;\n",
       "    }\n",
       "</style>\n",
       "<table border=\"1\" class=\"dataframe\">\n",
       "  <thead>\n",
       "    <tr style=\"text-align: right;\">\n",
       "      <th></th>\n",
       "      <th>Location</th>\n",
       "      <th>Income (USD)_Businessman</th>\n",
       "      <th>Income (USD)_Commercial associate</th>\n",
       "      <th>Income (USD)_Maternity leave</th>\n",
       "      <th>Income (USD)_Pensioner</th>\n",
       "      <th>Income (USD)_State servant</th>\n",
       "      <th>Income (USD)_Student</th>\n",
       "      <th>Income (USD)_Unemployed</th>\n",
       "      <th>Income (USD)_Working</th>\n",
       "    </tr>\n",
       "  </thead>\n",
       "  <tbody>\n",
       "    <tr>\n",
       "      <th>0</th>\n",
       "      <td>Rural</td>\n",
       "      <td>NaN</td>\n",
       "      <td>2559.899130</td>\n",
       "      <td>NaN</td>\n",
       "      <td>2037.489156</td>\n",
       "      <td>2367.530780</td>\n",
       "      <td>2446.100000</td>\n",
       "      <td>1405.005</td>\n",
       "      <td>2258.942773</td>\n",
       "    </tr>\n",
       "    <tr>\n",
       "      <th>1</th>\n",
       "      <td>Semi-Urban</td>\n",
       "      <td>2551.67</td>\n",
       "      <td>2749.451674</td>\n",
       "      <td>734.49</td>\n",
       "      <td>2062.891211</td>\n",
       "      <td>2460.834855</td>\n",
       "      <td>2247.513333</td>\n",
       "      <td>614.665</td>\n",
       "      <td>2418.958214</td>\n",
       "    </tr>\n",
       "    <tr>\n",
       "      <th>2</th>\n",
       "      <td>Urban</td>\n",
       "      <td>10300.31</td>\n",
       "      <td>3825.195853</td>\n",
       "      <td>734.49</td>\n",
       "      <td>2991.677913</td>\n",
       "      <td>3395.291821</td>\n",
       "      <td>3315.770000</td>\n",
       "      <td>NaN</td>\n",
       "      <td>3229.757321</td>\n",
       "    </tr>\n",
       "  </tbody>\n",
       "</table>\n",
       "</div>"
      ],
      "text/plain": [
       "     Location  Income (USD)_Businessman  Income (USD)_Commercial associate  \\\n",
       "0       Rural                       NaN                        2559.899130   \n",
       "1  Semi-Urban                   2551.67                        2749.451674   \n",
       "2       Urban                  10300.31                        3825.195853   \n",
       "\n",
       "   Income (USD)_Maternity leave  Income (USD)_Pensioner  \\\n",
       "0                           NaN             2037.489156   \n",
       "1                        734.49             2062.891211   \n",
       "2                        734.49             2991.677913   \n",
       "\n",
       "   Income (USD)_State servant  Income (USD)_Student  Income (USD)_Unemployed  \\\n",
       "0                 2367.530780           2446.100000                 1405.005   \n",
       "1                 2460.834855           2247.513333                  614.665   \n",
       "2                 3395.291821           3315.770000                      NaN   \n",
       "\n",
       "   Income (USD)_Working  \n",
       "0           2258.942773  \n",
       "1           2418.958214  \n",
       "2           3229.757321  "
      ]
     },
     "execution_count": 27,
     "metadata": {},
     "output_type": "execute_result"
    }
   ],
   "source": [
    "# we see that for every profession, the income for Urban Area is higher than semi-urban and rural.\n",
    "# and this justified as the cost of living is higher in Urabn is higher\n",
    "\n",
    "pivot_table = df_total.pivot_table(\n",
    "    index=['Location'],\n",
    "    columns=['Profession'],\n",
    "    values=['Income (USD)'],\n",
    "    aggfunc={'Income (USD)': 'mean'}\n",
    ")\n",
    "\n",
    "\n",
    "pivot_table.columns = [\n",
    "    '_'.join([str(c) for c in col]).strip() if isinstance(col, tuple) else col\n",
    "    for col in pivot_table.columns.values\n",
    "]\n",
    "\n",
    "\n",
    "df2 = pivot_table.rename_axis(None, axis=1).reset_index()\n",
    "df2"
   ]
  },
  {
   "cell_type": "code",
   "execution_count": 28,
   "metadata": {},
   "outputs": [],
   "source": [
    "# imputing the column: 'Income Stability' with most frequent value i.e LOW\n",
    "\n",
    "df_total['Income Stability'] = df_total['Income Stability'].fillna(df_total['Income Stability'].mode()[0])"
   ]
  },
  {
   "cell_type": "code",
   "execution_count": 29,
   "metadata": {
    "scrolled": true
   },
   "outputs": [
    {
     "data": {
      "text/plain": [
       "Laborers                 9321\n",
       "Sales staff              6169\n",
       "Core staff               5462\n",
       "Managers                 4214\n",
       "Drivers                  2663\n",
       "Accountants              2265\n",
       "High skill tech staff    2188\n",
       "Medicine staff           1462\n",
       "Cooking staff             971\n",
       "Security staff            956\n",
       "Cleaning staff            571\n",
       "Private service staff     543\n",
       "Low-skill Laborers        303\n",
       "Secretaries               280\n",
       "Waiters/barmen staff      259\n",
       "Realty agents             154\n",
       "HR staff                  132\n",
       "IT staff                  128\n",
       "Name: Type of Employment, dtype: int64"
      ]
     },
     "execution_count": 29,
     "metadata": {},
     "output_type": "execute_result"
    }
   ],
   "source": [
    "# We have many different types of values in column:'Type of Employment'\n",
    "# Also we saw previously that there are many missing values in this column.\n",
    "\n",
    "df_total['Type of Employment'].value_counts()"
   ]
  },
  {
   "cell_type": "markdown",
   "metadata": {},
   "source": [
    "##### median of Income based of type of Employement"
   ]
  },
  {
   "cell_type": "code",
   "execution_count": 30,
   "metadata": {
    "scrolled": true
   },
   "outputs": [
    {
     "data": {
      "text/html": [
       "<div>\n",
       "<style scoped>\n",
       "    .dataframe tbody tr th:only-of-type {\n",
       "        vertical-align: middle;\n",
       "    }\n",
       "\n",
       "    .dataframe tbody tr th {\n",
       "        vertical-align: top;\n",
       "    }\n",
       "\n",
       "    .dataframe thead th {\n",
       "        text-align: right;\n",
       "    }\n",
       "</style>\n",
       "<table border=\"1\" class=\"dataframe\">\n",
       "  <thead>\n",
       "    <tr style=\"text-align: right;\">\n",
       "      <th></th>\n",
       "      <th>Type of Employment</th>\n",
       "      <th>Income (USD)</th>\n",
       "    </tr>\n",
       "  </thead>\n",
       "  <tbody>\n",
       "    <tr>\n",
       "      <th>0</th>\n",
       "      <td>Managers</td>\n",
       "      <td>3103.495</td>\n",
       "    </tr>\n",
       "    <tr>\n",
       "      <th>1</th>\n",
       "      <td>IT staff</td>\n",
       "      <td>2483.910</td>\n",
       "    </tr>\n",
       "    <tr>\n",
       "      <th>2</th>\n",
       "      <td>Drivers</td>\n",
       "      <td>2446.810</td>\n",
       "    </tr>\n",
       "    <tr>\n",
       "      <th>3</th>\n",
       "      <td>Realty agents</td>\n",
       "      <td>2446.685</td>\n",
       "    </tr>\n",
       "    <tr>\n",
       "      <th>4</th>\n",
       "      <td>Accountants</td>\n",
       "      <td>2421.150</td>\n",
       "    </tr>\n",
       "    <tr>\n",
       "      <th>5</th>\n",
       "      <td>Private service staff</td>\n",
       "      <td>2382.290</td>\n",
       "    </tr>\n",
       "    <tr>\n",
       "      <th>6</th>\n",
       "      <td>High skill tech staff</td>\n",
       "      <td>2311.680</td>\n",
       "    </tr>\n",
       "    <tr>\n",
       "      <th>7</th>\n",
       "      <td>HR staff</td>\n",
       "      <td>2195.775</td>\n",
       "    </tr>\n",
       "    <tr>\n",
       "      <th>8</th>\n",
       "      <td>Core staff</td>\n",
       "      <td>2174.180</td>\n",
       "    </tr>\n",
       "    <tr>\n",
       "      <th>9</th>\n",
       "      <td>Laborers</td>\n",
       "      <td>2115.410</td>\n",
       "    </tr>\n",
       "    <tr>\n",
       "      <th>10</th>\n",
       "      <td>Medicine staff</td>\n",
       "      <td>2115.410</td>\n",
       "    </tr>\n",
       "    <tr>\n",
       "      <th>11</th>\n",
       "      <td>Security staff</td>\n",
       "      <td>2110.150</td>\n",
       "    </tr>\n",
       "    <tr>\n",
       "      <th>12</th>\n",
       "      <td>Waiters/barmen staff</td>\n",
       "      <td>2102.430</td>\n",
       "    </tr>\n",
       "    <tr>\n",
       "      <th>13</th>\n",
       "      <td>Sales staff</td>\n",
       "      <td>2096.820</td>\n",
       "    </tr>\n",
       "    <tr>\n",
       "      <th>14</th>\n",
       "      <td>Secretaries</td>\n",
       "      <td>2064.370</td>\n",
       "    </tr>\n",
       "    <tr>\n",
       "      <th>15</th>\n",
       "      <td>Cooking staff</td>\n",
       "      <td>1989.860</td>\n",
       "    </tr>\n",
       "    <tr>\n",
       "      <th>16</th>\n",
       "      <td>Low-skill Laborers</td>\n",
       "      <td>1952.690</td>\n",
       "    </tr>\n",
       "    <tr>\n",
       "      <th>17</th>\n",
       "      <td>Cleaning staff</td>\n",
       "      <td>1825.460</td>\n",
       "    </tr>\n",
       "  </tbody>\n",
       "</table>\n",
       "</div>"
      ],
      "text/plain": [
       "       Type of Employment  Income (USD)\n",
       "0                Managers      3103.495\n",
       "1                IT staff      2483.910\n",
       "2                 Drivers      2446.810\n",
       "3           Realty agents      2446.685\n",
       "4             Accountants      2421.150\n",
       "5   Private service staff      2382.290\n",
       "6   High skill tech staff      2311.680\n",
       "7                HR staff      2195.775\n",
       "8              Core staff      2174.180\n",
       "9                Laborers      2115.410\n",
       "10         Medicine staff      2115.410\n",
       "11         Security staff      2110.150\n",
       "12   Waiters/barmen staff      2102.430\n",
       "13            Sales staff      2096.820\n",
       "14            Secretaries      2064.370\n",
       "15          Cooking staff      1989.860\n",
       "16     Low-skill Laborers      1952.690\n",
       "17         Cleaning staff      1825.460"
      ]
     },
     "execution_count": 30,
     "metadata": {},
     "output_type": "execute_result"
    }
   ],
   "source": [
    "pivot_table = df_total.pivot_table(\n",
    "    index=['Type of Employment'],\n",
    "    values=['Income (USD)'],\n",
    "    aggfunc={'Income (USD)': 'median'}\n",
    ")\n",
    "\n",
    "\n",
    "df2 = pivot_table.rename_axis(None, axis=1).reset_index()\n",
    "\n",
    "df2 = df2.sort_values(by='Income (USD)', ascending=False, na_position='first')\n",
    "df2 = df2.reset_index(drop=True)\n",
    "df2"
   ]
  },
  {
   "cell_type": "code",
   "execution_count": 31,
   "metadata": {
    "scrolled": true
   },
   "outputs": [
    {
     "data": {
      "text/html": [
       "<div>\n",
       "<style scoped>\n",
       "    .dataframe tbody tr th:only-of-type {\n",
       "        vertical-align: middle;\n",
       "    }\n",
       "\n",
       "    .dataframe tbody tr th {\n",
       "        vertical-align: top;\n",
       "    }\n",
       "\n",
       "    .dataframe thead th {\n",
       "        text-align: right;\n",
       "    }\n",
       "</style>\n",
       "<table border=\"1\" class=\"dataframe\">\n",
       "  <thead>\n",
       "    <tr style=\"text-align: right;\">\n",
       "      <th></th>\n",
       "      <th>index</th>\n",
       "      <th>Before_value</th>\n",
       "    </tr>\n",
       "  </thead>\n",
       "  <tbody>\n",
       "    <tr>\n",
       "      <th>0</th>\n",
       "      <td>Laborers</td>\n",
       "      <td>0.245025</td>\n",
       "    </tr>\n",
       "    <tr>\n",
       "      <th>1</th>\n",
       "      <td>Sales staff</td>\n",
       "      <td>0.162167</td>\n",
       "    </tr>\n",
       "    <tr>\n",
       "      <th>2</th>\n",
       "      <td>Core staff</td>\n",
       "      <td>0.143582</td>\n",
       "    </tr>\n",
       "    <tr>\n",
       "      <th>3</th>\n",
       "      <td>Managers</td>\n",
       "      <td>0.110775</td>\n",
       "    </tr>\n",
       "    <tr>\n",
       "      <th>4</th>\n",
       "      <td>Drivers</td>\n",
       "      <td>0.070003</td>\n",
       "    </tr>\n",
       "    <tr>\n",
       "      <th>5</th>\n",
       "      <td>Accountants</td>\n",
       "      <td>0.059541</td>\n",
       "    </tr>\n",
       "    <tr>\n",
       "      <th>6</th>\n",
       "      <td>High skill tech staff</td>\n",
       "      <td>0.057517</td>\n",
       "    </tr>\n",
       "    <tr>\n",
       "      <th>7</th>\n",
       "      <td>Medicine staff</td>\n",
       "      <td>0.038432</td>\n",
       "    </tr>\n",
       "    <tr>\n",
       "      <th>8</th>\n",
       "      <td>Cooking staff</td>\n",
       "      <td>0.025525</td>\n",
       "    </tr>\n",
       "    <tr>\n",
       "      <th>9</th>\n",
       "      <td>Security staff</td>\n",
       "      <td>0.025131</td>\n",
       "    </tr>\n",
       "    <tr>\n",
       "      <th>10</th>\n",
       "      <td>Cleaning staff</td>\n",
       "      <td>0.015010</td>\n",
       "    </tr>\n",
       "    <tr>\n",
       "      <th>11</th>\n",
       "      <td>Private service staff</td>\n",
       "      <td>0.014274</td>\n",
       "    </tr>\n",
       "    <tr>\n",
       "      <th>12</th>\n",
       "      <td>Low-skill Laborers</td>\n",
       "      <td>0.007965</td>\n",
       "    </tr>\n",
       "    <tr>\n",
       "      <th>13</th>\n",
       "      <td>Secretaries</td>\n",
       "      <td>0.007360</td>\n",
       "    </tr>\n",
       "    <tr>\n",
       "      <th>14</th>\n",
       "      <td>Waiters/barmen staff</td>\n",
       "      <td>0.006808</td>\n",
       "    </tr>\n",
       "    <tr>\n",
       "      <th>15</th>\n",
       "      <td>Realty agents</td>\n",
       "      <td>0.004048</td>\n",
       "    </tr>\n",
       "    <tr>\n",
       "      <th>16</th>\n",
       "      <td>HR staff</td>\n",
       "      <td>0.003470</td>\n",
       "    </tr>\n",
       "    <tr>\n",
       "      <th>17</th>\n",
       "      <td>IT staff</td>\n",
       "      <td>0.003365</td>\n",
       "    </tr>\n",
       "  </tbody>\n",
       "</table>\n",
       "</div>"
      ],
      "text/plain": [
       "                    index  Before_value\n",
       "0                Laborers      0.245025\n",
       "1             Sales staff      0.162167\n",
       "2              Core staff      0.143582\n",
       "3                Managers      0.110775\n",
       "4                 Drivers      0.070003\n",
       "5             Accountants      0.059541\n",
       "6   High skill tech staff      0.057517\n",
       "7          Medicine staff      0.038432\n",
       "8           Cooking staff      0.025525\n",
       "9          Security staff      0.025131\n",
       "10         Cleaning staff      0.015010\n",
       "11  Private service staff      0.014274\n",
       "12     Low-skill Laborers      0.007965\n",
       "13            Secretaries      0.007360\n",
       "14   Waiters/barmen staff      0.006808\n",
       "15          Realty agents      0.004048\n",
       "16               HR staff      0.003470\n",
       "17               IT staff      0.003365"
      ]
     },
     "execution_count": 31,
     "metadata": {},
     "output_type": "execute_result"
    }
   ],
   "source": [
    "df_total['Type of Employment'].value_counts(normalize = True).sort_values(ascending = False).to_frame('Before_value').reset_index()"
   ]
  },
  {
   "cell_type": "code",
   "execution_count": 32,
   "metadata": {
    "scrolled": true
   },
   "outputs": [
    {
     "data": {
      "text/html": [
       "<div>\n",
       "<style scoped>\n",
       "    .dataframe tbody tr th:only-of-type {\n",
       "        vertical-align: middle;\n",
       "    }\n",
       "\n",
       "    .dataframe tbody tr th {\n",
       "        vertical-align: top;\n",
       "    }\n",
       "\n",
       "    .dataframe thead th {\n",
       "        text-align: right;\n",
       "    }\n",
       "</style>\n",
       "<table border=\"1\" class=\"dataframe\">\n",
       "  <thead>\n",
       "    <tr style=\"text-align: right;\">\n",
       "      <th></th>\n",
       "      <th>index</th>\n",
       "      <th>Before_imputing</th>\n",
       "      <th>After_imputing</th>\n",
       "    </tr>\n",
       "  </thead>\n",
       "  <tbody>\n",
       "    <tr>\n",
       "      <th>0</th>\n",
       "      <td>Laborers</td>\n",
       "      <td>0.245025</td>\n",
       "      <td>0.24406</td>\n",
       "    </tr>\n",
       "    <tr>\n",
       "      <th>1</th>\n",
       "      <td>Sales staff</td>\n",
       "      <td>0.162167</td>\n",
       "      <td>0.16390</td>\n",
       "    </tr>\n",
       "    <tr>\n",
       "      <th>2</th>\n",
       "      <td>Core staff</td>\n",
       "      <td>0.143582</td>\n",
       "      <td>0.14232</td>\n",
       "    </tr>\n",
       "    <tr>\n",
       "      <th>3</th>\n",
       "      <td>Managers</td>\n",
       "      <td>0.110775</td>\n",
       "      <td>0.11032</td>\n",
       "    </tr>\n",
       "    <tr>\n",
       "      <th>4</th>\n",
       "      <td>Drivers</td>\n",
       "      <td>0.070003</td>\n",
       "      <td>0.06936</td>\n",
       "    </tr>\n",
       "    <tr>\n",
       "      <th>5</th>\n",
       "      <td>Accountants</td>\n",
       "      <td>0.059541</td>\n",
       "      <td>0.05944</td>\n",
       "    </tr>\n",
       "    <tr>\n",
       "      <th>6</th>\n",
       "      <td>High skill tech staff</td>\n",
       "      <td>0.057517</td>\n",
       "      <td>0.05858</td>\n",
       "    </tr>\n",
       "    <tr>\n",
       "      <th>7</th>\n",
       "      <td>Medicine staff</td>\n",
       "      <td>0.038432</td>\n",
       "      <td>0.03820</td>\n",
       "    </tr>\n",
       "    <tr>\n",
       "      <th>8</th>\n",
       "      <td>Cooking staff</td>\n",
       "      <td>0.025525</td>\n",
       "      <td>0.02588</td>\n",
       "    </tr>\n",
       "    <tr>\n",
       "      <th>9</th>\n",
       "      <td>Security staff</td>\n",
       "      <td>0.025131</td>\n",
       "      <td>0.02550</td>\n",
       "    </tr>\n",
       "    <tr>\n",
       "      <th>10</th>\n",
       "      <td>Cleaning staff</td>\n",
       "      <td>0.015010</td>\n",
       "      <td>0.01498</td>\n",
       "    </tr>\n",
       "    <tr>\n",
       "      <th>11</th>\n",
       "      <td>Private service staff</td>\n",
       "      <td>0.014274</td>\n",
       "      <td>0.01412</td>\n",
       "    </tr>\n",
       "    <tr>\n",
       "      <th>12</th>\n",
       "      <td>Low-skill Laborers</td>\n",
       "      <td>0.007965</td>\n",
       "      <td>0.00810</td>\n",
       "    </tr>\n",
       "    <tr>\n",
       "      <th>13</th>\n",
       "      <td>Secretaries</td>\n",
       "      <td>0.007360</td>\n",
       "      <td>0.00768</td>\n",
       "    </tr>\n",
       "    <tr>\n",
       "      <th>14</th>\n",
       "      <td>Waiters/barmen staff</td>\n",
       "      <td>0.006808</td>\n",
       "      <td>0.00688</td>\n",
       "    </tr>\n",
       "    <tr>\n",
       "      <th>15</th>\n",
       "      <td>Realty agents</td>\n",
       "      <td>0.004048</td>\n",
       "      <td>0.00392</td>\n",
       "    </tr>\n",
       "    <tr>\n",
       "      <th>16</th>\n",
       "      <td>HR staff</td>\n",
       "      <td>0.003470</td>\n",
       "      <td>0.00344</td>\n",
       "    </tr>\n",
       "    <tr>\n",
       "      <th>17</th>\n",
       "      <td>IT staff</td>\n",
       "      <td>0.003365</td>\n",
       "      <td>0.00332</td>\n",
       "    </tr>\n",
       "  </tbody>\n",
       "</table>\n",
       "</div>"
      ],
      "text/plain": [
       "                    index  Before_imputing  After_imputing\n",
       "0                Laborers         0.245025         0.24406\n",
       "1             Sales staff         0.162167         0.16390\n",
       "2              Core staff         0.143582         0.14232\n",
       "3                Managers         0.110775         0.11032\n",
       "4                 Drivers         0.070003         0.06936\n",
       "5             Accountants         0.059541         0.05944\n",
       "6   High skill tech staff         0.057517         0.05858\n",
       "7          Medicine staff         0.038432         0.03820\n",
       "8           Cooking staff         0.025525         0.02588\n",
       "9          Security staff         0.025131         0.02550\n",
       "10         Cleaning staff         0.015010         0.01498\n",
       "11  Private service staff         0.014274         0.01412\n",
       "12     Low-skill Laborers         0.007965         0.00810\n",
       "13            Secretaries         0.007360         0.00768\n",
       "14   Waiters/barmen staff         0.006808         0.00688\n",
       "15          Realty agents         0.004048         0.00392\n",
       "16               HR staff         0.003470         0.00344\n",
       "17               IT staff         0.003365         0.00332"
      ]
     },
     "execution_count": 32,
     "metadata": {},
     "output_type": "execute_result"
    }
   ],
   "source": [
    "# forward filling(imptation) and keeping the ratio constant as before\n",
    "# also showing the comparison in ratio - BEFORE and AFTER the imputaiton\n",
    "\n",
    "\n",
    "before = df_total['Type of Employment'].value_counts(normalize = True).sort_values(ascending = False).to_frame('Before_imputing').reset_index()\n",
    "\n",
    "df_total['Type of Employment'] = df_total['Type of Employment'].fillna(method='ffill')\n",
    "\n",
    "after = df_total['Type of Employment'].value_counts(normalize = True).sort_values(ascending = False).to_frame('After_imputing').reset_index()\n",
    "\n",
    "combine = [before, after[after.columns[-1]]] # for variable 'after', we are only fetching the column with values and not \n",
    "                                             # the index\n",
    "pd.concat(combine,axis = 1)"
   ]
  },
  {
   "cell_type": "markdown",
   "metadata": {},
   "source": [
    "##### Changing the 'type of employemnt' to a broad category: 'Low_Skilled', 'Medium_Skilled', 'High_skilled', 'Advance_skilled'"
   ]
  },
  {
   "cell_type": "code",
   "execution_count": 33,
   "metadata": {},
   "outputs": [],
   "source": [
    "df_total['Type of Employment'] = df_total['Type of Employment'].map(\n",
    "    \n",
    "                                    {'Cleaning staff' : 'Low_Skilled',\n",
    "                                     'Low-skill Laborers' : 'Low_Skilled',\n",
    "                                     'Cooking staff' : 'Low_Skilled',\n",
    "                                     \n",
    "                                     'HR staff' : 'Medium_Skilled',\n",
    "                                     'Laborers' : 'Medium_Skilled',\n",
    "                                     'Medicine staff' : 'Medium_Skilled',\n",
    "                                     'Waiters/barmen staff' : 'Medium_Skilled',\n",
    "                                     'Sales staff' : 'Medium_Skilled',\n",
    "                                     'Secretaries' : 'Medium_Skilled',\n",
    "                                     'Security staff' : 'Medium_Skilled',\n",
    "                                     'Core staff' : 'Medium_Skilled',\n",
    "                                     \n",
    "                                     'High skill tech staff' : 'High_skilled',\n",
    "                                     'Private service staff' : 'High_skilled',\n",
    "                                     'Accountants' :'High_skilled',\n",
    "                                     'IT staff' : 'High_skilled',\n",
    "                                     'Drivers' : 'High_skilled',\n",
    "                                     'Realty agents' : 'High_skilled',\n",
    "                                     \n",
    "                                     'Managers' : 'Advance_skilled'\n",
    "                                    })"
   ]
  },
  {
   "cell_type": "markdown",
   "metadata": {},
   "source": [
    "##### We have more of 'Medium_Skilled' customers."
   ]
  },
  {
   "cell_type": "code",
   "execution_count": 34,
   "metadata": {
    "scrolled": true
   },
   "outputs": [
    {
     "data": {
      "text/plain": [
       "Medium_Skilled     0.63198\n",
       "High_skilled       0.20874\n",
       "Advance_skilled    0.11032\n",
       "Low_Skilled        0.04896\n",
       "Name: Type of Employment, dtype: float64"
      ]
     },
     "execution_count": 34,
     "metadata": {},
     "output_type": "execute_result"
    }
   ],
   "source": [
    "df_total['Type of Employment'].value_counts(normalize = True)"
   ]
  },
  {
   "cell_type": "code",
   "execution_count": 35,
   "metadata": {},
   "outputs": [
    {
     "data": {
      "text/plain": [
       "<AxesSubplot:xlabel='Current Loan Expenses (USD)'>"
      ]
     },
     "execution_count": 35,
     "metadata": {},
     "output_type": "execute_result"
    },
    {
     "data": {
      "image/png": "[encoded data removed]",
      "text/plain": [
       "<Figure size 432x288 with 1 Axes>"
      ]
     },
     "metadata": {
      "needs_background": "light"
     },
     "output_type": "display_data"
    }
   ],
   "source": [
    "# seems like we have -ve values in column:'Current Loan Expenses (USD)'\n",
    "sns.distplot(df_total['Current Loan Expenses (USD)'])"
   ]
  },
  {
   "cell_type": "code",
   "execution_count": 37,
   "metadata": {},
   "outputs": [
    {
     "data": {
      "text/plain": [
       "(177, 23)"
      ]
     },
     "execution_count": 37,
     "metadata": {},
     "output_type": "execute_result"
    },
    {
     "data": {
      "text/html": [
       "<div>\n",
       "<style scoped>\n",
       "    .dataframe tbody tr th:only-of-type {\n",
       "        vertical-align: middle;\n",
       "    }\n",
       "\n",
       "    .dataframe tbody tr th {\n",
       "        vertical-align: top;\n",
       "    }\n",
       "\n",
       "    .dataframe thead th {\n",
       "        text-align: right;\n",
       "    }\n",
       "</style>\n",
       "<table border=\"1\" class=\"dataframe\">\n",
       "  <thead>\n",
       "    <tr style=\"text-align: right;\">\n",
       "      <th></th>\n",
       "      <th>Current Loan Expenses (USD)</th>\n",
       "    </tr>\n",
       "  </thead>\n",
       "  <tbody>\n",
       "    <tr>\n",
       "      <th>303</th>\n",
       "      <td>-999.0</td>\n",
       "    </tr>\n",
       "    <tr>\n",
       "      <th>518</th>\n",
       "      <td>-999.0</td>\n",
       "    </tr>\n",
       "    <tr>\n",
       "      <th>567</th>\n",
       "      <td>-999.0</td>\n",
       "    </tr>\n",
       "    <tr>\n",
       "      <th>724</th>\n",
       "      <td>-999.0</td>\n",
       "    </tr>\n",
       "    <tr>\n",
       "      <th>832</th>\n",
       "      <td>-999.0</td>\n",
       "    </tr>\n",
       "  </tbody>\n",
       "</table>\n",
       "</div>"
      ],
      "text/plain": [
       "     Current Loan Expenses (USD)\n",
       "303                       -999.0\n",
       "518                       -999.0\n",
       "567                       -999.0\n",
       "724                       -999.0\n",
       "832                       -999.0"
      ]
     },
     "execution_count": 37,
     "metadata": {},
     "output_type": "execute_result"
    }
   ],
   "source": [
    "# Checking the specific value the column is holding. All the values are -999 which is equivalent to NaN\n",
    "\n",
    "df_total[df_total['Current Loan Expenses (USD)'] < 0].shape\n",
    "df_total[df_total['Current Loan Expenses (USD)'] < 0]['Current Loan Expenses (USD)'].to_frame().head()"
   ]
  },
  {
   "cell_type": "code",
   "execution_count": 38,
   "metadata": {},
   "outputs": [],
   "source": [
    "# converting all the -ve values as Nan\n",
    "\n",
    "df_total['Current Loan Expenses (USD)'] = df_total.apply(\n",
    "    \n",
    "lambda x: None if x['Current Loan Expenses (USD)'] == -999.0\n",
    "               else x['Current Loan Expenses (USD)'],axis = 1\n",
    ")"
   ]
  },
  {
   "cell_type": "code",
   "execution_count": 39,
   "metadata": {},
   "outputs": [],
   "source": [
    "# imputing all the NaN in column: 'Current Loan Expenses (USD)' with median of this column\n",
    "\n",
    "df_total['Current Loan Expenses (USD)'] = df_total['Current Loan Expenses (USD)'].fillna(\n",
    "    (df_total['Current Loan Expenses (USD)'].median())\n",
    ")"
   ]
  },
  {
   "cell_type": "code",
   "execution_count": 40,
   "metadata": {},
   "outputs": [
    {
     "data": {
      "text/plain": [
       "<AxesSubplot:xlabel='Dependents', ylabel='count'>"
      ]
     },
     "execution_count": 40,
     "metadata": {},
     "output_type": "execute_result"
    },
    {
     "data": {
      "image/png": "[encoded data removed]",
      "text/plain": [
       "<Figure size 432x288 with 1 Axes>"
      ]
     },
     "metadata": {
      "needs_background": "light"
     },
     "output_type": "display_data"
    }
   ],
   "source": [
    "# checking the number of 'Dependents' the customer has. Most of the applicants have 2 members in dependents\n",
    "\n",
    "sns.countplot(df_total['Dependents'])"
   ]
  },
  {
   "cell_type": "code",
   "execution_count": 41,
   "metadata": {},
   "outputs": [],
   "source": [
    "# imputing the Nans in column:'Dependents'\n",
    "\n",
    "df_total['Dependents'] = df_total['Dependents'].fillna(0.0)"
   ]
  },
  {
   "cell_type": "code",
   "execution_count": 42,
   "metadata": {},
   "outputs": [
    {
     "data": {
      "text/plain": [
       "<AxesSubplot:xlabel='Credit Score'>"
      ]
     },
     "execution_count": 42,
     "metadata": {},
     "output_type": "execute_result"
    },
    {
     "data": {
      "image/png": "[encoded data removed]",
      "text/plain": [
       "<Figure size 432x288 with 1 Axes>"
      ]
     },
     "metadata": {
      "needs_background": "light"
     },
     "output_type": "display_data"
    }
   ],
   "source": [
    "# analyzing the distribution plot for column:'Credit Score'. The plot shows close to normal distribution\n",
    "\n",
    "sns.distplot(df_total['Credit Score'])"
   ]
  },
  {
   "cell_type": "code",
   "execution_count": 43,
   "metadata": {},
   "outputs": [],
   "source": [
    "# imputing the Nans with a mean credit score\n",
    "\n",
    "df_total['Credit Score'] = df_total['Credit Score'].fillna((df_total['Credit Score'].mean()))"
   ]
  },
  {
   "cell_type": "code",
   "execution_count": 44,
   "metadata": {},
   "outputs": [],
   "source": [
    "# Some of the values in column: 'Has Active Credit Card'are NaNs, hence we will fill those Nans with category 'Unpossessed'\n",
    "\n",
    "df_total['Has Active Credit Card'] = df_total['Has Active Credit Card'].fillna('Unpossessed')"
   ]
  },
  {
   "cell_type": "code",
   "execution_count": 45,
   "metadata": {},
   "outputs": [
    {
     "data": {
      "text/plain": [
       "(50000, 22)"
      ]
     },
     "execution_count": 45,
     "metadata": {},
     "output_type": "execute_result"
    }
   ],
   "source": [
    "# 'Property ID' has high cardinality. Therefore dropping the column\n",
    "df_total.drop(columns = 'Property ID', axis = 1, inplace = True)\n",
    "df_total.shape"
   ]
  },
  {
   "cell_type": "code",
   "execution_count": 46,
   "metadata": {
    "scrolled": true
   },
   "outputs": [
    {
     "data": {
      "text/html": [
       "<div>\n",
       "<style scoped>\n",
       "    .dataframe tbody tr th:only-of-type {\n",
       "        vertical-align: middle;\n",
       "    }\n",
       "\n",
       "    .dataframe tbody tr th {\n",
       "        vertical-align: top;\n",
       "    }\n",
       "\n",
       "    .dataframe thead th {\n",
       "        text-align: right;\n",
       "    }\n",
       "</style>\n",
       "<table border=\"1\" class=\"dataframe\">\n",
       "  <thead>\n",
       "    <tr style=\"text-align: right;\">\n",
       "      <th></th>\n",
       "      <th>Income (USD)</th>\n",
       "      <th>Property Age</th>\n",
       "    </tr>\n",
       "  </thead>\n",
       "  <tbody>\n",
       "    <tr>\n",
       "      <th>0</th>\n",
       "      <td>1933.050</td>\n",
       "      <td>1933.05</td>\n",
       "    </tr>\n",
       "    <tr>\n",
       "      <th>1</th>\n",
       "      <td>4952.910</td>\n",
       "      <td>4952.91</td>\n",
       "    </tr>\n",
       "    <tr>\n",
       "      <th>2</th>\n",
       "      <td>988.190</td>\n",
       "      <td>988.19</td>\n",
       "    </tr>\n",
       "    <tr>\n",
       "      <th>3</th>\n",
       "      <td>1909.665</td>\n",
       "      <td>NaN</td>\n",
       "    </tr>\n",
       "    <tr>\n",
       "      <th>4</th>\n",
       "      <td>2614.770</td>\n",
       "      <td>2614.77</td>\n",
       "    </tr>\n",
       "    <tr>\n",
       "      <th>5</th>\n",
       "      <td>1234.920</td>\n",
       "      <td>1234.92</td>\n",
       "    </tr>\n",
       "    <tr>\n",
       "      <th>6</th>\n",
       "      <td>2361.560</td>\n",
       "      <td>2361.56</td>\n",
       "    </tr>\n",
       "    <tr>\n",
       "      <th>7</th>\n",
       "      <td>2308.285</td>\n",
       "      <td>NaN</td>\n",
       "    </tr>\n",
       "    <tr>\n",
       "      <th>8</th>\n",
       "      <td>1296.070</td>\n",
       "      <td>1296.07</td>\n",
       "    </tr>\n",
       "    <tr>\n",
       "      <th>9</th>\n",
       "      <td>1546.170</td>\n",
       "      <td>1546.17</td>\n",
       "    </tr>\n",
       "    <tr>\n",
       "      <th>10</th>\n",
       "      <td>2416.860</td>\n",
       "      <td>2416.86</td>\n",
       "    </tr>\n",
       "    <tr>\n",
       "      <th>11</th>\n",
       "      <td>2719.740</td>\n",
       "      <td>2719.74</td>\n",
       "    </tr>\n",
       "    <tr>\n",
       "      <th>12</th>\n",
       "      <td>777.250</td>\n",
       "      <td>777.25</td>\n",
       "    </tr>\n",
       "    <tr>\n",
       "      <th>13</th>\n",
       "      <td>997.250</td>\n",
       "      <td>997.25</td>\n",
       "    </tr>\n",
       "    <tr>\n",
       "      <th>14</th>\n",
       "      <td>1664.520</td>\n",
       "      <td>1664.52</td>\n",
       "    </tr>\n",
       "    <tr>\n",
       "      <th>15</th>\n",
       "      <td>3716.540</td>\n",
       "      <td>3716.54</td>\n",
       "    </tr>\n",
       "    <tr>\n",
       "      <th>16</th>\n",
       "      <td>2077.420</td>\n",
       "      <td>2077.42</td>\n",
       "    </tr>\n",
       "    <tr>\n",
       "      <th>17</th>\n",
       "      <td>2346.880</td>\n",
       "      <td>2346.88</td>\n",
       "    </tr>\n",
       "    <tr>\n",
       "      <th>18</th>\n",
       "      <td>1523.030</td>\n",
       "      <td>1523.03</td>\n",
       "    </tr>\n",
       "    <tr>\n",
       "      <th>19</th>\n",
       "      <td>1837.170</td>\n",
       "      <td>1837.17</td>\n",
       "    </tr>\n",
       "  </tbody>\n",
       "</table>\n",
       "</div>"
      ],
      "text/plain": [
       "    Income (USD)  Property Age\n",
       "0       1933.050       1933.05\n",
       "1       4952.910       4952.91\n",
       "2        988.190        988.19\n",
       "3       1909.665           NaN\n",
       "4       2614.770       2614.77\n",
       "5       1234.920       1234.92\n",
       "6       2361.560       2361.56\n",
       "7       2308.285           NaN\n",
       "8       1296.070       1296.07\n",
       "9       1546.170       1546.17\n",
       "10      2416.860       2416.86\n",
       "11      2719.740       2719.74\n",
       "12       777.250        777.25\n",
       "13       997.250        997.25\n",
       "14      1664.520       1664.52\n",
       "15      3716.540       3716.54\n",
       "16      2077.420       2077.42\n",
       "17      2346.880       2346.88\n",
       "18      1523.030       1523.03\n",
       "19      1837.170       1837.17"
      ]
     },
     "execution_count": 46,
     "metadata": {},
     "output_type": "execute_result"
    },
    {
     "data": {
      "text/plain": [
       "(50000, 21)"
      ]
     },
     "execution_count": 46,
     "metadata": {},
     "output_type": "execute_result"
    }
   ],
   "source": [
    "# here we can see that the data value for 'Property Age' is same as 'Income (USD)'. hence we are dropping 'Property Age'\n",
    "# since this will behave as a Redundant feature in our dataset\n",
    "df_total[['Income (USD)','Property Age']].head(20)\n",
    "df_total.drop(columns = 'Property Age', axis = 1, inplace = True)\n",
    "df_total.shape"
   ]
  },
  {
   "cell_type": "code",
   "execution_count": 47,
   "metadata": {},
   "outputs": [
    {
     "data": {
      "text/html": [
       "<div>\n",
       "<style scoped>\n",
       "    .dataframe tbody tr th:only-of-type {\n",
       "        vertical-align: middle;\n",
       "    }\n",
       "\n",
       "    .dataframe tbody tr th {\n",
       "        vertical-align: top;\n",
       "    }\n",
       "\n",
       "    .dataframe thead th {\n",
       "        text-align: right;\n",
       "    }\n",
       "</style>\n",
       "<table border=\"1\" class=\"dataframe\">\n",
       "  <thead>\n",
       "    <tr style=\"text-align: right;\">\n",
       "      <th></th>\n",
       "      <th>index</th>\n",
       "      <th>Before_imputing</th>\n",
       "      <th>After_imputing</th>\n",
       "    </tr>\n",
       "  </thead>\n",
       "  <tbody>\n",
       "    <tr>\n",
       "      <th>0</th>\n",
       "      <td>Semi-Urban</td>\n",
       "      <td>0.348113</td>\n",
       "      <td>0.34830</td>\n",
       "    </tr>\n",
       "    <tr>\n",
       "      <th>1</th>\n",
       "      <td>Rural</td>\n",
       "      <td>0.339686</td>\n",
       "      <td>0.33962</td>\n",
       "    </tr>\n",
       "    <tr>\n",
       "      <th>2</th>\n",
       "      <td>Urban</td>\n",
       "      <td>0.312202</td>\n",
       "      <td>0.31208</td>\n",
       "    </tr>\n",
       "  </tbody>\n",
       "</table>\n",
       "</div>"
      ],
      "text/plain": [
       "        index  Before_imputing  After_imputing\n",
       "0  Semi-Urban         0.348113         0.34830\n",
       "1       Rural         0.339686         0.33962\n",
       "2       Urban         0.312202         0.31208"
      ]
     },
     "execution_count": 47,
     "metadata": {},
     "output_type": "execute_result"
    }
   ],
   "source": [
    "# forward filling(imptation) and keeping the ratio constant as before\n",
    "# also showing the comparison in ratio - BEFORE and AFTER the imputaiton\n",
    "\n",
    "before = df_total['Property Location'].value_counts(normalize=True).sort_values(ascending = False).to_frame('Before_imputing').reset_index()\n",
    "\n",
    "df_total['Property Location'] = df_total['Property Location'].fillna(method='ffill')\n",
    "\n",
    "after = df_total['Property Location'].value_counts(normalize=True).sort_values(ascending = False).to_frame('After_imputing').reset_index()\n",
    "\n",
    "combine = [before, after[after.columns[-1]]] # for variable 'after', we are only fetching the column with values and not \n",
    "                                             # the index associated with the column as it will be same\n",
    "pd.concat(combine,axis = 1)"
   ]
  },
  {
   "cell_type": "markdown",
   "metadata": {},
   "source": [
    "##### We are now checking if the customers wants to buy Property at same location where they are residing currently or in other places."
   ]
  },
  {
   "cell_type": "code",
   "execution_count": 48,
   "metadata": {},
   "outputs": [],
   "source": [
    "# making all the possible combinations betweent he unique values of column:'Location' and 'Property Location'\n",
    "\n",
    "unique_location_list = df_total['Location'].unique().tolist()\n",
    "unique_property_location_list = df_total['Property Location'].unique().tolist()\n",
    "\n",
    "combinaitons = list(itertools.product(unique_location_list, unique_property_location_list))\n",
    "\n",
    "def location_count(df, location,property_location, combo):\n",
    "    for i in range(len(combo)):\n",
    "        print(f'Number of customer whose CURRENT location: {combo[i][0]} and PROPERTY location: {combo[i][1]} = ',end =' ')\n",
    "        print(df[(df[location] == combo[i][0]) & (df[property_location] == combo[i][1])].shape[0])"
   ]
  },
  {
   "cell_type": "markdown",
   "metadata": {},
   "source": [
    "#####  From the below result we can see that most people of semi-urban area are purchasing property in all types of property location also we can see that it is diffcult for any location customer(rural, semi, urban) to buy property in Urban area."
   ]
  },
  {
   "cell_type": "code",
   "execution_count": 49,
   "metadata": {},
   "outputs": [
    {
     "name": "stdout",
     "output_type": "stream",
     "text": [
      "Number of customer whose CURRENT location: Semi-Urban and PROPERTY location: Rural =  12274\n",
      "Number of customer whose CURRENT location: Semi-Urban and PROPERTY location: Urban =  11257\n",
      "Number of customer whose CURRENT location: Semi-Urban and PROPERTY location: Semi-Urban =  12495\n",
      "Number of customer whose CURRENT location: Rural and PROPERTY location: Rural =  2946\n",
      "Number of customer whose CURRENT location: Rural and PROPERTY location: Urban =  2675\n",
      "Number of customer whose CURRENT location: Rural and PROPERTY location: Semi-Urban =  3153\n",
      "Number of customer whose CURRENT location: Urban and PROPERTY location: Rural =  1761\n",
      "Number of customer whose CURRENT location: Urban and PROPERTY location: Urban =  1672\n",
      "Number of customer whose CURRENT location: Urban and PROPERTY location: Semi-Urban =  1767\n"
     ]
    }
   ],
   "source": [
    "location_count(df_total, 'Location', 'Property Location', combinaitons)"
   ]
  },
  {
   "cell_type": "code",
   "execution_count": 50,
   "metadata": {},
   "outputs": [
    {
     "data": {
      "text/plain": [
       "1       25516\n",
       "1       17004\n",
       "0        4316\n",
       "0        2919\n",
       "-999      168\n",
       "Name: Co-Applicant, dtype: int64"
      ]
     },
     "execution_count": 50,
     "metadata": {},
     "output_type": "execute_result"
    }
   ],
   "source": [
    "# The column:'Co-Applicant' has some dummy values(-999), we need to impute it with mode\n",
    "df_total['Co-Applicant'].value_counts()\n",
    "\n",
    "mode_Co_Applicant = df_total['Co-Applicant'].mode()[0]\n",
    "df_total['Co-Applicant'] = df_total.apply(lambda x: mode_Co_Applicant if x['Co-Applicant'] == -999 \n",
    "                                          or pd.isnull(x['Co-Applicant']) \n",
    "                                            else x['Co-Applicant'],axis = 1)"
   ]
  },
  {
   "cell_type": "code",
   "execution_count": 51,
   "metadata": {},
   "outputs": [],
   "source": [
    "# We have dummy values(-999) again in column:'Property Price'. Replacing these dummy values with median of this column\n",
    "\n",
    "median_Property_Price = df_total['Property Price'].median()\n",
    "df_total['Property Price'] = df_total.apply(lambda x: median_Property_Price if x['Property Price'] == -999 \n",
    "                                            or pd.isnull(x['Property Price'])\n",
    "                                            else x['Property Price'],axis = 1)"
   ]
  },
  {
   "cell_type": "markdown",
   "metadata": {},
   "source": [
    "#####  In target variable:'Loan Sanction Amount (USD)' , we have Nan and also dummy values like -999, we need to impute the values"
   ]
  },
  {
   "cell_type": "code",
   "execution_count": 52,
   "metadata": {},
   "outputs": [
    {
     "data": {
      "text/plain": [
       "(338, 21)"
      ]
     },
     "execution_count": 52,
     "metadata": {},
     "output_type": "execute_result"
    },
    {
     "data": {
      "text/html": [
       "<div>\n",
       "<style scoped>\n",
       "    .dataframe tbody tr th:only-of-type {\n",
       "        vertical-align: middle;\n",
       "    }\n",
       "\n",
       "    .dataframe tbody tr th {\n",
       "        vertical-align: top;\n",
       "    }\n",
       "\n",
       "    .dataframe thead th {\n",
       "        text-align: right;\n",
       "    }\n",
       "</style>\n",
       "<table border=\"1\" class=\"dataframe\">\n",
       "  <thead>\n",
       "    <tr style=\"text-align: right;\">\n",
       "      <th></th>\n",
       "      <th>Dummy values in Target</th>\n",
       "    </tr>\n",
       "  </thead>\n",
       "  <tbody>\n",
       "    <tr>\n",
       "      <th>22</th>\n",
       "      <td>-999.0</td>\n",
       "    </tr>\n",
       "    <tr>\n",
       "      <th>145</th>\n",
       "      <td>-999.0</td>\n",
       "    </tr>\n",
       "    <tr>\n",
       "      <th>250</th>\n",
       "      <td>-999.0</td>\n",
       "    </tr>\n",
       "    <tr>\n",
       "      <th>387</th>\n",
       "      <td>-999.0</td>\n",
       "    </tr>\n",
       "    <tr>\n",
       "      <th>484</th>\n",
       "      <td>-999.0</td>\n",
       "    </tr>\n",
       "  </tbody>\n",
       "</table>\n",
       "</div>"
      ],
      "text/plain": [
       "     Dummy values in Target\n",
       "22                   -999.0\n",
       "145                  -999.0\n",
       "250                  -999.0\n",
       "387                  -999.0\n",
       "484                  -999.0"
      ]
     },
     "execution_count": 52,
     "metadata": {},
     "output_type": "execute_result"
    },
    {
     "data": {
      "text/html": [
       "<div>\n",
       "<style scoped>\n",
       "    .dataframe tbody tr th:only-of-type {\n",
       "        vertical-align: middle;\n",
       "    }\n",
       "\n",
       "    .dataframe tbody tr th {\n",
       "        vertical-align: top;\n",
       "    }\n",
       "\n",
       "    .dataframe thead th {\n",
       "        text-align: right;\n",
       "    }\n",
       "</style>\n",
       "<table border=\"1\" class=\"dataframe\">\n",
       "  <thead>\n",
       "    <tr style=\"text-align: right;\">\n",
       "      <th></th>\n",
       "      <th>Dummy values in Target</th>\n",
       "    </tr>\n",
       "  </thead>\n",
       "  <tbody>\n",
       "    <tr>\n",
       "      <th>29872</th>\n",
       "      <td>-999.0</td>\n",
       "    </tr>\n",
       "    <tr>\n",
       "      <th>29912</th>\n",
       "      <td>-999.0</td>\n",
       "    </tr>\n",
       "    <tr>\n",
       "      <th>29932</th>\n",
       "      <td>-999.0</td>\n",
       "    </tr>\n",
       "    <tr>\n",
       "      <th>29934</th>\n",
       "      <td>-999.0</td>\n",
       "    </tr>\n",
       "    <tr>\n",
       "      <th>29942</th>\n",
       "      <td>-999.0</td>\n",
       "    </tr>\n",
       "  </tbody>\n",
       "</table>\n",
       "</div>"
      ],
      "text/plain": [
       "       Dummy values in Target\n",
       "29872                  -999.0\n",
       "29912                  -999.0\n",
       "29932                  -999.0\n",
       "29934                  -999.0\n",
       "29942                  -999.0"
      ]
     },
     "execution_count": 52,
     "metadata": {},
     "output_type": "execute_result"
    }
   ],
   "source": [
    "df_total[df_total['Loan Sanction Amount (USD)'] < 0].shape\n",
    "df_total[df_total['Loan Sanction Amount (USD)'] < 0]['Loan Sanction Amount (USD)'].to_frame('Dummy values in Target').head()\n",
    "df_total[df_total['Loan Sanction Amount (USD)'] < 0]['Loan Sanction Amount (USD)'].to_frame('Dummy values in Target').tail()"
   ]
  },
  {
   "cell_type": "markdown",
   "metadata": {},
   "source": [
    "##### We are checking the ratio of 'Loan Sanction Amount (USD)' to 'Loan Amount Request (USD)' and found that the most common value is 0.7. Hence we multiply the loan requested amount by 0.7 to get the loan sanctioned amount to replace the dummies and Nan from 'Train' dataset only"
   ]
  },
  {
   "cell_type": "code",
   "execution_count": 53,
   "metadata": {},
   "outputs": [
    {
     "name": "stdout",
     "output_type": "stream",
     "text": [
      "Most Frequent ratio --> 0.7\n"
     ]
    }
   ],
   "source": [
    "ratio_of_sanction_by_requested = df_total.apply(lambda x: round((x['Loan Sanction Amount (USD)']/x['Loan Amount Request (USD)']),2),axis = 1)\n",
    "most_frequent_ratio = ratio_of_sanction_by_requested.value_counts().index[0]\n",
    "print(f'Most Frequent ratio --> {most_frequent_ratio}')\n",
    "\n",
    "df_total['Loan Sanction Amount (USD)'] = df_total.apply(lambda x:  \n",
    "                most_frequent_ratio* x['Loan Amount Request (USD)'] \n",
    "                if ((x['Loan Sanction Amount (USD)'] < 0 or pd.isnull(x['Loan Sanction Amount (USD)'])) and x['Status'] == 'Train')\n",
    "                else x['Loan Sanction Amount (USD)'],axis = 1)"
   ]
  },
  {
   "cell_type": "code",
   "execution_count": 54,
   "metadata": {
    "scrolled": true
   },
   "outputs": [],
   "source": [
    "# Co-Applicant and Property Price  have different data type in test dataset\n",
    "# hence changing the data type of these columns to same as train dataset\n",
    "\n",
    "df_total['Co-Applicant'] = df_total['Co-Applicant'].astype('int')\n",
    "df_total['Property Price'] = df_total['Property Price'].astype('float')"
   ]
  },
  {
   "cell_type": "markdown",
   "metadata": {},
   "source": [
    "##### Dividing the features into categorical and numerical"
   ]
  },
  {
   "cell_type": "code",
   "execution_count": 55,
   "metadata": {},
   "outputs": [
    {
     "data": {
      "text/plain": [
       "['Age',\n",
       " 'Income (USD)',\n",
       " 'Loan Amount Request (USD)',\n",
       " 'Current Loan Expenses (USD)',\n",
       " 'Credit Score',\n",
       " 'Property Price',\n",
       " 'Loan Sanction Amount (USD)']"
      ]
     },
     "execution_count": 55,
     "metadata": {},
     "output_type": "execute_result"
    }
   ],
   "source": [
    "numerical_columns = [x for x in df_total.dtypes.index if df_total.dtypes[x] !='object']\n",
    "numerical_categorical = ['Dependents','No. of Defaults','Property Type','Co-Applicant']\n",
    "numerical_columns =  [item for item in numerical_columns if item not in numerical_categorical]\n",
    "numerical_columns"
   ]
  },
  {
   "cell_type": "code",
   "execution_count": 56,
   "metadata": {},
   "outputs": [
    {
     "data": {
      "text/plain": [
       "['Gender',\n",
       " 'Income Stability',\n",
       " 'Profession',\n",
       " 'Type of Employment',\n",
       " 'Location',\n",
       " 'Expense Type 1',\n",
       " 'Expense Type 2',\n",
       " 'Has Active Credit Card',\n",
       " 'Property Location',\n",
       " 'Status',\n",
       " 'Dependents',\n",
       " 'No. of Defaults',\n",
       " 'Property Type',\n",
       " 'Co-Applicant']"
      ]
     },
     "execution_count": 56,
     "metadata": {},
     "output_type": "execute_result"
    }
   ],
   "source": [
    "# 'Dependets','No. of Defaults','Property Type','Co-Applicant' are also categorical but they are already encoded in integer\n",
    "# so including it in categorical list\n",
    "\n",
    "catergorical_columns = [x for x in df_total.dtypes.index if df_total.dtypes[x]=='object']\n",
    "catergorical_columns += ['Dependents','No. of Defaults','Property Type','Co-Applicant']\n",
    "catergorical_columns"
   ]
  },
  {
   "cell_type": "code",
   "execution_count": 57,
   "metadata": {},
   "outputs": [],
   "source": [
    "# One hot encoding for categorical variables.\n",
    "\n",
    "for i in catergorical_columns:\n",
    "    if df_total[i].dtypes == 'int' or df_total[i].dtypes == 'float':\n",
    "        df_total[i] = df_total[i].astype('str')\n",
    "        df_total = pd.get_dummies(df_total, prefix = [i],columns=[i],drop_first = True)\n",
    "    else:\n",
    "        df_total = pd.get_dummies(df_total, prefix = [i],columns=[i],drop_first = True)"
   ]
  },
  {
   "cell_type": "code",
   "execution_count": 58,
   "metadata": {
    "scrolled": true
   },
   "outputs": [
    {
     "data": {
      "text/html": [
       "<div>\n",
       "<style scoped>\n",
       "    .dataframe tbody tr th:only-of-type {\n",
       "        vertical-align: middle;\n",
       "    }\n",
       "\n",
       "    .dataframe tbody tr th {\n",
       "        vertical-align: top;\n",
       "    }\n",
       "\n",
       "    .dataframe thead th {\n",
       "        text-align: right;\n",
       "    }\n",
       "</style>\n",
       "<table border=\"1\" class=\"dataframe\">\n",
       "  <thead>\n",
       "    <tr style=\"text-align: right;\">\n",
       "      <th></th>\n",
       "      <th>Age</th>\n",
       "      <th>Income (USD)</th>\n",
       "      <th>Loan Amount Request (USD)</th>\n",
       "      <th>Current Loan Expenses (USD)</th>\n",
       "      <th>Credit Score</th>\n",
       "      <th>Property Price</th>\n",
       "      <th>Loan Sanction Amount (USD)</th>\n",
       "      <th>Gender_M</th>\n",
       "      <th>Income Stability_Low</th>\n",
       "      <th>Profession_Commercial associate</th>\n",
       "      <th>Profession_Maternity leave</th>\n",
       "      <th>Profession_Pensioner</th>\n",
       "      <th>Profession_State servant</th>\n",
       "      <th>Profession_Student</th>\n",
       "      <th>Profession_Unemployed</th>\n",
       "      <th>Profession_Working</th>\n",
       "      <th>Type of Employment_High_skilled</th>\n",
       "      <th>Type of Employment_Low_Skilled</th>\n",
       "      <th>Type of Employment_Medium_Skilled</th>\n",
       "      <th>Location_Semi-Urban</th>\n",
       "      <th>Location_Urban</th>\n",
       "      <th>Expense Type 1_Y</th>\n",
       "      <th>Expense Type 2_Y</th>\n",
       "      <th>Has Active Credit Card_Inactive</th>\n",
       "      <th>Has Active Credit Card_Unpossessed</th>\n",
       "      <th>Property Location_Semi-Urban</th>\n",
       "      <th>Property Location_Urban</th>\n",
       "      <th>Status_Train</th>\n",
       "      <th>Dependents_1.0</th>\n",
       "      <th>Dependents_10.0</th>\n",
       "      <th>Dependents_13.0</th>\n",
       "      <th>Dependents_14.0</th>\n",
       "      <th>Dependents_2.0</th>\n",
       "      <th>Dependents_3.0</th>\n",
       "      <th>Dependents_4.0</th>\n",
       "      <th>Dependents_5.0</th>\n",
       "      <th>Dependents_6.0</th>\n",
       "      <th>Dependents_7.0</th>\n",
       "      <th>Dependents_8.0</th>\n",
       "      <th>No. of Defaults_1</th>\n",
       "      <th>Property Type_2</th>\n",
       "      <th>Property Type_3</th>\n",
       "      <th>Property Type_4</th>\n",
       "      <th>Co-Applicant_1</th>\n",
       "    </tr>\n",
       "  </thead>\n",
       "  <tbody>\n",
       "    <tr>\n",
       "      <th>0</th>\n",
       "      <td>0.993927</td>\n",
       "      <td>-0.076616</td>\n",
       "      <td>-0.268397</td>\n",
       "      <td>-0.775672</td>\n",
       "      <td>0.993083</td>\n",
       "      <td>-0.142624</td>\n",
       "      <td>54607.18</td>\n",
       "      <td>0</td>\n",
       "      <td>1</td>\n",
       "      <td>0</td>\n",
       "      <td>0</td>\n",
       "      <td>0</td>\n",
       "      <td>0</td>\n",
       "      <td>0</td>\n",
       "      <td>0</td>\n",
       "      <td>1</td>\n",
       "      <td>0</td>\n",
       "      <td>0</td>\n",
       "      <td>1</td>\n",
       "      <td>1</td>\n",
       "      <td>0</td>\n",
       "      <td>0</td>\n",
       "      <td>0</td>\n",
       "      <td>0</td>\n",
       "      <td>1</td>\n",
       "      <td>0</td>\n",
       "      <td>0</td>\n",
       "      <td>1</td>\n",
       "      <td>0</td>\n",
       "      <td>0</td>\n",
       "      <td>0</td>\n",
       "      <td>0</td>\n",
       "      <td>0</td>\n",
       "      <td>1</td>\n",
       "      <td>0</td>\n",
       "      <td>0</td>\n",
       "      <td>0</td>\n",
       "      <td>0</td>\n",
       "      <td>0</td>\n",
       "      <td>0</td>\n",
       "      <td>0</td>\n",
       "      <td>0</td>\n",
       "      <td>1</td>\n",
       "      <td>1</td>\n",
       "    </tr>\n",
       "    <tr>\n",
       "      <th>1</th>\n",
       "      <td>-0.499912</td>\n",
       "      <td>0.297122</td>\n",
       "      <td>-0.703264</td>\n",
       "      <td>0.403311</td>\n",
       "      <td>0.581010</td>\n",
       "      <td>-0.845656</td>\n",
       "      <td>37469.98</td>\n",
       "      <td>1</td>\n",
       "      <td>1</td>\n",
       "      <td>0</td>\n",
       "      <td>0</td>\n",
       "      <td>0</td>\n",
       "      <td>0</td>\n",
       "      <td>0</td>\n",
       "      <td>0</td>\n",
       "      <td>1</td>\n",
       "      <td>0</td>\n",
       "      <td>0</td>\n",
       "      <td>1</td>\n",
       "      <td>1</td>\n",
       "      <td>0</td>\n",
       "      <td>0</td>\n",
       "      <td>1</td>\n",
       "      <td>0</td>\n",
       "      <td>1</td>\n",
       "      <td>0</td>\n",
       "      <td>0</td>\n",
       "      <td>1</td>\n",
       "      <td>1</td>\n",
       "      <td>0</td>\n",
       "      <td>0</td>\n",
       "      <td>0</td>\n",
       "      <td>0</td>\n",
       "      <td>0</td>\n",
       "      <td>0</td>\n",
       "      <td>0</td>\n",
       "      <td>0</td>\n",
       "      <td>0</td>\n",
       "      <td>0</td>\n",
       "      <td>0</td>\n",
       "      <td>1</td>\n",
       "      <td>0</td>\n",
       "      <td>0</td>\n",
       "      <td>1</td>\n",
       "    </tr>\n",
       "    <tr>\n",
       "      <th>2</th>\n",
       "      <td>1.554116</td>\n",
       "      <td>-0.193552</td>\n",
       "      <td>-0.724100</td>\n",
       "      <td>-1.095630</td>\n",
       "      <td>1.329525</td>\n",
       "      <td>-0.655178</td>\n",
       "      <td>36474.43</td>\n",
       "      <td>0</td>\n",
       "      <td>0</td>\n",
       "      <td>0</td>\n",
       "      <td>0</td>\n",
       "      <td>1</td>\n",
       "      <td>0</td>\n",
       "      <td>0</td>\n",
       "      <td>0</td>\n",
       "      <td>0</td>\n",
       "      <td>0</td>\n",
       "      <td>0</td>\n",
       "      <td>1</td>\n",
       "      <td>1</td>\n",
       "      <td>0</td>\n",
       "      <td>0</td>\n",
       "      <td>1</td>\n",
       "      <td>0</td>\n",
       "      <td>1</td>\n",
       "      <td>0</td>\n",
       "      <td>1</td>\n",
       "      <td>1</td>\n",
       "      <td>1</td>\n",
       "      <td>0</td>\n",
       "      <td>0</td>\n",
       "      <td>0</td>\n",
       "      <td>0</td>\n",
       "      <td>0</td>\n",
       "      <td>0</td>\n",
       "      <td>0</td>\n",
       "      <td>0</td>\n",
       "      <td>0</td>\n",
       "      <td>0</td>\n",
       "      <td>0</td>\n",
       "      <td>1</td>\n",
       "      <td>0</td>\n",
       "      <td>0</td>\n",
       "      <td>0</td>\n",
       "    </tr>\n",
       "    <tr>\n",
       "      <th>3</th>\n",
       "      <td>1.554116</td>\n",
       "      <td>-0.079510</td>\n",
       "      <td>-0.147034</td>\n",
       "      <td>-0.509726</td>\n",
       "      <td>1.323139</td>\n",
       "      <td>-0.126349</td>\n",
       "      <td>56040.54</td>\n",
       "      <td>0</td>\n",
       "      <td>0</td>\n",
       "      <td>0</td>\n",
       "      <td>0</td>\n",
       "      <td>1</td>\n",
       "      <td>0</td>\n",
       "      <td>0</td>\n",
       "      <td>0</td>\n",
       "      <td>0</td>\n",
       "      <td>0</td>\n",
       "      <td>0</td>\n",
       "      <td>1</td>\n",
       "      <td>0</td>\n",
       "      <td>0</td>\n",
       "      <td>0</td>\n",
       "      <td>1</td>\n",
       "      <td>0</td>\n",
       "      <td>1</td>\n",
       "      <td>1</td>\n",
       "      <td>0</td>\n",
       "      <td>1</td>\n",
       "      <td>0</td>\n",
       "      <td>0</td>\n",
       "      <td>0</td>\n",
       "      <td>0</td>\n",
       "      <td>1</td>\n",
       "      <td>0</td>\n",
       "      <td>0</td>\n",
       "      <td>0</td>\n",
       "      <td>0</td>\n",
       "      <td>0</td>\n",
       "      <td>0</td>\n",
       "      <td>1</td>\n",
       "      <td>1</td>\n",
       "      <td>0</td>\n",
       "      <td>0</td>\n",
       "      <td>1</td>\n",
       "    </tr>\n",
       "    <tr>\n",
       "      <th>4</th>\n",
       "      <td>-0.562155</td>\n",
       "      <td>0.007754</td>\n",
       "      <td>0.418916</td>\n",
       "      <td>0.382946</td>\n",
       "      <td>0.086493</td>\n",
       "      <td>0.813938</td>\n",
       "      <td>74008.28</td>\n",
       "      <td>0</td>\n",
       "      <td>1</td>\n",
       "      <td>0</td>\n",
       "      <td>0</td>\n",
       "      <td>0</td>\n",
       "      <td>0</td>\n",
       "      <td>0</td>\n",
       "      <td>0</td>\n",
       "      <td>1</td>\n",
       "      <td>1</td>\n",
       "      <td>0</td>\n",
       "      <td>0</td>\n",
       "      <td>1</td>\n",
       "      <td>0</td>\n",
       "      <td>0</td>\n",
       "      <td>1</td>\n",
       "      <td>0</td>\n",
       "      <td>0</td>\n",
       "      <td>1</td>\n",
       "      <td>0</td>\n",
       "      <td>1</td>\n",
       "      <td>0</td>\n",
       "      <td>0</td>\n",
       "      <td>0</td>\n",
       "      <td>0</td>\n",
       "      <td>0</td>\n",
       "      <td>0</td>\n",
       "      <td>0</td>\n",
       "      <td>0</td>\n",
       "      <td>0</td>\n",
       "      <td>0</td>\n",
       "      <td>0</td>\n",
       "      <td>1</td>\n",
       "      <td>0</td>\n",
       "      <td>0</td>\n",
       "      <td>1</td>\n",
       "      <td>1</td>\n",
       "    </tr>\n",
       "  </tbody>\n",
       "</table>\n",
       "</div>"
      ],
      "text/plain": [
       "        Age  Income (USD)  Loan Amount Request (USD)  \\\n",
       "0  0.993927     -0.076616                  -0.268397   \n",
       "1 -0.499912      0.297122                  -0.703264   \n",
       "2  1.554116     -0.193552                  -0.724100   \n",
       "3  1.554116     -0.079510                  -0.147034   \n",
       "4 -0.562155      0.007754                   0.418916   \n",
       "\n",
       "   Current Loan Expenses (USD)  Credit Score  Property Price  \\\n",
       "0                    -0.775672      0.993083       -0.142624   \n",
       "1                     0.403311      0.581010       -0.845656   \n",
       "2                    -1.095630      1.329525       -0.655178   \n",
       "3                    -0.509726      1.323139       -0.126349   \n",
       "4                     0.382946      0.086493        0.813938   \n",
       "\n",
       "   Loan Sanction Amount (USD)  Gender_M  Income Stability_Low  \\\n",
       "0                    54607.18         0                     1   \n",
       "1                    37469.98         1                     1   \n",
       "2                    36474.43         0                     0   \n",
       "3                    56040.54         0                     0   \n",
       "4                    74008.28         0                     1   \n",
       "\n",
       "   Profession_Commercial associate  Profession_Maternity leave  \\\n",
       "0                                0                           0   \n",
       "1                                0                           0   \n",
       "2                                0                           0   \n",
       "3                                0                           0   \n",
       "4                                0                           0   \n",
       "\n",
       "   Profession_Pensioner  Profession_State servant  Profession_Student  \\\n",
       "0                     0                         0                   0   \n",
       "1                     0                         0                   0   \n",
       "2                     1                         0                   0   \n",
       "3                     1                         0                   0   \n",
       "4                     0                         0                   0   \n",
       "\n",
       "   Profession_Unemployed  Profession_Working  Type of Employment_High_skilled  \\\n",
       "0                      0                   1                                0   \n",
       "1                      0                   1                                0   \n",
       "2                      0                   0                                0   \n",
       "3                      0                   0                                0   \n",
       "4                      0                   1                                1   \n",
       "\n",
       "   Type of Employment_Low_Skilled  Type of Employment_Medium_Skilled  \\\n",
       "0                               0                                  1   \n",
       "1                               0                                  1   \n",
       "2                               0                                  1   \n",
       "3                               0                                  1   \n",
       "4                               0                                  0   \n",
       "\n",
       "   Location_Semi-Urban  Location_Urban  Expense Type 1_Y  Expense Type 2_Y  \\\n",
       "0                    1               0                 0                 0   \n",
       "1                    1               0                 0                 1   \n",
       "2                    1               0                 0                 1   \n",
       "3                    0               0                 0                 1   \n",
       "4                    1               0                 0                 1   \n",
       "\n",
       "   Has Active Credit Card_Inactive  Has Active Credit Card_Unpossessed  \\\n",
       "0                                0                                   1   \n",
       "1                                0                                   1   \n",
       "2                                0                                   1   \n",
       "3                                0                                   1   \n",
       "4                                0                                   0   \n",
       "\n",
       "   Property Location_Semi-Urban  Property Location_Urban  Status_Train  \\\n",
       "0                             0                        0             1   \n",
       "1                             0                        0             1   \n",
       "2                             0                        1             1   \n",
       "3                             1                        0             1   \n",
       "4                             1                        0             1   \n",
       "\n",
       "   Dependents_1.0  Dependents_10.0  Dependents_13.0  Dependents_14.0  \\\n",
       "0               0                0                0                0   \n",
       "1               1                0                0                0   \n",
       "2               1                0                0                0   \n",
       "3               0                0                0                0   \n",
       "4               0                0                0                0   \n",
       "\n",
       "   Dependents_2.0  Dependents_3.0  Dependents_4.0  Dependents_5.0  \\\n",
       "0               0               1               0               0   \n",
       "1               0               0               0               0   \n",
       "2               0               0               0               0   \n",
       "3               1               0               0               0   \n",
       "4               0               0               0               0   \n",
       "\n",
       "   Dependents_6.0  Dependents_7.0  Dependents_8.0  No. of Defaults_1  \\\n",
       "0               0               0               0                  0   \n",
       "1               0               0               0                  0   \n",
       "2               0               0               0                  0   \n",
       "3               0               0               0                  1   \n",
       "4               0               0               0                  1   \n",
       "\n",
       "   Property Type_2  Property Type_3  Property Type_4  Co-Applicant_1  \n",
       "0                0                0                1               1  \n",
       "1                1                0                0               1  \n",
       "2                1                0                0               0  \n",
       "3                1                0                0               1  \n",
       "4                0                0                1               1  "
      ]
     },
     "execution_count": 58,
     "metadata": {},
     "output_type": "execute_result"
    }
   ],
   "source": [
    "# Standardizing the numerical features\n",
    "\n",
    "from sklearn.preprocessing import StandardScaler\n",
    "\n",
    "numerical_columns_without_target = numerical_columns\n",
    "numerical_columns_without_target.remove('Loan Sanction Amount (USD)')\n",
    "\n",
    "df_total[numerical_columns_without_target] = StandardScaler().fit_transform(df_total[numerical_columns_without_target])\n",
    "df_total.head()"
   ]
  },
  {
   "cell_type": "markdown",
   "metadata": {},
   "source": [
    "#### Checking the kurtosis and skewness\n",
    "##### Skewness: measures the symmetry of data\n",
    "##### Kurtosis: measures if the data is heavy-tailed or light-tailed"
   ]
  },
  {
   "cell_type": "code",
   "execution_count": 60,
   "metadata": {},
   "outputs": [],
   "source": [
    "def kurtosis_and_skew(columns):\n",
    "    for i in columns:\n",
    "        print(f'kurtosis_{i}:  {kurtosis(df_total[i], bias=False)} skew_{i}: {skew(df_total[i], bias=False)}')"
   ]
  },
  {
   "cell_type": "code",
   "execution_count": 61,
   "metadata": {},
   "outputs": [
    {
     "name": "stdout",
     "output_type": "stream",
     "text": [
      "kurtosis_Age:  -1.3840379904021076 skew_Age: 0.049711961292698205\n",
      "kurtosis_Income (USD):  46567.4143422599 skew_Income (USD): 212.08360995787487\n",
      "kurtosis_Loan Amount Request (USD):  2.0493647954209866 skew_Loan Amount Request (USD): 1.2674209041982714\n",
      "kurtosis_Current Loan Expenses (USD):  6.99835635712747 skew_Current Loan Expenses (USD): 1.4815635379732905\n",
      "kurtosis_Credit Score:  -0.8842160134118155 skew_Credit Score: -0.017474520875464042\n",
      "kurtosis_Property Price:  3.001830571194752 skew_Property Price: 1.4355436786135727\n"
     ]
    }
   ],
   "source": [
    "columns = ['Age','Income (USD)','Loan Amount Request (USD)','Current Loan Expenses (USD)','Credit Score','Property Price']\n",
    "kurtosis_and_skew(columns)"
   ]
  },
  {
   "cell_type": "code",
   "execution_count": 62,
   "metadata": {},
   "outputs": [],
   "source": [
    "df_total.to_csv('cleaned_data.csv',index = False)"
   ]
  },
  {
   "cell_type": "markdown",
   "metadata": {},
   "source": [
    "##### Separating the df_total back into train and test"
   ]
  },
  {
   "cell_type": "code",
   "execution_count": 63,
   "metadata": {},
   "outputs": [
    {
     "name": "stdout",
     "output_type": "stream",
     "text": [
      "Train_data shape:  (30000, 43)\n",
      "Test_data shape:  (20000, 42)\n"
     ]
    }
   ],
   "source": [
    "train = df_total[df_total['Status_Train'] == 1]\n",
    "train = train.drop(['Status_Train'],axis = 1)\n",
    "print('Train_data shape: ',train.shape)\n",
    "\n",
    "test = df_total[df_total['Status_Train'] == 0]\n",
    "test = test.drop(['Status_Train','Loan Sanction Amount (USD)'],axis = 1)\n",
    "print('Test_data shape: ',test.shape)"
   ]
  },
  {
   "cell_type": "markdown",
   "metadata": {},
   "source": [
    "##### The good old train-test split !!!"
   ]
  },
  {
   "cell_type": "code",
   "execution_count": 64,
   "metadata": {
    "scrolled": true
   },
   "outputs": [
    {
     "data": {
      "text/plain": [
       "((24000, 42), (6000, 42))"
      ]
     },
     "execution_count": 64,
     "metadata": {},
     "output_type": "execute_result"
    }
   ],
   "source": [
    "X = train.drop(['Loan Sanction Amount (USD)'],axis = 1)\n",
    "y = train['Loan Sanction Amount (USD)']\n",
    "X_train, X_valid, y_train, y_valid = train_test_split(X,y,test_size = 0.2,random_state = 42)\n",
    "X_train.shape,X_valid.shape"
   ]
  },
  {
   "cell_type": "markdown",
   "metadata": {},
   "source": [
    "#### We will be using Light Gradient Boosted(regression)\n",
    "#### Also we will be doing the hyperparamater tuning for some of its parameters"
   ]
  },
  {
   "cell_type": "code",
   "execution_count": 65,
   "metadata": {},
   "outputs": [],
   "source": [
    "# giving different values to the parameters on which it will get trained and returning the best values\n",
    "\n",
    "n_HP_points_to_test = 10\n",
    "\n",
    "params={\"early_stopping_rounds\":30, \n",
    "            \"eval_metric\" : 'mse', \n",
    "            \"eval_set\" : [(X_valid,y_valid)],\n",
    "            'eval_names': ['valid'],\n",
    "            'verbose': 100,\n",
    "            'categorical_feature': 'auto'\n",
    "        }\n",
    "\n",
    "param_test ={'num_leaves': sp_randint(6, 50), \n",
    "             'min_child_samples': sp_randint(100, 500), \n",
    "             'min_child_weight': [1e-5, 1e-3, 1e-2, 1e-1, 1, 1e1, 1e2, 1e3, 1e4],\n",
    "             'subsample': sp_uniform(loc=0.2, scale=0.8), \n",
    "             'colsample_bytree': sp_uniform(loc=0.4, scale=0.6),\n",
    "             'reg_alpha': [0, 1e-1, 1, 2, 5, 7, 10, 50, 100],\n",
    "             'reg_lambda': [0, 1e-1, 1, 5, 10, 20, 50, 100],\n",
    "             }"
   ]
  },
  {
   "cell_type": "code",
   "execution_count": 66,
   "metadata": {
    "scrolled": true
   },
   "outputs": [
    {
     "name": "stdout",
     "output_type": "stream",
     "text": [
      "Fitting 10 folds for each of 10 candidates, totalling 100 fits\n",
      "Training until validation scores don't improve for 30 rounds\n"
     ]
    },
    {
     "name": "stderr",
     "output_type": "stream",
     "text": [
      "[Parallel(n_jobs=1)]: Using backend SequentialBackend with 1 concurrent workers.\n"
     ]
    },
    {
     "name": "stdout",
     "output_type": "stream",
     "text": [
      "[100]\tvalid's l2: 5.02685e+08\n",
      "[200]\tvalid's l2: 4.99921e+08\n",
      "[300]\tvalid's l2: 4.98712e+08\n",
      "Early stopping, best iteration is:\n",
      "[306]\tvalid's l2: 4.98513e+08\n",
      "Training until validation scores don't improve for 30 rounds\n",
      "[100]\tvalid's l2: 4.99467e+08\n",
      "[200]\tvalid's l2: 4.94828e+08\n",
      "Early stopping, best iteration is:\n",
      "[210]\tvalid's l2: 4.9467e+08\n",
      "Training until validation scores don't improve for 30 rounds\n",
      "[100]\tvalid's l2: 4.94716e+08\n",
      "[200]\tvalid's l2: 4.91099e+08\n",
      "Early stopping, best iteration is:\n",
      "[220]\tvalid's l2: 4.89839e+08\n",
      "Training until validation scores don't improve for 30 rounds\n",
      "[100]\tvalid's l2: 4.99152e+08\n",
      "Early stopping, best iteration is:\n",
      "[133]\tvalid's l2: 4.97006e+08\n",
      "Training until validation scores don't improve for 30 rounds\n",
      "[100]\tvalid's l2: 4.95789e+08\n",
      "[200]\tvalid's l2: 4.89821e+08\n",
      "Early stopping, best iteration is:\n",
      "[195]\tvalid's l2: 4.89606e+08\n",
      "Training until validation scores don't improve for 30 rounds\n",
      "[100]\tvalid's l2: 4.94369e+08\n",
      "[200]\tvalid's l2: 4.88198e+08\n",
      "Early stopping, best iteration is:\n",
      "[215]\tvalid's l2: 4.87752e+08\n",
      "Training until validation scores don't improve for 30 rounds\n",
      "[100]\tvalid's l2: 4.97934e+08\n",
      "[200]\tvalid's l2: 4.92463e+08\n",
      "Early stopping, best iteration is:\n",
      "[183]\tvalid's l2: 4.92133e+08\n",
      "Training until validation scores don't improve for 30 rounds\n",
      "[100]\tvalid's l2: 4.94346e+08\n",
      "[200]\tvalid's l2: 4.87468e+08\n",
      "Early stopping, best iteration is:\n",
      "[217]\tvalid's l2: 4.87448e+08\n",
      "Training until validation scores don't improve for 30 rounds\n",
      "[100]\tvalid's l2: 4.98267e+08\n",
      "[200]\tvalid's l2: 4.9086e+08\n",
      "Early stopping, best iteration is:\n",
      "[184]\tvalid's l2: 4.90714e+08\n",
      "Training until validation scores don't improve for 30 rounds\n",
      "[100]\tvalid's l2: 4.94425e+08\n",
      "[200]\tvalid's l2: 4.90123e+08\n",
      "Early stopping, best iteration is:\n",
      "[179]\tvalid's l2: 4.89516e+08\n",
      "Training until validation scores don't improve for 30 rounds\n",
      "[100]\tvalid's l2: 4.93643e+08\n",
      "Early stopping, best iteration is:\n",
      "[167]\tvalid's l2: 4.89947e+08\n",
      "Training until validation scores don't improve for 30 rounds\n",
      "[100]\tvalid's l2: 4.86672e+08\n",
      "Early stopping, best iteration is:\n",
      "[137]\tvalid's l2: 4.8549e+08\n",
      "Training until validation scores don't improve for 30 rounds\n",
      "[100]\tvalid's l2: 4.89624e+08\n",
      "Early stopping, best iteration is:\n",
      "[148]\tvalid's l2: 4.87147e+08\n",
      "Training until validation scores don't improve for 30 rounds\n",
      "[100]\tvalid's l2: 4.93568e+08\n",
      "Early stopping, best iteration is:\n",
      "[106]\tvalid's l2: 4.93468e+08\n",
      "Training until validation scores don't improve for 30 rounds\n",
      "[100]\tvalid's l2: 4.83094e+08\n",
      "Early stopping, best iteration is:\n",
      "[135]\tvalid's l2: 4.80725e+08\n",
      "Training until validation scores don't improve for 30 rounds\n",
      "[100]\tvalid's l2: 4.91329e+08\n",
      "Early stopping, best iteration is:\n",
      "[163]\tvalid's l2: 4.87737e+08\n",
      "Training until validation scores don't improve for 30 rounds\n",
      "[100]\tvalid's l2: 4.92186e+08\n",
      "Early stopping, best iteration is:\n",
      "[155]\tvalid's l2: 4.89243e+08\n",
      "Training until validation scores don't improve for 30 rounds\n",
      "[100]\tvalid's l2: 4.84631e+08\n",
      "Early stopping, best iteration is:\n",
      "[163]\tvalid's l2: 4.83527e+08\n",
      "Training until validation scores don't improve for 30 rounds\n",
      "[100]\tvalid's l2: 4.86947e+08\n",
      "Early stopping, best iteration is:\n",
      "[117]\tvalid's l2: 4.85668e+08\n",
      "Training until validation scores don't improve for 30 rounds\n",
      "[100]\tvalid's l2: 4.89914e+08\n",
      "Early stopping, best iteration is:\n",
      "[140]\tvalid's l2: 4.87821e+08\n",
      "Training until validation scores don't improve for 30 rounds\n",
      "[100]\tvalid's l2: 1.39637e+09\n",
      "[200]\tvalid's l2: 1.39618e+09\n",
      "[300]\tvalid's l2: 1.39588e+09\n",
      "[400]\tvalid's l2: 1.39564e+09\n",
      "[500]\tvalid's l2: 1.39542e+09\n",
      "[600]\tvalid's l2: 1.39525e+09\n",
      "[700]\tvalid's l2: 1.39508e+09\n",
      "[800]\tvalid's l2: 1.39495e+09\n",
      "[900]\tvalid's l2: 1.3948e+09\n",
      "[1000]\tvalid's l2: 1.39466e+09\n",
      "[1100]\tvalid's l2: 1.39454e+09\n",
      "[1200]\tvalid's l2: 1.39443e+09\n",
      "[1300]\tvalid's l2: 1.39433e+09\n",
      "[1400]\tvalid's l2: 1.39424e+09\n",
      "[1500]\tvalid's l2: 1.39416e+09\n",
      "[1600]\tvalid's l2: 1.39409e+09\n",
      "[1700]\tvalid's l2: 1.39402e+09\n",
      "[1800]\tvalid's l2: 1.39397e+09\n",
      "[1900]\tvalid's l2: 1.39393e+09\n",
      "[2000]\tvalid's l2: 1.39389e+09\n",
      "[2100]\tvalid's l2: 1.39386e+09\n",
      "[2200]\tvalid's l2: 1.39382e+09\n",
      "[2300]\tvalid's l2: 1.39379e+09\n",
      "[2400]\tvalid's l2: 1.39376e+09\n",
      "[2500]\tvalid's l2: 1.39374e+09\n",
      "[2600]\tvalid's l2: 1.39371e+09\n",
      "Early stopping, best iteration is:\n",
      "[2642]\tvalid's l2: 1.3937e+09\n",
      "Training until validation scores don't improve for 30 rounds\n",
      "[100]\tvalid's l2: 1.39608e+09\n",
      "[200]\tvalid's l2: 1.3958e+09\n",
      "[300]\tvalid's l2: 1.39549e+09\n",
      "[400]\tvalid's l2: 1.39526e+09\n",
      "[500]\tvalid's l2: 1.39501e+09\n",
      "[600]\tvalid's l2: 1.39481e+09\n",
      "[700]\tvalid's l2: 1.39458e+09\n",
      "[800]\tvalid's l2: 1.39436e+09\n",
      "[900]\tvalid's l2: 1.39418e+09\n",
      "[1000]\tvalid's l2: 1.39399e+09\n",
      "[1100]\tvalid's l2: 1.39384e+09\n",
      "[1200]\tvalid's l2: 1.3937e+09\n",
      "[1300]\tvalid's l2: 1.39358e+09\n",
      "[1400]\tvalid's l2: 1.39346e+09\n",
      "[1500]\tvalid's l2: 1.39335e+09\n",
      "[1600]\tvalid's l2: 1.39326e+09\n",
      "[1700]\tvalid's l2: 1.39318e+09\n",
      "[1800]\tvalid's l2: 1.39312e+09\n",
      "[1900]\tvalid's l2: 1.39306e+09\n",
      "[2000]\tvalid's l2: 1.393e+09\n",
      "[2100]\tvalid's l2: 1.39294e+09\n",
      "[2200]\tvalid's l2: 1.39289e+09\n",
      "[2300]\tvalid's l2: 1.39286e+09\n",
      "[2400]\tvalid's l2: 1.39283e+09\n",
      "[2500]\tvalid's l2: 1.3928e+09\n",
      "[2600]\tvalid's l2: 1.39276e+09\n",
      "Early stopping, best iteration is:\n",
      "[2656]\tvalid's l2: 1.39273e+09\n",
      "Training until validation scores don't improve for 30 rounds\n",
      "[100]\tvalid's l2: 1.39656e+09\n",
      "Early stopping, best iteration is:\n",
      "[106]\tvalid's l2: 1.39653e+09\n",
      "Training until validation scores don't improve for 30 rounds\n",
      "[100]\tvalid's l2: 1.3964e+09\n",
      "[200]\tvalid's l2: 1.39616e+09\n",
      "[300]\tvalid's l2: 1.39582e+09\n",
      "[400]\tvalid's l2: 1.39557e+09\n",
      "[500]\tvalid's l2: 1.39532e+09\n",
      "[600]\tvalid's l2: 1.3951e+09\n",
      "[700]\tvalid's l2: 1.39489e+09\n",
      "[800]\tvalid's l2: 1.39469e+09\n",
      "[900]\tvalid's l2: 1.39451e+09\n",
      "[1000]\tvalid's l2: 1.39433e+09\n",
      "[1100]\tvalid's l2: 1.39421e+09\n",
      "[1200]\tvalid's l2: 1.39406e+09\n",
      "[1300]\tvalid's l2: 1.39394e+09\n",
      "[1400]\tvalid's l2: 1.39382e+09\n",
      "[1500]\tvalid's l2: 1.39371e+09\n",
      "[1600]\tvalid's l2: 1.39361e+09\n",
      "[1700]\tvalid's l2: 1.39352e+09\n",
      "[1800]\tvalid's l2: 1.39343e+09\n",
      "[1900]\tvalid's l2: 1.39336e+09\n",
      "[2000]\tvalid's l2: 1.39328e+09\n",
      "[2100]\tvalid's l2: 1.39323e+09\n",
      "[2200]\tvalid's l2: 1.39318e+09\n",
      "[2300]\tvalid's l2: 1.39313e+09\n",
      "[2400]\tvalid's l2: 1.39311e+09\n",
      "[2500]\tvalid's l2: 1.39308e+09\n",
      "[2600]\tvalid's l2: 1.39306e+09\n",
      "[2700]\tvalid's l2: 1.39304e+09\n",
      "[2800]\tvalid's l2: 1.39301e+09\n",
      "[2900]\tvalid's l2: 1.393e+09\n",
      "[3000]\tvalid's l2: 1.39298e+09\n",
      "[3100]\tvalid's l2: 1.39295e+09\n",
      "[3200]\tvalid's l2: 1.39294e+09\n",
      "[3300]\tvalid's l2: 1.39292e+09\n",
      "[3400]\tvalid's l2: 1.3929e+09\n",
      "[3500]\tvalid's l2: 1.39287e+09\n",
      "[3600]\tvalid's l2: 1.39285e+09\n",
      "[3700]\tvalid's l2: 1.39282e+09\n",
      "[3800]\tvalid's l2: 1.3928e+09\n",
      "[3900]\tvalid's l2: 1.39279e+09\n",
      "[4000]\tvalid's l2: 1.39276e+09\n",
      "[4100]\tvalid's l2: 1.39275e+09\n",
      "Early stopping, best iteration is:\n",
      "[4120]\tvalid's l2: 1.39274e+09\n",
      "Training until validation scores don't improve for 30 rounds\n",
      "[100]\tvalid's l2: 1.39566e+09\n",
      "[200]\tvalid's l2: 1.39538e+09\n",
      "[300]\tvalid's l2: 1.3951e+09\n",
      "[400]\tvalid's l2: 1.39488e+09\n",
      "[500]\tvalid's l2: 1.39465e+09\n",
      "[600]\tvalid's l2: 1.39446e+09\n",
      "[700]\tvalid's l2: 1.39428e+09\n",
      "[800]\tvalid's l2: 1.39409e+09\n",
      "[900]\tvalid's l2: 1.39391e+09\n",
      "[1000]\tvalid's l2: 1.39376e+09\n",
      "[1100]\tvalid's l2: 1.39363e+09\n",
      "[1200]\tvalid's l2: 1.39351e+09\n",
      "[1300]\tvalid's l2: 1.39339e+09\n",
      "[1400]\tvalid's l2: 1.39329e+09\n",
      "[1500]\tvalid's l2: 1.3932e+09\n",
      "[1600]\tvalid's l2: 1.39312e+09\n",
      "[1700]\tvalid's l2: 1.39305e+09\n",
      "[1800]\tvalid's l2: 1.39299e+09\n",
      "[1900]\tvalid's l2: 1.39293e+09\n",
      "[2000]\tvalid's l2: 1.39287e+09\n",
      "[2100]\tvalid's l2: 1.39284e+09\n",
      "[2200]\tvalid's l2: 1.39282e+09\n",
      "Early stopping, best iteration is:\n",
      "[2175]\tvalid's l2: 1.39281e+09\n",
      "Training until validation scores don't improve for 30 rounds\n",
      "[100]\tvalid's l2: 1.39624e+09\n",
      "[200]\tvalid's l2: 1.3959e+09\n",
      "[300]\tvalid's l2: 1.39561e+09\n",
      "[400]\tvalid's l2: 1.39535e+09\n",
      "[500]\tvalid's l2: 1.39509e+09\n",
      "[600]\tvalid's l2: 1.39487e+09\n",
      "[700]\tvalid's l2: 1.39464e+09\n",
      "[800]\tvalid's l2: 1.39444e+09\n",
      "[900]\tvalid's l2: 1.39424e+09\n",
      "[1000]\tvalid's l2: 1.39406e+09\n",
      "[1100]\tvalid's l2: 1.3939e+09\n",
      "[1200]\tvalid's l2: 1.39376e+09\n",
      "[1300]\tvalid's l2: 1.39361e+09\n",
      "[1400]\tvalid's l2: 1.39348e+09\n",
      "[1500]\tvalid's l2: 1.39336e+09\n",
      "[1600]\tvalid's l2: 1.39325e+09\n",
      "[1700]\tvalid's l2: 1.39315e+09\n",
      "[1800]\tvalid's l2: 1.39305e+09\n",
      "[1900]\tvalid's l2: 1.39296e+09\n",
      "[2000]\tvalid's l2: 1.39288e+09\n",
      "[2100]\tvalid's l2: 1.39281e+09\n"
     ]
    },
    {
     "name": "stdout",
     "output_type": "stream",
     "text": [
      "[2200]\tvalid's l2: 1.39275e+09\n",
      "[2300]\tvalid's l2: 1.39272e+09\n",
      "[2400]\tvalid's l2: 1.39269e+09\n",
      "[2500]\tvalid's l2: 1.39266e+09\n",
      "[2600]\tvalid's l2: 1.39262e+09\n",
      "[2700]\tvalid's l2: 1.39259e+09\n",
      "[2800]\tvalid's l2: 1.39257e+09\n",
      "[2900]\tvalid's l2: 1.39254e+09\n",
      "[3000]\tvalid's l2: 1.39252e+09\n",
      "[3100]\tvalid's l2: 1.3925e+09\n",
      "[3200]\tvalid's l2: 1.39247e+09\n",
      "[3300]\tvalid's l2: 1.39246e+09\n",
      "[3400]\tvalid's l2: 1.39244e+09\n",
      "[3500]\tvalid's l2: 1.39241e+09\n",
      "[3600]\tvalid's l2: 1.39239e+09\n",
      "[3700]\tvalid's l2: 1.39238e+09\n",
      "[3800]\tvalid's l2: 1.39236e+09\n",
      "[3900]\tvalid's l2: 1.39235e+09\n",
      "[4000]\tvalid's l2: 1.39233e+09\n",
      "Early stopping, best iteration is:\n",
      "[4017]\tvalid's l2: 1.39233e+09\n",
      "Training until validation scores don't improve for 30 rounds\n",
      "[100]\tvalid's l2: 1.39604e+09\n",
      "Early stopping, best iteration is:\n",
      "[99]\tvalid's l2: 1.39604e+09\n",
      "Training until validation scores don't improve for 30 rounds\n",
      "[100]\tvalid's l2: 1.39619e+09\n",
      "[200]\tvalid's l2: 1.39582e+09\n",
      "[300]\tvalid's l2: 1.39555e+09\n",
      "[400]\tvalid's l2: 1.39531e+09\n",
      "[500]\tvalid's l2: 1.3951e+09\n",
      "[600]\tvalid's l2: 1.39491e+09\n",
      "[700]\tvalid's l2: 1.39475e+09\n",
      "[800]\tvalid's l2: 1.39459e+09\n",
      "[900]\tvalid's l2: 1.39444e+09\n",
      "[1000]\tvalid's l2: 1.39427e+09\n",
      "[1100]\tvalid's l2: 1.39412e+09\n",
      "[1200]\tvalid's l2: 1.39398e+09\n",
      "[1300]\tvalid's l2: 1.39385e+09\n",
      "[1400]\tvalid's l2: 1.39373e+09\n",
      "[1500]\tvalid's l2: 1.39363e+09\n",
      "[1600]\tvalid's l2: 1.39353e+09\n",
      "[1700]\tvalid's l2: 1.39345e+09\n",
      "[1800]\tvalid's l2: 1.39337e+09\n",
      "[1900]\tvalid's l2: 1.39329e+09\n",
      "[2000]\tvalid's l2: 1.39323e+09\n",
      "[2100]\tvalid's l2: 1.39319e+09\n",
      "[2200]\tvalid's l2: 1.39316e+09\n",
      "[2300]\tvalid's l2: 1.39314e+09\n",
      "[2400]\tvalid's l2: 1.39311e+09\n",
      "[2500]\tvalid's l2: 1.39308e+09\n",
      "[2600]\tvalid's l2: 1.39305e+09\n",
      "Early stopping, best iteration is:\n",
      "[2571]\tvalid's l2: 1.39304e+09\n",
      "Training until validation scores don't improve for 30 rounds\n",
      "[100]\tvalid's l2: 1.3985e+09\n",
      "[200]\tvalid's l2: 1.39822e+09\n",
      "[300]\tvalid's l2: 1.39794e+09\n",
      "[400]\tvalid's l2: 1.39773e+09\n",
      "[500]\tvalid's l2: 1.3975e+09\n",
      "[600]\tvalid's l2: 1.39731e+09\n",
      "[700]\tvalid's l2: 1.39713e+09\n",
      "[800]\tvalid's l2: 1.39695e+09\n",
      "[900]\tvalid's l2: 1.3968e+09\n",
      "[1000]\tvalid's l2: 1.39665e+09\n",
      "[1100]\tvalid's l2: 1.39654e+09\n",
      "[1200]\tvalid's l2: 1.39643e+09\n",
      "[1300]\tvalid's l2: 1.39632e+09\n",
      "[1400]\tvalid's l2: 1.39623e+09\n",
      "[1500]\tvalid's l2: 1.39614e+09\n",
      "[1600]\tvalid's l2: 1.39607e+09\n",
      "[1700]\tvalid's l2: 1.39604e+09\n",
      "[1800]\tvalid's l2: 1.39601e+09\n",
      "[1900]\tvalid's l2: 1.39598e+09\n",
      "[2000]\tvalid's l2: 1.39595e+09\n",
      "[2100]\tvalid's l2: 1.39593e+09\n",
      "[2200]\tvalid's l2: 1.39591e+09\n",
      "[2300]\tvalid's l2: 1.39589e+09\n",
      "[2400]\tvalid's l2: 1.39587e+09\n",
      "Early stopping, best iteration is:\n",
      "[2391]\tvalid's l2: 1.39587e+09\n",
      "Training until validation scores don't improve for 30 rounds\n",
      "[100]\tvalid's l2: 1.39776e+09\n",
      "[200]\tvalid's l2: 1.39742e+09\n",
      "[300]\tvalid's l2: 1.39712e+09\n",
      "[400]\tvalid's l2: 1.39687e+09\n",
      "[500]\tvalid's l2: 1.39664e+09\n",
      "[600]\tvalid's l2: 1.39645e+09\n",
      "[700]\tvalid's l2: 1.39626e+09\n",
      "[800]\tvalid's l2: 1.39608e+09\n",
      "[900]\tvalid's l2: 1.3959e+09\n",
      "[1000]\tvalid's l2: 1.39573e+09\n",
      "[1100]\tvalid's l2: 1.3956e+09\n",
      "[1200]\tvalid's l2: 1.39545e+09\n",
      "[1300]\tvalid's l2: 1.39533e+09\n",
      "[1400]\tvalid's l2: 1.3952e+09\n",
      "[1500]\tvalid's l2: 1.39509e+09\n",
      "[1600]\tvalid's l2: 1.395e+09\n",
      "[1700]\tvalid's l2: 1.3949e+09\n",
      "[1800]\tvalid's l2: 1.39482e+09\n",
      "[1900]\tvalid's l2: 1.39475e+09\n",
      "[2000]\tvalid's l2: 1.39468e+09\n",
      "[2100]\tvalid's l2: 1.39463e+09\n",
      "[2200]\tvalid's l2: 1.39458e+09\n",
      "[2300]\tvalid's l2: 1.39454e+09\n",
      "[2400]\tvalid's l2: 1.3945e+09\n",
      "[2500]\tvalid's l2: 1.39446e+09\n",
      "[2600]\tvalid's l2: 1.39441e+09\n",
      "[2700]\tvalid's l2: 1.39438e+09\n",
      "[2800]\tvalid's l2: 1.39434e+09\n",
      "[2900]\tvalid's l2: 1.39432e+09\n",
      "[3000]\tvalid's l2: 1.3943e+09\n",
      "[3100]\tvalid's l2: 1.39428e+09\n",
      "[3200]\tvalid's l2: 1.39425e+09\n",
      "[3300]\tvalid's l2: 1.39424e+09\n",
      "[3400]\tvalid's l2: 1.39422e+09\n",
      "[3500]\tvalid's l2: 1.3942e+09\n",
      "[3600]\tvalid's l2: 1.39418e+09\n",
      "[3700]\tvalid's l2: 1.39416e+09\n",
      "[3800]\tvalid's l2: 1.39414e+09\n",
      "Early stopping, best iteration is:\n",
      "[3833]\tvalid's l2: 1.39413e+09\n",
      "Training until validation scores don't improve for 30 rounds\n",
      "[100]\tvalid's l2: 5.75817e+08\n",
      "[200]\tvalid's l2: 5.53668e+08\n",
      "[300]\tvalid's l2: 5.44518e+08\n",
      "[400]\tvalid's l2: 5.40166e+08\n",
      "[500]\tvalid's l2: 5.36796e+08\n",
      "[600]\tvalid's l2: 5.31867e+08\n",
      "[700]\tvalid's l2: 5.29618e+08\n",
      "Early stopping, best iteration is:\n",
      "[674]\tvalid's l2: 5.29291e+08\n",
      "Training until validation scores don't improve for 30 rounds\n",
      "[100]\tvalid's l2: 5.76037e+08\n",
      "[200]\tvalid's l2: 5.50553e+08\n",
      "[300]\tvalid's l2: 5.42811e+08\n",
      "[400]\tvalid's l2: 5.37276e+08\n",
      "[500]\tvalid's l2: 5.33638e+08\n",
      "[600]\tvalid's l2: 5.29309e+08\n",
      "[700]\tvalid's l2: 5.27129e+08\n",
      "[800]\tvalid's l2: 5.25229e+08\n",
      "Early stopping, best iteration is:\n",
      "[845]\tvalid's l2: 5.24795e+08\n",
      "Training until validation scores don't improve for 30 rounds\n",
      "[100]\tvalid's l2: 5.69182e+08\n",
      "[200]\tvalid's l2: 5.47515e+08\n",
      "[300]\tvalid's l2: 5.37095e+08\n",
      "[400]\tvalid's l2: 5.31185e+08\n",
      "Early stopping, best iteration is:\n",
      "[458]\tvalid's l2: 5.29306e+08\n",
      "Training until validation scores don't improve for 30 rounds\n",
      "[100]\tvalid's l2: 5.7614e+08\n",
      "[200]\tvalid's l2: 5.51803e+08\n",
      "[300]\tvalid's l2: 5.41347e+08\n",
      "[400]\tvalid's l2: 5.36232e+08\n",
      "[500]\tvalid's l2: 5.33802e+08\n",
      "[600]\tvalid's l2: 5.32037e+08\n",
      "[700]\tvalid's l2: 5.29092e+08\n",
      "Early stopping, best iteration is:\n",
      "[695]\tvalid's l2: 5.28969e+08\n",
      "Training until validation scores don't improve for 30 rounds\n",
      "[100]\tvalid's l2: 5.70022e+08\n",
      "[200]\tvalid's l2: 5.4808e+08\n",
      "[300]\tvalid's l2: 5.40592e+08\n",
      "[400]\tvalid's l2: 5.35267e+08\n",
      "[500]\tvalid's l2: 5.31528e+08\n",
      "Early stopping, best iteration is:\n",
      "[493]\tvalid's l2: 5.3113e+08\n",
      "Training until validation scores don't improve for 30 rounds\n",
      "[100]\tvalid's l2: 5.69963e+08\n",
      "[200]\tvalid's l2: 5.43859e+08\n",
      "[300]\tvalid's l2: 5.36132e+08\n",
      "[400]\tvalid's l2: 5.3128e+08\n",
      "[500]\tvalid's l2: 5.27116e+08\n",
      "[600]\tvalid's l2: 5.25113e+08\n",
      "[700]\tvalid's l2: 5.23621e+08\n",
      "Early stopping, best iteration is:\n",
      "[687]\tvalid's l2: 5.23404e+08\n",
      "Training until validation scores don't improve for 30 rounds\n",
      "[100]\tvalid's l2: 5.70412e+08\n",
      "[200]\tvalid's l2: 5.46048e+08\n",
      "[300]\tvalid's l2: 5.38088e+08\n",
      "[400]\tvalid's l2: 5.31159e+08\n",
      "[500]\tvalid's l2: 5.27428e+08\n",
      "[600]\tvalid's l2: 5.25239e+08\n",
      "[700]\tvalid's l2: 5.22766e+08\n",
      "[800]\tvalid's l2: 5.20559e+08\n",
      "[900]\tvalid's l2: 5.18692e+08\n",
      "Early stopping, best iteration is:\n",
      "[959]\tvalid's l2: 5.18169e+08\n",
      "Training until validation scores don't improve for 30 rounds\n",
      "[100]\tvalid's l2: 5.72454e+08\n",
      "[200]\tvalid's l2: 5.48244e+08\n",
      "[300]\tvalid's l2: 5.39118e+08\n",
      "[400]\tvalid's l2: 5.33467e+08\n",
      "[500]\tvalid's l2: 5.30649e+08\n",
      "[600]\tvalid's l2: 5.28204e+08\n",
      "[700]\tvalid's l2: 5.25801e+08\n",
      "Early stopping, best iteration is:\n",
      "[720]\tvalid's l2: 5.25077e+08\n",
      "Training until validation scores don't improve for 30 rounds\n",
      "[100]\tvalid's l2: 5.72857e+08\n",
      "[200]\tvalid's l2: 5.4806e+08\n",
      "[300]\tvalid's l2: 5.38301e+08\n",
      "[400]\tvalid's l2: 5.32256e+08\n",
      "[500]\tvalid's l2: 5.27717e+08\n",
      "[600]\tvalid's l2: 5.25711e+08\n",
      "[700]\tvalid's l2: 5.2341e+08\n",
      "Early stopping, best iteration is:\n",
      "[676]\tvalid's l2: 5.23365e+08\n",
      "Training until validation scores don't improve for 30 rounds\n",
      "[100]\tvalid's l2: 5.71674e+08\n",
      "[200]\tvalid's l2: 5.469e+08\n",
      "[300]\tvalid's l2: 5.36966e+08\n",
      "[400]\tvalid's l2: 5.31474e+08\n",
      "[500]\tvalid's l2: 5.26769e+08\n",
      "[600]\tvalid's l2: 5.24134e+08\n",
      "[700]\tvalid's l2: 5.22866e+08\n",
      "[800]\tvalid's l2: 5.21127e+08\n",
      "Early stopping, best iteration is:\n",
      "[780]\tvalid's l2: 5.21008e+08\n",
      "Training until validation scores don't improve for 30 rounds\n",
      "[100]\tvalid's l2: 5.14776e+08\n",
      "[200]\tvalid's l2: 5.04303e+08\n",
      "Early stopping, best iteration is:\n",
      "[193]\tvalid's l2: 5.04119e+08\n",
      "Training until validation scores don't improve for 30 rounds\n",
      "[100]\tvalid's l2: 5.15272e+08\n",
      "[200]\tvalid's l2: 5.0151e+08\n",
      "[300]\tvalid's l2: 4.98966e+08\n",
      "Early stopping, best iteration is:\n",
      "[319]\tvalid's l2: 4.98134e+08\n",
      "Training until validation scores don't improve for 30 rounds\n",
      "[100]\tvalid's l2: 5.13644e+08\n",
      "[200]\tvalid's l2: 5.02959e+08\n",
      "[300]\tvalid's l2: 5.00285e+08\n",
      "[400]\tvalid's l2: 4.98357e+08\n",
      "Early stopping, best iteration is:\n",
      "[409]\tvalid's l2: 4.9781e+08\n",
      "Training until validation scores don't improve for 30 rounds\n",
      "[100]\tvalid's l2: 5.10533e+08\n",
      "[200]\tvalid's l2: 5.03025e+08\n",
      "Early stopping, best iteration is:\n",
      "[195]\tvalid's l2: 5.02886e+08\n",
      "Training until validation scores don't improve for 30 rounds\n",
      "[100]\tvalid's l2: 5.12153e+08\n",
      "[200]\tvalid's l2: 4.99415e+08\n",
      "[300]\tvalid's l2: 4.97906e+08\n",
      "Early stopping, best iteration is:\n",
      "[276]\tvalid's l2: 4.97675e+08\n"
     ]
    },
    {
     "name": "stdout",
     "output_type": "stream",
     "text": [
      "Training until validation scores don't improve for 30 rounds\n",
      "[100]\tvalid's l2: 5.13256e+08\n",
      "[200]\tvalid's l2: 4.98471e+08\n",
      "Early stopping, best iteration is:\n",
      "[225]\tvalid's l2: 4.96247e+08\n",
      "Training until validation scores don't improve for 30 rounds\n",
      "[100]\tvalid's l2: 5.09944e+08\n",
      "[200]\tvalid's l2: 4.9932e+08\n",
      "Early stopping, best iteration is:\n",
      "[251]\tvalid's l2: 4.97342e+08\n",
      "Training until validation scores don't improve for 30 rounds\n",
      "[100]\tvalid's l2: 5.12622e+08\n",
      "[200]\tvalid's l2: 5.00954e+08\n",
      "[300]\tvalid's l2: 4.96836e+08\n",
      "Early stopping, best iteration is:\n",
      "[281]\tvalid's l2: 4.95837e+08\n",
      "Training until validation scores don't improve for 30 rounds\n",
      "[100]\tvalid's l2: 5.14698e+08\n",
      "[200]\tvalid's l2: 5.02176e+08\n",
      "[300]\tvalid's l2: 4.98886e+08\n",
      "Early stopping, best iteration is:\n",
      "[350]\tvalid's l2: 4.9652e+08\n",
      "Training until validation scores don't improve for 30 rounds\n",
      "[100]\tvalid's l2: 5.08304e+08\n",
      "[200]\tvalid's l2: 5.00029e+08\n",
      "Early stopping, best iteration is:\n",
      "[269]\tvalid's l2: 4.95286e+08\n",
      "Training until validation scores don't improve for 30 rounds\n",
      "[100]\tvalid's l2: 4.82478e+08\n",
      "Early stopping, best iteration is:\n",
      "[165]\tvalid's l2: 4.81013e+08\n",
      "Training until validation scores don't improve for 30 rounds\n",
      "[100]\tvalid's l2: 4.83065e+08\n",
      "Early stopping, best iteration is:\n",
      "[139]\tvalid's l2: 4.81457e+08\n",
      "Training until validation scores don't improve for 30 rounds\n",
      "[100]\tvalid's l2: 4.82912e+08\n",
      "Early stopping, best iteration is:\n",
      "[133]\tvalid's l2: 4.82555e+08\n",
      "Training until validation scores don't improve for 30 rounds\n",
      "[100]\tvalid's l2: 4.86525e+08\n",
      "Early stopping, best iteration is:\n",
      "[164]\tvalid's l2: 4.82804e+08\n",
      "Training until validation scores don't improve for 30 rounds\n",
      "[100]\tvalid's l2: 4.80723e+08\n",
      "Early stopping, best iteration is:\n",
      "[164]\tvalid's l2: 4.78571e+08\n",
      "Training until validation scores don't improve for 30 rounds\n",
      "[100]\tvalid's l2: 4.80849e+08\n",
      "[200]\tvalid's l2: 4.77481e+08\n",
      "Early stopping, best iteration is:\n",
      "[227]\tvalid's l2: 4.76678e+08\n",
      "Training until validation scores don't improve for 30 rounds\n",
      "[100]\tvalid's l2: 4.8211e+08\n",
      "Early stopping, best iteration is:\n",
      "[122]\tvalid's l2: 4.81141e+08\n",
      "Training until validation scores don't improve for 30 rounds\n",
      "[100]\tvalid's l2: 4.79965e+08\n",
      "Early stopping, best iteration is:\n",
      "[166]\tvalid's l2: 4.7822e+08\n",
      "Training until validation scores don't improve for 30 rounds\n",
      "[100]\tvalid's l2: 4.82253e+08\n",
      "[200]\tvalid's l2: 4.78153e+08\n",
      "[300]\tvalid's l2: 4.77321e+08\n",
      "Early stopping, best iteration is:\n",
      "[282]\tvalid's l2: 4.76614e+08\n",
      "Training until validation scores don't improve for 30 rounds\n",
      "[100]\tvalid's l2: 4.79462e+08\n",
      "[200]\tvalid's l2: 4.75689e+08\n",
      "Early stopping, best iteration is:\n",
      "[220]\tvalid's l2: 4.7428e+08\n",
      "Training until validation scores don't improve for 30 rounds\n",
      "[100]\tvalid's l2: 5.09655e+08\n",
      "[200]\tvalid's l2: 5.04576e+08\n",
      "Early stopping, best iteration is:\n",
      "[256]\tvalid's l2: 5.02947e+08\n",
      "Training until validation scores don't improve for 30 rounds\n",
      "[100]\tvalid's l2: 5.07071e+08\n",
      "[200]\tvalid's l2: 5.00762e+08\n",
      "Early stopping, best iteration is:\n",
      "[221]\tvalid's l2: 4.99533e+08\n",
      "Training until validation scores don't improve for 30 rounds\n",
      "[100]\tvalid's l2: 5.04448e+08\n",
      "[200]\tvalid's l2: 4.98957e+08\n",
      "Early stopping, best iteration is:\n",
      "[208]\tvalid's l2: 4.98684e+08\n",
      "Training until validation scores don't improve for 30 rounds\n",
      "[100]\tvalid's l2: 5.02044e+08\n",
      "[200]\tvalid's l2: 4.99337e+08\n",
      "Early stopping, best iteration is:\n",
      "[203]\tvalid's l2: 4.98918e+08\n",
      "Training until validation scores don't improve for 30 rounds\n",
      "[100]\tvalid's l2: 5.04067e+08\n",
      "Early stopping, best iteration is:\n",
      "[150]\tvalid's l2: 4.98072e+08\n",
      "Training until validation scores don't improve for 30 rounds\n",
      "[100]\tvalid's l2: 4.97112e+08\n",
      "[200]\tvalid's l2: 4.93428e+08\n",
      "Early stopping, best iteration is:\n",
      "[226]\tvalid's l2: 4.9234e+08\n",
      "Training until validation scores don't improve for 30 rounds\n",
      "[100]\tvalid's l2: 4.98453e+08\n",
      "Early stopping, best iteration is:\n",
      "[160]\tvalid's l2: 4.95382e+08\n",
      "Training until validation scores don't improve for 30 rounds\n",
      "[100]\tvalid's l2: 4.99154e+08\n",
      "[200]\tvalid's l2: 4.9386e+08\n",
      "Early stopping, best iteration is:\n",
      "[233]\tvalid's l2: 4.92037e+08\n",
      "Training until validation scores don't improve for 30 rounds\n",
      "[100]\tvalid's l2: 5.06636e+08\n",
      "Early stopping, best iteration is:\n",
      "[156]\tvalid's l2: 5.03468e+08\n",
      "Training until validation scores don't improve for 30 rounds\n",
      "[100]\tvalid's l2: 4.98907e+08\n",
      "[200]\tvalid's l2: 4.94384e+08\n",
      "Early stopping, best iteration is:\n",
      "[177]\tvalid's l2: 4.93634e+08\n",
      "Training until validation scores don't improve for 30 rounds\n",
      "[100]\tvalid's l2: 5.29251e+08\n",
      "[200]\tvalid's l2: 5.15117e+08\n",
      "Early stopping, best iteration is:\n",
      "[221]\tvalid's l2: 5.13467e+08\n",
      "Training until validation scores don't improve for 30 rounds\n",
      "[100]\tvalid's l2: 5.25051e+08\n",
      "[200]\tvalid's l2: 5.08307e+08\n",
      "[300]\tvalid's l2: 5.06684e+08\n",
      "Early stopping, best iteration is:\n",
      "[270]\tvalid's l2: 5.06134e+08\n",
      "Training until validation scores don't improve for 30 rounds\n",
      "[100]\tvalid's l2: 5.22608e+08\n",
      "[200]\tvalid's l2: 5.0562e+08\n",
      "[300]\tvalid's l2: 5.02554e+08\n",
      "Early stopping, best iteration is:\n",
      "[345]\tvalid's l2: 5.01957e+08\n",
      "Training until validation scores don't improve for 30 rounds\n",
      "[100]\tvalid's l2: 5.2429e+08\n",
      "[200]\tvalid's l2: 5.07757e+08\n",
      "[300]\tvalid's l2: 5.05226e+08\n",
      "Early stopping, best iteration is:\n",
      "[321]\tvalid's l2: 5.04381e+08\n",
      "Training until validation scores don't improve for 30 rounds\n",
      "[100]\tvalid's l2: 5.24186e+08\n",
      "[200]\tvalid's l2: 5.08449e+08\n",
      "[300]\tvalid's l2: 5.0514e+08\n",
      "Early stopping, best iteration is:\n",
      "[301]\tvalid's l2: 5.04945e+08\n",
      "Training until validation scores don't improve for 30 rounds\n",
      "[100]\tvalid's l2: 5.2256e+08\n",
      "[200]\tvalid's l2: 5.07252e+08\n",
      "Early stopping, best iteration is:\n",
      "[249]\tvalid's l2: 5.04264e+08\n",
      "Training until validation scores don't improve for 30 rounds\n",
      "[100]\tvalid's l2: 5.2257e+08\n",
      "[200]\tvalid's l2: 5.05075e+08\n",
      "Early stopping, best iteration is:\n",
      "[254]\tvalid's l2: 5.02683e+08\n",
      "Training until validation scores don't improve for 30 rounds\n",
      "[100]\tvalid's l2: 5.19187e+08\n",
      "[200]\tvalid's l2: 5.01695e+08\n",
      "Early stopping, best iteration is:\n",
      "[241]\tvalid's l2: 4.99923e+08\n",
      "Training until validation scores don't improve for 30 rounds\n",
      "[100]\tvalid's l2: 5.26535e+08\n",
      "[200]\tvalid's l2: 5.10675e+08\n",
      "Early stopping, best iteration is:\n",
      "[249]\tvalid's l2: 5.08933e+08\n",
      "Training until validation scores don't improve for 30 rounds\n",
      "[100]\tvalid's l2: 5.2239e+08\n",
      "[200]\tvalid's l2: 5.04754e+08\n",
      "Early stopping, best iteration is:\n",
      "[228]\tvalid's l2: 5.02364e+08\n",
      "Training until validation scores don't improve for 30 rounds\n",
      "[100]\tvalid's l2: 4.87778e+08\n",
      "[200]\tvalid's l2: 4.84586e+08\n",
      "Early stopping, best iteration is:\n",
      "[257]\tvalid's l2: 4.83159e+08\n",
      "Training until validation scores don't improve for 30 rounds\n",
      "[100]\tvalid's l2: 4.8591e+08\n",
      "[200]\tvalid's l2: 4.82377e+08\n",
      "Early stopping, best iteration is:\n",
      "[172]\tvalid's l2: 4.81481e+08\n",
      "Training until validation scores don't improve for 30 rounds\n",
      "[100]\tvalid's l2: 4.86983e+08\n",
      "Early stopping, best iteration is:\n",
      "[127]\tvalid's l2: 4.84616e+08\n",
      "Training until validation scores don't improve for 30 rounds\n",
      "[100]\tvalid's l2: 4.86479e+08\n",
      "Early stopping, best iteration is:\n",
      "[82]\tvalid's l2: 4.86307e+08\n",
      "Training until validation scores don't improve for 30 rounds\n",
      "[100]\tvalid's l2: 4.80408e+08\n",
      "[200]\tvalid's l2: 4.78575e+08\n",
      "Early stopping, best iteration is:\n",
      "[179]\tvalid's l2: 4.77901e+08\n",
      "Training until validation scores don't improve for 30 rounds\n",
      "[100]\tvalid's l2: 4.81975e+08\n",
      "[200]\tvalid's l2: 4.7878e+08\n",
      "Early stopping, best iteration is:\n",
      "[262]\tvalid's l2: 4.77487e+08\n",
      "Training until validation scores don't improve for 30 rounds\n",
      "[100]\tvalid's l2: 4.88441e+08\n",
      "[200]\tvalid's l2: 4.83865e+08\n",
      "Early stopping, best iteration is:\n",
      "[175]\tvalid's l2: 4.8325e+08\n",
      "Training until validation scores don't improve for 30 rounds\n",
      "[100]\tvalid's l2: 4.81157e+08\n",
      "Early stopping, best iteration is:\n",
      "[148]\tvalid's l2: 4.78772e+08\n",
      "Training until validation scores don't improve for 30 rounds\n",
      "[100]\tvalid's l2: 4.87019e+08\n",
      "[200]\tvalid's l2: 4.83555e+08\n",
      "Early stopping, best iteration is:\n",
      "[197]\tvalid's l2: 4.83534e+08\n",
      "Training until validation scores don't improve for 30 rounds\n",
      "[100]\tvalid's l2: 4.8226e+08\n",
      "[200]\tvalid's l2: 4.79804e+08\n",
      "Early stopping, best iteration is:\n",
      "[184]\tvalid's l2: 4.79569e+08\n"
     ]
    },
    {
     "name": "stdout",
     "output_type": "stream",
     "text": [
      "Training until validation scores don't improve for 30 rounds\n",
      "[100]\tvalid's l2: 4.72617e+08\n",
      "Early stopping, best iteration is:\n",
      "[113]\tvalid's l2: 4.72116e+08\n",
      "Training until validation scores don't improve for 30 rounds\n",
      "[100]\tvalid's l2: 4.70521e+08\n",
      "Early stopping, best iteration is:\n",
      "[159]\tvalid's l2: 4.68551e+08\n",
      "Training until validation scores don't improve for 30 rounds\n",
      "[100]\tvalid's l2: 4.6734e+08\n",
      "Early stopping, best iteration is:\n",
      "[128]\tvalid's l2: 4.65488e+08\n",
      "Training until validation scores don't improve for 30 rounds\n",
      "[100]\tvalid's l2: 4.70692e+08\n",
      "Early stopping, best iteration is:\n",
      "[103]\tvalid's l2: 4.69827e+08\n",
      "Training until validation scores don't improve for 30 rounds\n",
      "[100]\tvalid's l2: 4.66132e+08\n",
      "Early stopping, best iteration is:\n",
      "[118]\tvalid's l2: 4.65117e+08\n",
      "Training until validation scores don't improve for 30 rounds\n",
      "[100]\tvalid's l2: 4.63794e+08\n",
      "Early stopping, best iteration is:\n",
      "[130]\tvalid's l2: 4.62487e+08\n",
      "Training until validation scores don't improve for 30 rounds\n",
      "[100]\tvalid's l2: 4.72978e+08\n",
      "Early stopping, best iteration is:\n",
      "[126]\tvalid's l2: 4.72186e+08\n",
      "Training until validation scores don't improve for 30 rounds\n",
      "[100]\tvalid's l2: 4.67156e+08\n",
      "Early stopping, best iteration is:\n",
      "[98]\tvalid's l2: 4.66832e+08\n",
      "Training until validation scores don't improve for 30 rounds\n",
      "[100]\tvalid's l2: 4.68809e+08\n",
      "Early stopping, best iteration is:\n",
      "[113]\tvalid's l2: 4.67548e+08\n",
      "Training until validation scores don't improve for 30 rounds\n",
      "[100]\tvalid's l2: 4.67485e+08\n",
      "[200]\tvalid's l2: 4.65884e+08\n",
      "Early stopping, best iteration is:\n",
      "[206]\tvalid's l2: 4.65543e+08\n"
     ]
    },
    {
     "name": "stderr",
     "output_type": "stream",
     "text": [
      "[Parallel(n_jobs=1)]: Done 100 out of 100 | elapsed:  2.1min finished\n"
     ]
    },
    {
     "name": "stdout",
     "output_type": "stream",
     "text": [
      "Training until validation scores don't improve for 30 rounds\n",
      "[100]\tvalid's l2: 4.67128e+08\n",
      "Early stopping, best iteration is:\n",
      "[137]\tvalid's l2: 4.66067e+08\n"
     ]
    },
    {
     "data": {
      "text/plain": [
       "RandomizedSearchCV(cv=KFold(n_splits=10, random_state=100, shuffle=True),\n",
       "                   estimator=LGBMRegressor(metric='None', n_estimators=5000,\n",
       "                                           random_state=314),\n",
       "                   param_distributions={'colsample_bytree': <scipy.stats._distn_infrastructure.rv_frozen object at 0x0000017FE7643048>,\n",
       "                                        'min_child_samples': <scipy.stats._distn_infrastructure.rv_frozen object at 0x0000017FE7624A88>,\n",
       "                                        '...d_weight': [1e-05, 0.001, 0.01,\n",
       "                                                             0.1, 1, 10.0,\n",
       "                                                             100.0, 1000.0,\n",
       "                                                             10000.0],\n",
       "                                        'num_leaves': <scipy.stats._distn_infrastructure.rv_frozen object at 0x0000017FE7624988>,\n",
       "                                        'reg_alpha': [0, 0.1, 1, 2, 5, 7, 10,\n",
       "                                                      50, 100],\n",
       "                                        'reg_lambda': [0, 0.1, 1, 5, 10, 20, 50,\n",
       "                                                       100],\n",
       "                                        'subsample': <scipy.stats._distn_infrastructure.rv_frozen object at 0x0000017FE7624E08>},\n",
       "                   random_state=314, scoring='r2', verbose=True)"
      ]
     },
     "execution_count": 66,
     "metadata": {},
     "output_type": "execute_result"
    }
   ],
   "source": [
    "# using KFold for cross validaiton - 10 Fold\n",
    "cv = KFold(n_splits = 10, shuffle = True, random_state = 100)\n",
    "\n",
    "# creating the object for LGBM\n",
    "clf = lgb(max_depth=-1, random_state=314, silent=True, metric='None', n_jobs=-1, n_estimators=5000)\n",
    "\n",
    "# using RandomizedSearchCV to loop through predefined hyperparameters and fit the estimator on the training set\n",
    "# and validating on Validation set\n",
    "\n",
    "gs = RandomizedSearchCV(\n",
    "    estimator=clf, \n",
    "    param_distributions=param_test, \n",
    "    n_iter=n_HP_points_to_test,\n",
    "    scoring='r2',\n",
    "    cv=cv,\n",
    "    refit=True,\n",
    "    random_state=314,\n",
    "    verbose=True)\n",
    "\n",
    "# Lets train !!!!\n",
    "gs.fit(X_train, y_train, **params)"
   ]
  },
  {
   "cell_type": "markdown",
   "metadata": {},
   "source": [
    "##### Lets frame all the score in decreasing order of scores"
   ]
  },
  {
   "cell_type": "code",
   "execution_count": 67,
   "metadata": {
    "scrolled": true
   },
   "outputs": [
    {
     "data": {
      "text/html": [
       "<div>\n",
       "<style scoped>\n",
       "    .dataframe tbody tr th:only-of-type {\n",
       "        vertical-align: middle;\n",
       "    }\n",
       "\n",
       "    .dataframe tbody tr th {\n",
       "        vertical-align: top;\n",
       "    }\n",
       "\n",
       "    .dataframe thead th {\n",
       "        text-align: right;\n",
       "    }\n",
       "</style>\n",
       "<table border=\"1\" class=\"dataframe\">\n",
       "  <thead>\n",
       "    <tr style=\"text-align: right;\">\n",
       "      <th></th>\n",
       "      <th>mean_fit_time</th>\n",
       "      <th>std_fit_time</th>\n",
       "      <th>mean_score_time</th>\n",
       "      <th>std_score_time</th>\n",
       "      <th>param_colsample_bytree</th>\n",
       "      <th>param_min_child_samples</th>\n",
       "      <th>param_min_child_weight</th>\n",
       "      <th>param_num_leaves</th>\n",
       "      <th>param_reg_alpha</th>\n",
       "      <th>param_reg_lambda</th>\n",
       "      <th>param_subsample</th>\n",
       "      <th>params</th>\n",
       "      <th>split0_test_score</th>\n",
       "      <th>split1_test_score</th>\n",
       "      <th>split2_test_score</th>\n",
       "      <th>split3_test_score</th>\n",
       "      <th>split4_test_score</th>\n",
       "      <th>split5_test_score</th>\n",
       "      <th>split6_test_score</th>\n",
       "      <th>split7_test_score</th>\n",
       "      <th>split8_test_score</th>\n",
       "      <th>split9_test_score</th>\n",
       "      <th>mean_test_score</th>\n",
       "      <th>std_test_score</th>\n",
       "      <th>rank_test_score</th>\n",
       "    </tr>\n",
       "  </thead>\n",
       "  <tbody>\n",
       "    <tr>\n",
       "      <th>9</th>\n",
       "      <td>0.564454</td>\n",
       "      <td>0.066276</td>\n",
       "      <td>0.018650</td>\n",
       "      <td>0.003124</td>\n",
       "      <td>0.556075</td>\n",
       "      <td>103</td>\n",
       "      <td>10</td>\n",
       "      <td>22</td>\n",
       "      <td>2</td>\n",
       "      <td>1</td>\n",
       "      <td>0.893911</td>\n",
       "      <td>{'colsample_bytree': 0.55607546409401, 'min_child_samples': 103, 'min_child_weight': 10.0, 'num_leaves': 22, 'reg_alpha': 2, 'reg_lambda': 1, 'subsample': 0.8939112927620336}</td>\n",
       "      <td>0.743350</td>\n",
       "      <td>0.816275</td>\n",
       "      <td>0.806822</td>\n",
       "      <td>0.810009</td>\n",
       "      <td>0.815701</td>\n",
       "      <td>0.783904</td>\n",
       "      <td>0.782236</td>\n",
       "      <td>0.798413</td>\n",
       "      <td>0.755927</td>\n",
       "      <td>0.804012</td>\n",
       "      <td>0.791665</td>\n",
       "      <td>0.023892</td>\n",
       "      <td>1</td>\n",
       "    </tr>\n",
       "    <tr>\n",
       "      <th>5</th>\n",
       "      <td>0.509870</td>\n",
       "      <td>0.090504</td>\n",
       "      <td>0.019947</td>\n",
       "      <td>0.004136</td>\n",
       "      <td>0.687909</td>\n",
       "      <td>163</td>\n",
       "      <td>10</td>\n",
       "      <td>10</td>\n",
       "      <td>1</td>\n",
       "      <td>0.1</td>\n",
       "      <td>0.677506</td>\n",
       "      <td>{'colsample_bytree': 0.6879091728281055, 'min_child_samples': 163, 'min_child_weight': 10.0, 'num_leaves': 10, 'reg_alpha': 1, 'reg_lambda': 0.1, 'subsample': 0.6775057521029393}</td>\n",
       "      <td>0.741640</td>\n",
       "      <td>0.813780</td>\n",
       "      <td>0.805910</td>\n",
       "      <td>0.807233</td>\n",
       "      <td>0.810583</td>\n",
       "      <td>0.779057</td>\n",
       "      <td>0.780695</td>\n",
       "      <td>0.797566</td>\n",
       "      <td>0.753922</td>\n",
       "      <td>0.799406</td>\n",
       "      <td>0.788979</td>\n",
       "      <td>0.023497</td>\n",
       "      <td>2</td>\n",
       "    </tr>\n",
       "    <tr>\n",
       "      <th>8</th>\n",
       "      <td>0.556203</td>\n",
       "      <td>0.103711</td>\n",
       "      <td>0.021768</td>\n",
       "      <td>0.004721</td>\n",
       "      <td>0.727199</td>\n",
       "      <td>212</td>\n",
       "      <td>0.01</td>\n",
       "      <td>13</td>\n",
       "      <td>0.1</td>\n",
       "      <td>5</td>\n",
       "      <td>0.447821</td>\n",
       "      <td>{'colsample_bytree': 0.7271985991098294, 'min_child_samples': 212, 'min_child_weight': 0.01, 'num_leaves': 13, 'reg_alpha': 0.1, 'reg_lambda': 5, 'subsample': 0.44782056066342807}</td>\n",
       "      <td>0.743199</td>\n",
       "      <td>0.814840</td>\n",
       "      <td>0.805236</td>\n",
       "      <td>0.802374</td>\n",
       "      <td>0.809093</td>\n",
       "      <td>0.780888</td>\n",
       "      <td>0.781415</td>\n",
       "      <td>0.796185</td>\n",
       "      <td>0.756490</td>\n",
       "      <td>0.799383</td>\n",
       "      <td>0.788910</td>\n",
       "      <td>0.022251</td>\n",
       "      <td>3</td>\n",
       "    </tr>\n",
       "    <tr>\n",
       "      <th>1</th>\n",
       "      <td>0.998874</td>\n",
       "      <td>0.116854</td>\n",
       "      <td>0.026827</td>\n",
       "      <td>0.004492</td>\n",
       "      <td>0.973167</td>\n",
       "      <td>171</td>\n",
       "      <td>1e-05</td>\n",
       "      <td>41</td>\n",
       "      <td>10</td>\n",
       "      <td>100</td>\n",
       "      <td>0.557573</td>\n",
       "      <td>{'colsample_bytree': 0.9731668400523877, 'min_child_samples': 171, 'min_child_weight': 1e-05, 'num_leaves': 41, 'reg_alpha': 10, 'reg_lambda': 100, 'subsample': 0.5575732396028996}</td>\n",
       "      <td>0.737554</td>\n",
       "      <td>0.812157</td>\n",
       "      <td>0.795958</td>\n",
       "      <td>0.798836</td>\n",
       "      <td>0.806764</td>\n",
       "      <td>0.775291</td>\n",
       "      <td>0.782449</td>\n",
       "      <td>0.787004</td>\n",
       "      <td>0.755845</td>\n",
       "      <td>0.794293</td>\n",
       "      <td>0.784615</td>\n",
       "      <td>0.021940</td>\n",
       "      <td>4</td>\n",
       "    </tr>\n",
       "    <tr>\n",
       "      <th>0</th>\n",
       "      <td>0.933929</td>\n",
       "      <td>0.114328</td>\n",
       "      <td>0.032123</td>\n",
       "      <td>0.006029</td>\n",
       "      <td>0.950124</td>\n",
       "      <td>301</td>\n",
       "      <td>0.1</td>\n",
       "      <td>28</td>\n",
       "      <td>0</td>\n",
       "      <td>100</td>\n",
       "      <td>0.932647</td>\n",
       "      <td>{'colsample_bytree': 0.9501241488957805, 'min_child_samples': 301, 'min_child_weight': 0.1, 'num_leaves': 28, 'reg_alpha': 0, 'reg_lambda': 100, 'subsample': 0.9326466073236168}</td>\n",
       "      <td>0.736174</td>\n",
       "      <td>0.808361</td>\n",
       "      <td>0.800447</td>\n",
       "      <td>0.797231</td>\n",
       "      <td>0.799818</td>\n",
       "      <td>0.774377</td>\n",
       "      <td>0.778616</td>\n",
       "      <td>0.791159</td>\n",
       "      <td>0.750823</td>\n",
       "      <td>0.794897</td>\n",
       "      <td>0.783190</td>\n",
       "      <td>0.022276</td>\n",
       "      <td>5</td>\n",
       "    </tr>\n",
       "    <tr>\n",
       "      <th>6</th>\n",
       "      <td>1.287062</td>\n",
       "      <td>0.165994</td>\n",
       "      <td>0.035310</td>\n",
       "      <td>0.007123</td>\n",
       "      <td>0.875437</td>\n",
       "      <td>372</td>\n",
       "      <td>10</td>\n",
       "      <td>44</td>\n",
       "      <td>1</td>\n",
       "      <td>0</td>\n",
       "      <td>0.568664</td>\n",
       "      <td>{'colsample_bytree': 0.8754369812451743, 'min_child_samples': 372, 'min_child_weight': 10.0, 'num_leaves': 44, 'reg_alpha': 1, 'reg_lambda': 0, 'subsample': 0.568664015245299}</td>\n",
       "      <td>0.740086</td>\n",
       "      <td>0.807535</td>\n",
       "      <td>0.797766</td>\n",
       "      <td>0.796300</td>\n",
       "      <td>0.796321</td>\n",
       "      <td>0.773024</td>\n",
       "      <td>0.777918</td>\n",
       "      <td>0.791193</td>\n",
       "      <td>0.752329</td>\n",
       "      <td>0.797069</td>\n",
       "      <td>0.782954</td>\n",
       "      <td>0.020850</td>\n",
       "      <td>6</td>\n",
       "    </tr>\n",
       "    <tr>\n",
       "      <th>4</th>\n",
       "      <td>1.055085</td>\n",
       "      <td>0.206515</td>\n",
       "      <td>0.042190</td>\n",
       "      <td>0.009357</td>\n",
       "      <td>0.806323</td>\n",
       "      <td>491</td>\n",
       "      <td>0.1</td>\n",
       "      <td>24</td>\n",
       "      <td>100</td>\n",
       "      <td>20</td>\n",
       "      <td>0.656442</td>\n",
       "      <td>{'colsample_bytree': 0.8063232376017694, 'min_child_samples': 491, 'min_child_weight': 0.1, 'num_leaves': 24, 'reg_alpha': 100, 'reg_lambda': 20, 'subsample': 0.6564417745729645}</td>\n",
       "      <td>0.743788</td>\n",
       "      <td>0.806217</td>\n",
       "      <td>0.797298</td>\n",
       "      <td>0.791184</td>\n",
       "      <td>0.794250</td>\n",
       "      <td>0.764321</td>\n",
       "      <td>0.776718</td>\n",
       "      <td>0.786330</td>\n",
       "      <td>0.748327</td>\n",
       "      <td>0.797007</td>\n",
       "      <td>0.780544</td>\n",
       "      <td>0.020524</td>\n",
       "      <td>7</td>\n",
       "    </tr>\n",
       "    <tr>\n",
       "      <th>7</th>\n",
       "      <td>1.394324</td>\n",
       "      <td>0.169116</td>\n",
       "      <td>0.043889</td>\n",
       "      <td>0.006074</td>\n",
       "      <td>0.404829</td>\n",
       "      <td>350</td>\n",
       "      <td>0.001</td>\n",
       "      <td>36</td>\n",
       "      <td>1</td>\n",
       "      <td>5</td>\n",
       "      <td>0.927402</td>\n",
       "      <td>{'colsample_bytree': 0.404828563763895, 'min_child_samples': 350, 'min_child_weight': 0.001, 'num_leaves': 36, 'reg_alpha': 1, 'reg_lambda': 5, 'subsample': 0.9274016358891894}</td>\n",
       "      <td>0.739050</td>\n",
       "      <td>0.803806</td>\n",
       "      <td>0.795103</td>\n",
       "      <td>0.796679</td>\n",
       "      <td>0.793582</td>\n",
       "      <td>0.768489</td>\n",
       "      <td>0.773965</td>\n",
       "      <td>0.789094</td>\n",
       "      <td>0.749471</td>\n",
       "      <td>0.795154</td>\n",
       "      <td>0.780439</td>\n",
       "      <td>0.020846</td>\n",
       "      <td>8</td>\n",
       "    </tr>\n",
       "    <tr>\n",
       "      <th>3</th>\n",
       "      <td>2.199049</td>\n",
       "      <td>0.425418</td>\n",
       "      <td>0.079404</td>\n",
       "      <td>0.009631</td>\n",
       "      <td>0.819604</td>\n",
       "      <td>422</td>\n",
       "      <td>1000</td>\n",
       "      <td>28</td>\n",
       "      <td>2</td>\n",
       "      <td>5</td>\n",
       "      <td>0.664986</td>\n",
       "      <td>{'colsample_bytree': 0.8196039247657971, 'min_child_samples': 422, 'min_child_weight': 1000.0, 'num_leaves': 28, 'reg_alpha': 2, 'reg_lambda': 5, 'subsample': 0.6649855489918759}</td>\n",
       "      <td>0.735913</td>\n",
       "      <td>0.803062</td>\n",
       "      <td>0.790043</td>\n",
       "      <td>0.792719</td>\n",
       "      <td>0.788583</td>\n",
       "      <td>0.764076</td>\n",
       "      <td>0.770644</td>\n",
       "      <td>0.784089</td>\n",
       "      <td>0.736166</td>\n",
       "      <td>0.786523</td>\n",
       "      <td>0.775182</td>\n",
       "      <td>0.022139</td>\n",
       "      <td>9</td>\n",
       "    </tr>\n",
       "    <tr>\n",
       "      <th>2</th>\n",
       "      <td>2.664428</td>\n",
       "      <td>1.447176</td>\n",
       "      <td>0.071611</td>\n",
       "      <td>0.031907</td>\n",
       "      <td>0.775604</td>\n",
       "      <td>424</td>\n",
       "      <td>10000</td>\n",
       "      <td>30</td>\n",
       "      <td>0</td>\n",
       "      <td>100</td>\n",
       "      <td>0.934866</td>\n",
       "      <td>{'colsample_bytree': 0.7756038066515227, 'min_child_samples': 424, 'min_child_weight': 10000.0, 'num_leaves': 30, 'reg_alpha': 0, 'reg_lambda': 100, 'subsample': 0.9348658101450167}</td>\n",
       "      <td>0.373585</td>\n",
       "      <td>0.415889</td>\n",
       "      <td>0.394900</td>\n",
       "      <td>0.380943</td>\n",
       "      <td>0.403325</td>\n",
       "      <td>0.393941</td>\n",
       "      <td>0.407379</td>\n",
       "      <td>0.412761</td>\n",
       "      <td>0.371823</td>\n",
       "      <td>0.380823</td>\n",
       "      <td>0.393537</td>\n",
       "      <td>0.015325</td>\n",
       "      <td>10</td>\n",
       "    </tr>\n",
       "  </tbody>\n",
       "</table>\n",
       "</div>"
      ],
      "text/plain": [
       "   mean_fit_time  std_fit_time  mean_score_time  std_score_time  \\\n",
       "9       0.564454      0.066276         0.018650        0.003124   \n",
       "5       0.509870      0.090504         0.019947        0.004136   \n",
       "8       0.556203      0.103711         0.021768        0.004721   \n",
       "1       0.998874      0.116854         0.026827        0.004492   \n",
       "0       0.933929      0.114328         0.032123        0.006029   \n",
       "6       1.287062      0.165994         0.035310        0.007123   \n",
       "4       1.055085      0.206515         0.042190        0.009357   \n",
       "7       1.394324      0.169116         0.043889        0.006074   \n",
       "3       2.199049      0.425418         0.079404        0.009631   \n",
       "2       2.664428      1.447176         0.071611        0.031907   \n",
       "\n",
       "  param_colsample_bytree param_min_child_samples param_min_child_weight  \\\n",
       "9               0.556075                     103                     10   \n",
       "5               0.687909                     163                     10   \n",
       "8               0.727199                     212                   0.01   \n",
       "1               0.973167                     171                  1e-05   \n",
       "0               0.950124                     301                    0.1   \n",
       "6               0.875437                     372                     10   \n",
       "4               0.806323                     491                    0.1   \n",
       "7               0.404829                     350                  0.001   \n",
       "3               0.819604                     422                   1000   \n",
       "2               0.775604                     424                  10000   \n",
       "\n",
       "  param_num_leaves param_reg_alpha param_reg_lambda param_subsample  \\\n",
       "9               22               2                1        0.893911   \n",
       "5               10               1              0.1        0.677506   \n",
       "8               13             0.1                5        0.447821   \n",
       "1               41              10              100        0.557573   \n",
       "0               28               0              100        0.932647   \n",
       "6               44               1                0        0.568664   \n",
       "4               24             100               20        0.656442   \n",
       "7               36               1                5        0.927402   \n",
       "3               28               2                5        0.664986   \n",
       "2               30               0              100        0.934866   \n",
       "\n",
       "                                                                                                                                                                                  params  \\\n",
       "9         {'colsample_bytree': 0.55607546409401, 'min_child_samples': 103, 'min_child_weight': 10.0, 'num_leaves': 22, 'reg_alpha': 2, 'reg_lambda': 1, 'subsample': 0.8939112927620336}   \n",
       "5     {'colsample_bytree': 0.6879091728281055, 'min_child_samples': 163, 'min_child_weight': 10.0, 'num_leaves': 10, 'reg_alpha': 1, 'reg_lambda': 0.1, 'subsample': 0.6775057521029393}   \n",
       "8    {'colsample_bytree': 0.7271985991098294, 'min_child_samples': 212, 'min_child_weight': 0.01, 'num_leaves': 13, 'reg_alpha': 0.1, 'reg_lambda': 5, 'subsample': 0.44782056066342807}   \n",
       "1   {'colsample_bytree': 0.9731668400523877, 'min_child_samples': 171, 'min_child_weight': 1e-05, 'num_leaves': 41, 'reg_alpha': 10, 'reg_lambda': 100, 'subsample': 0.5575732396028996}   \n",
       "0      {'colsample_bytree': 0.9501241488957805, 'min_child_samples': 301, 'min_child_weight': 0.1, 'num_leaves': 28, 'reg_alpha': 0, 'reg_lambda': 100, 'subsample': 0.9326466073236168}   \n",
       "6        {'colsample_bytree': 0.8754369812451743, 'min_child_samples': 372, 'min_child_weight': 10.0, 'num_leaves': 44, 'reg_alpha': 1, 'reg_lambda': 0, 'subsample': 0.568664015245299}   \n",
       "4     {'colsample_bytree': 0.8063232376017694, 'min_child_samples': 491, 'min_child_weight': 0.1, 'num_leaves': 24, 'reg_alpha': 100, 'reg_lambda': 20, 'subsample': 0.6564417745729645}   \n",
       "7       {'colsample_bytree': 0.404828563763895, 'min_child_samples': 350, 'min_child_weight': 0.001, 'num_leaves': 36, 'reg_alpha': 1, 'reg_lambda': 5, 'subsample': 0.9274016358891894}   \n",
       "3     {'colsample_bytree': 0.8196039247657971, 'min_child_samples': 422, 'min_child_weight': 1000.0, 'num_leaves': 28, 'reg_alpha': 2, 'reg_lambda': 5, 'subsample': 0.6649855489918759}   \n",
       "2  {'colsample_bytree': 0.7756038066515227, 'min_child_samples': 424, 'min_child_weight': 10000.0, 'num_leaves': 30, 'reg_alpha': 0, 'reg_lambda': 100, 'subsample': 0.9348658101450167}   \n",
       "\n",
       "   split0_test_score  split1_test_score  split2_test_score  split3_test_score  \\\n",
       "9           0.743350           0.816275           0.806822           0.810009   \n",
       "5           0.741640           0.813780           0.805910           0.807233   \n",
       "8           0.743199           0.814840           0.805236           0.802374   \n",
       "1           0.737554           0.812157           0.795958           0.798836   \n",
       "0           0.736174           0.808361           0.800447           0.797231   \n",
       "6           0.740086           0.807535           0.797766           0.796300   \n",
       "4           0.743788           0.806217           0.797298           0.791184   \n",
       "7           0.739050           0.803806           0.795103           0.796679   \n",
       "3           0.735913           0.803062           0.790043           0.792719   \n",
       "2           0.373585           0.415889           0.394900           0.380943   \n",
       "\n",
       "   split4_test_score  split5_test_score  split6_test_score  split7_test_score  \\\n",
       "9           0.815701           0.783904           0.782236           0.798413   \n",
       "5           0.810583           0.779057           0.780695           0.797566   \n",
       "8           0.809093           0.780888           0.781415           0.796185   \n",
       "1           0.806764           0.775291           0.782449           0.787004   \n",
       "0           0.799818           0.774377           0.778616           0.791159   \n",
       "6           0.796321           0.773024           0.777918           0.791193   \n",
       "4           0.794250           0.764321           0.776718           0.786330   \n",
       "7           0.793582           0.768489           0.773965           0.789094   \n",
       "3           0.788583           0.764076           0.770644           0.784089   \n",
       "2           0.403325           0.393941           0.407379           0.412761   \n",
       "\n",
       "   split8_test_score  split9_test_score  mean_test_score  std_test_score  \\\n",
       "9           0.755927           0.804012         0.791665        0.023892   \n",
       "5           0.753922           0.799406         0.788979        0.023497   \n",
       "8           0.756490           0.799383         0.788910        0.022251   \n",
       "1           0.755845           0.794293         0.784615        0.021940   \n",
       "0           0.750823           0.794897         0.783190        0.022276   \n",
       "6           0.752329           0.797069         0.782954        0.020850   \n",
       "4           0.748327           0.797007         0.780544        0.020524   \n",
       "7           0.749471           0.795154         0.780439        0.020846   \n",
       "3           0.736166           0.786523         0.775182        0.022139   \n",
       "2           0.371823           0.380823         0.393537        0.015325   \n",
       "\n",
       "   rank_test_score  \n",
       "9                1  \n",
       "5                2  \n",
       "8                3  \n",
       "1                4  \n",
       "0                5  \n",
       "6                6  \n",
       "4                7  \n",
       "7                8  \n",
       "3                9  \n",
       "2               10  "
      ]
     },
     "execution_count": 67,
     "metadata": {},
     "output_type": "execute_result"
    }
   ],
   "source": [
    "cv_results = pd.DataFrame(gs.cv_results_).sort_values(by = 'rank_test_score')\n",
    "cv_results"
   ]
  },
  {
   "cell_type": "markdown",
   "metadata": {},
   "source": [
    "##### Let check what is the best score and the best parameters based on training set"
   ]
  },
  {
   "cell_type": "code",
   "execution_count": 68,
   "metadata": {
    "scrolled": false
   },
   "outputs": [
    {
     "name": "stdout",
     "output_type": "stream",
     "text": [
      "Best score reached: 0.7916648997080327 \n",
      "\n",
      "Params: {'colsample_bytree': 0.55607546409401, 'min_child_samples': 103, 'min_child_weight': 10.0, 'num_leaves': 22, 'reg_alpha': 2, 'reg_lambda': 1, 'subsample': 0.8939112927620336} \n"
     ]
    }
   ],
   "source": [
    "print('Best score reached: {} \\n\\nParams: {} '.format(gs.best_score_, gs.best_params_))"
   ]
  },
  {
   "cell_type": "markdown",
   "metadata": {},
   "source": [
    "##### Ranking the features based on their importance in the dataset"
   ]
  },
  {
   "cell_type": "code",
   "execution_count": 69,
   "metadata": {},
   "outputs": [],
   "source": [
    "def plot_feature_importance(importance,names,model_type):\n",
    "\n",
    "    #Create arrays from feature importance and feature names\n",
    "    feature_importance = np.array(importance)\n",
    "    feature_names = np.array(names)\n",
    "\n",
    "    #Create a DataFrame using a Dictionary\n",
    "    data={'feature_names':feature_names,'feature_importance':feature_importance}\n",
    "    fi_df = pd.DataFrame(data)\n",
    "\n",
    "    #Sort the DataFrame in order decreasing feature importance\n",
    "    fi_df.sort_values(by=['feature_importance'], ascending=False,inplace=True)\n",
    "\n",
    "    #Define size of bar plot\n",
    "    plt.figure(figsize=(10,8))\n",
    "    \n",
    "    #Plot Searborn bar chart\n",
    "    sns.barplot(x=fi_df['feature_importance'], y=fi_df['feature_names'])\n",
    "\n",
    "    plt.title(model_type + ' FEATURE IMPORTANCE')\n",
    "    plt.xlabel('FEATURE IMPORTANCE')\n",
    "    plt.ylabel('FEATURE NAMES')"
   ]
  },
  {
   "cell_type": "markdown",
   "metadata": {},
   "source": [
    "#### Variance Inflation Factor\n",
    "##### VIF directly depend on R2 score"
   ]
  },
  {
   "cell_type": "code",
   "execution_count": 71,
   "metadata": {
    "scrolled": true
   },
   "outputs": [
    {
     "data": {
      "text/html": [
       "<div>\n",
       "<style scoped>\n",
       "    .dataframe tbody tr th:only-of-type {\n",
       "        vertical-align: middle;\n",
       "    }\n",
       "\n",
       "    .dataframe tbody tr th {\n",
       "        vertical-align: top;\n",
       "    }\n",
       "\n",
       "    .dataframe thead th {\n",
       "        text-align: right;\n",
       "    }\n",
       "</style>\n",
       "<table border=\"1\" class=\"dataframe\">\n",
       "  <thead>\n",
       "    <tr style=\"text-align: right;\">\n",
       "      <th></th>\n",
       "      <th>feature</th>\n",
       "      <th>VIF</th>\n",
       "    </tr>\n",
       "  </thead>\n",
       "  <tbody>\n",
       "    <tr>\n",
       "      <th>8</th>\n",
       "      <td>Income Stability_Low</td>\n",
       "      <td>164.814594</td>\n",
       "    </tr>\n",
       "    <tr>\n",
       "      <th>15</th>\n",
       "      <td>Profession_Working</td>\n",
       "      <td>127.867503</td>\n",
       "    </tr>\n",
       "    <tr>\n",
       "      <th>9</th>\n",
       "      <td>Profession_Commercial associate</td>\n",
       "      <td>60.592908</td>\n",
       "    </tr>\n",
       "    <tr>\n",
       "      <th>12</th>\n",
       "      <td>Profession_State servant</td>\n",
       "      <td>18.660237</td>\n",
       "    </tr>\n",
       "    <tr>\n",
       "      <th>2</th>\n",
       "      <td>Loan Amount Request (USD)</td>\n",
       "      <td>15.262460</td>\n",
       "    </tr>\n",
       "    <tr>\n",
       "      <th>5</th>\n",
       "      <td>Property Price</td>\n",
       "      <td>12.417281</td>\n",
       "    </tr>\n",
       "    <tr>\n",
       "      <th>42</th>\n",
       "      <td>Co-Applicant_1</td>\n",
       "      <td>8.872347</td>\n",
       "    </tr>\n",
       "    <tr>\n",
       "      <th>18</th>\n",
       "      <td>Type of Employment_Medium_Skilled</td>\n",
       "      <td>7.025917</td>\n",
       "    </tr>\n",
       "    <tr>\n",
       "      <th>31</th>\n",
       "      <td>Dependents_2.0</td>\n",
       "      <td>6.325535</td>\n",
       "    </tr>\n",
       "    <tr>\n",
       "      <th>6</th>\n",
       "      <td>Loan Sanction Amount (USD)</td>\n",
       "      <td>6.027072</td>\n",
       "    </tr>\n",
       "    <tr>\n",
       "      <th>19</th>\n",
       "      <td>Location_Semi-Urban</td>\n",
       "      <td>5.086189</td>\n",
       "    </tr>\n",
       "    <tr>\n",
       "      <th>11</th>\n",
       "      <td>Profession_Pensioner</td>\n",
       "      <td>5.073561</td>\n",
       "    </tr>\n",
       "    <tr>\n",
       "      <th>32</th>\n",
       "      <td>Dependents_3.0</td>\n",
       "      <td>3.334970</td>\n",
       "    </tr>\n",
       "    <tr>\n",
       "      <th>27</th>\n",
       "      <td>Dependents_1.0</td>\n",
       "      <td>3.268248</td>\n",
       "    </tr>\n",
       "    <tr>\n",
       "      <th>22</th>\n",
       "      <td>Expense Type 2_Y</td>\n",
       "      <td>3.105736</td>\n",
       "    </tr>\n",
       "    <tr>\n",
       "      <th>16</th>\n",
       "      <td>Type of Employment_High_skilled</td>\n",
       "      <td>2.945351</td>\n",
       "    </tr>\n",
       "    <tr>\n",
       "      <th>3</th>\n",
       "      <td>Current Loan Expenses (USD)</td>\n",
       "      <td>2.429417</td>\n",
       "    </tr>\n",
       "    <tr>\n",
       "      <th>33</th>\n",
       "      <td>Dependents_4.0</td>\n",
       "      <td>2.106733</td>\n",
       "    </tr>\n",
       "    <tr>\n",
       "      <th>24</th>\n",
       "      <td>Has Active Credit Card_Unpossessed</td>\n",
       "      <td>2.106222</td>\n",
       "    </tr>\n",
       "    <tr>\n",
       "      <th>25</th>\n",
       "      <td>Property Location_Semi-Urban</td>\n",
       "      <td>2.042056</td>\n",
       "    </tr>\n",
       "    <tr>\n",
       "      <th>7</th>\n",
       "      <td>Gender_M</td>\n",
       "      <td>2.012767</td>\n",
       "    </tr>\n",
       "    <tr>\n",
       "      <th>39</th>\n",
       "      <td>Property Type_2</td>\n",
       "      <td>1.978557</td>\n",
       "    </tr>\n",
       "    <tr>\n",
       "      <th>23</th>\n",
       "      <td>Has Active Credit Card_Inactive</td>\n",
       "      <td>1.971202</td>\n",
       "    </tr>\n",
       "    <tr>\n",
       "      <th>40</th>\n",
       "      <td>Property Type_3</td>\n",
       "      <td>1.935425</td>\n",
       "    </tr>\n",
       "    <tr>\n",
       "      <th>26</th>\n",
       "      <td>Property Location_Urban</td>\n",
       "      <td>1.923200</td>\n",
       "    </tr>\n",
       "    <tr>\n",
       "      <th>41</th>\n",
       "      <td>Property Type_4</td>\n",
       "      <td>1.919143</td>\n",
       "    </tr>\n",
       "    <tr>\n",
       "      <th>20</th>\n",
       "      <td>Location_Urban</td>\n",
       "      <td>1.693741</td>\n",
       "    </tr>\n",
       "    <tr>\n",
       "      <th>21</th>\n",
       "      <td>Expense Type 1_Y</td>\n",
       "      <td>1.645033</td>\n",
       "    </tr>\n",
       "    <tr>\n",
       "      <th>17</th>\n",
       "      <td>Type of Employment_Low_Skilled</td>\n",
       "      <td>1.466577</td>\n",
       "    </tr>\n",
       "    <tr>\n",
       "      <th>4</th>\n",
       "      <td>Credit Score</td>\n",
       "      <td>1.324605</td>\n",
       "    </tr>\n",
       "    <tr>\n",
       "      <th>0</th>\n",
       "      <td>Age</td>\n",
       "      <td>1.273225</td>\n",
       "    </tr>\n",
       "    <tr>\n",
       "      <th>38</th>\n",
       "      <td>No. of Defaults_1</td>\n",
       "      <td>1.245616</td>\n",
       "    </tr>\n",
       "    <tr>\n",
       "      <th>34</th>\n",
       "      <td>Dependents_5.0</td>\n",
       "      <td>1.154374</td>\n",
       "    </tr>\n",
       "    <tr>\n",
       "      <th>35</th>\n",
       "      <td>Dependents_6.0</td>\n",
       "      <td>1.021665</td>\n",
       "    </tr>\n",
       "    <tr>\n",
       "      <th>10</th>\n",
       "      <td>Profession_Maternity leave</td>\n",
       "      <td>1.008795</td>\n",
       "    </tr>\n",
       "    <tr>\n",
       "      <th>13</th>\n",
       "      <td>Profession_Student</td>\n",
       "      <td>1.008248</td>\n",
       "    </tr>\n",
       "    <tr>\n",
       "      <th>1</th>\n",
       "      <td>Income (USD)</td>\n",
       "      <td>1.005024</td>\n",
       "    </tr>\n",
       "    <tr>\n",
       "      <th>36</th>\n",
       "      <td>Dependents_7.0</td>\n",
       "      <td>1.003531</td>\n",
       "    </tr>\n",
       "    <tr>\n",
       "      <th>14</th>\n",
       "      <td>Profession_Unemployed</td>\n",
       "      <td>1.002913</td>\n",
       "    </tr>\n",
       "    <tr>\n",
       "      <th>30</th>\n",
       "      <td>Dependents_14.0</td>\n",
       "      <td>1.001996</td>\n",
       "    </tr>\n",
       "    <tr>\n",
       "      <th>28</th>\n",
       "      <td>Dependents_10.0</td>\n",
       "      <td>1.001070</td>\n",
       "    </tr>\n",
       "    <tr>\n",
       "      <th>37</th>\n",
       "      <td>Dependents_8.0</td>\n",
       "      <td>1.000993</td>\n",
       "    </tr>\n",
       "    <tr>\n",
       "      <th>29</th>\n",
       "      <td>Dependents_13.0</td>\n",
       "      <td>NaN</td>\n",
       "    </tr>\n",
       "  </tbody>\n",
       "</table>\n",
       "</div>"
      ],
      "text/plain": [
       "                               feature         VIF\n",
       "8                 Income Stability_Low  164.814594\n",
       "15                  Profession_Working  127.867503\n",
       "9      Profession_Commercial associate   60.592908\n",
       "12            Profession_State servant   18.660237\n",
       "2            Loan Amount Request (USD)   15.262460\n",
       "5                       Property Price   12.417281\n",
       "42                      Co-Applicant_1    8.872347\n",
       "18   Type of Employment_Medium_Skilled    7.025917\n",
       "31                      Dependents_2.0    6.325535\n",
       "6           Loan Sanction Amount (USD)    6.027072\n",
       "19                 Location_Semi-Urban    5.086189\n",
       "11                Profession_Pensioner    5.073561\n",
       "32                      Dependents_3.0    3.334970\n",
       "27                      Dependents_1.0    3.268248\n",
       "22                    Expense Type 2_Y    3.105736\n",
       "16     Type of Employment_High_skilled    2.945351\n",
       "3          Current Loan Expenses (USD)    2.429417\n",
       "33                      Dependents_4.0    2.106733\n",
       "24  Has Active Credit Card_Unpossessed    2.106222\n",
       "25        Property Location_Semi-Urban    2.042056\n",
       "7                             Gender_M    2.012767\n",
       "39                     Property Type_2    1.978557\n",
       "23     Has Active Credit Card_Inactive    1.971202\n",
       "40                     Property Type_3    1.935425\n",
       "26             Property Location_Urban    1.923200\n",
       "41                     Property Type_4    1.919143\n",
       "20                      Location_Urban    1.693741\n",
       "21                    Expense Type 1_Y    1.645033\n",
       "17      Type of Employment_Low_Skilled    1.466577\n",
       "4                         Credit Score    1.324605\n",
       "0                                  Age    1.273225\n",
       "38                   No. of Defaults_1    1.245616\n",
       "34                      Dependents_5.0    1.154374\n",
       "35                      Dependents_6.0    1.021665\n",
       "10          Profession_Maternity leave    1.008795\n",
       "13                  Profession_Student    1.008248\n",
       "1                         Income (USD)    1.005024\n",
       "36                      Dependents_7.0    1.003531\n",
       "14               Profession_Unemployed    1.002913\n",
       "30                     Dependents_14.0    1.001996\n",
       "28                     Dependents_10.0    1.001070\n",
       "37                      Dependents_8.0    1.000993\n",
       "29                     Dependents_13.0         NaN"
      ]
     },
     "execution_count": 71,
     "metadata": {},
     "output_type": "execute_result"
    }
   ],
   "source": [
    "from statsmodels.stats.outliers_influence import variance_inflation_factor\n",
    "\n",
    "vif_data = pd.DataFrame()\n",
    "vif_data[\"feature\"] = train.columns\n",
    "vif_data[\"VIF\"] = [variance_inflation_factor(train.values, i)for i in range(len(train.columns))]\n",
    "\n",
    "vif_data.sort_values(by = 'VIF',ascending = False)"
   ]
  },
  {
   "cell_type": "markdown",
   "metadata": {},
   "source": [
    "##### Now we will train our data on optimized hyperparameters parameters"
   ]
  },
  {
   "cell_type": "code",
   "execution_count": 72,
   "metadata": {},
   "outputs": [
    {
     "data": {
      "text/plain": [
       "LGBMRegressor(colsample_bytree=0.55607546409401, min_child_samples=103,\n",
       "              min_child_weight=10.0, num_leaves=22, reg_alpha=2, reg_lambda=1,\n",
       "              subsample=0.8939112927620336)"
      ]
     },
     "execution_count": 72,
     "metadata": {},
     "output_type": "execute_result"
    }
   ],
   "source": [
    "opt_parameters = gs.best_params_\n",
    "\n",
    "clf_final = lgb(**opt_parameters)\n",
    "clf_final.fit(X_train, y_train)"
   ]
  },
  {
   "cell_type": "markdown",
   "metadata": {},
   "source": [
    "##### Plotting the feature importance bar graph"
   ]
  },
  {
   "cell_type": "code",
   "execution_count": 73,
   "metadata": {},
   "outputs": [
    {
     "data": {
      "image/png": "[encoded data removed]",
      "text/plain": [
       "<Figure size 720x576 with 1 Axes>"
      ]
     },
     "metadata": {
      "needs_background": "light"
     },
     "output_type": "display_data"
    }
   ],
   "source": [
    "plot_feature_importance(clf_final.feature_importances_, X_train.columns, 'LIGHT GRADIENT BOOSTING')"
   ]
  },
  {
   "cell_type": "markdown",
   "metadata": {},
   "source": [
    "##### Predicting the target based on Validaiton set"
   ]
  },
  {
   "cell_type": "code",
   "execution_count": 74,
   "metadata": {
    "scrolled": true
   },
   "outputs": [
    {
     "name": "stdout",
     "output_type": "stream",
     "text": [
      "[-1.09070912e+02  5.07837429e+04  8.30531342e+04 ...  4.84317867e+04\n",
      "  2.73159020e+03  1.53885096e+05]\n"
     ]
    }
   ],
   "source": [
    "predictions = clf_final.predict(X_valid)\n",
    "print(predictions)"
   ]
  },
  {
   "cell_type": "markdown",
   "metadata": {},
   "source": [
    "##### Lets check the R2-score on validation set"
   ]
  },
  {
   "attachments": {
    "image.png": {
     "image/png": "[encoded data removed]"
    }
   },
   "cell_type": "markdown",
   "metadata": {},
   "source": [
    "![image.png](attachment:image.png)"
   ]
  },
  {
   "cell_type": "code",
   "execution_count": 75,
   "metadata": {},
   "outputs": [
    {
     "name": "stdout",
     "output_type": "stream",
     "text": [
      "r2_Score on validaiton set:  79.76899648330891\n"
     ]
    }
   ],
   "source": [
    "score = max(0,100*r2_score(y_valid, predictions))\n",
    "print('r2_Score on validaiton set: ',score)"
   ]
  },
  {
   "cell_type": "markdown",
   "metadata": {},
   "source": [
    "##### Lets also check the Adjusted-R2 Score. The adjusted r2 score should not vary much.\n",
    "##### It should be as close to r2 score as possible. It will indicate that the features are not much penalized"
   ]
  },
  {
   "attachments": {
    "image.png": {
     "image/png": "[encoded data removed]"
    }
   },
   "cell_type": "markdown",
   "metadata": {},
   "source": [
    "![image.png](attachment:image.png)"
   ]
  },
  {
   "cell_type": "code",
   "execution_count": 76,
   "metadata": {},
   "outputs": [
    {
     "name": "stdout",
     "output_type": "stream",
     "text": [
      "Adjusted r_squared score on validation set:  0.7962635721057149\n"
     ]
    }
   ],
   "source": [
    "yhat = predictions\n",
    "y = y_valid\n",
    "\n",
    "SS_Residual = sum((y-yhat)**2)       \n",
    "SS_Total = sum((y-np.mean(y))**2)     \n",
    "r_squared = 1 - (float(SS_Residual))/SS_Total\n",
    "adjusted_r_squared = 1 - (1-r_squared)*(len(y)-1)/(len(y)-X.shape[1]-1)\n",
    "print ('Adjusted r_squared score on validation set: ',adjusted_r_squared)"
   ]
  },
  {
   "cell_type": "markdown",
   "metadata": {},
   "source": [
    "##### The difference in r2-score and adj-r2 score is quite small (0.14) which is good"
   ]
  },
  {
   "cell_type": "markdown",
   "metadata": {},
   "source": [
    "### Lets predict the test set !!"
   ]
  },
  {
   "cell_type": "code",
   "execution_count": 77,
   "metadata": {},
   "outputs": [
    {
     "data": {
      "text/plain": [
       "array([91061.47690592, 62722.07436578, -4661.26153704, ...,\n",
       "       -2917.15359531, 68284.71815779, 72401.73041474])"
      ]
     },
     "execution_count": 77,
     "metadata": {},
     "output_type": "execute_result"
    }
   ],
   "source": [
    "predictions_test = clf_final.predict(test)\n",
    "predictions_test"
   ]
  },
  {
   "cell_type": "code",
   "execution_count": 78,
   "metadata": {},
   "outputs": [],
   "source": [
    "# generating the submission file in csv format\n",
    "\n",
    "output = pd.DataFrame({'Customer ID': CustomerId, 'Loan Sanction Amount (USD)': predictions_test})\n",
    "output.to_csv('my_submission2.csv',index = False)"
   ]
  }
 ],
 "metadata": {
  "kernelspec": {
   "display_name": "Python 3",
   "language": "python",
   "name": "python3"
  },
  "language_info": {
   "codemirror_mode": {
    "name": "ipython",
    "version": 3
   },
   "file_extension": ".py",
   "mimetype": "text/x-python",
   "name": "python",
   "nbconvert_exporter": "python",
   "pygments_lexer": "ipython3",
   "version": "3.7.7"
  }
 },
 "nbformat": 4,
 "nbformat_minor": 4
}
